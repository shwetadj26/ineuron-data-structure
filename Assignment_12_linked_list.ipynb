{
  "nbformat": 4,
  "nbformat_minor": 0,
  "metadata": {
    "colab": {
      "provenance": []
    },
    "kernelspec": {
      "name": "python3",
      "display_name": "Python 3"
    },
    "language_info": {
      "name": "python"
    }
  },
  "cells": [
    {
      "cell_type": "markdown",
      "source": [
        "<aside>\n",
        " **Question 1**\n",
        "\n",
        "Given a singly linked list, delete **middle** of the linked list. For example, if given linked list is 1->2->**3**->4->5 then linked list should be modified to 1->2->4->5.If there are **even** nodes, then there would be **two middle** nodes, we need to delete the second middle element. For example, if given linked list is 1->2->3->4->5->6 then it should be modified to 1->2->3->5->6.If the input linked list is NULL or has 1 node, then it should return NULL\n",
        "\n",
        "</aside>"
      ],
      "metadata": {
        "id": "RECgvCh17b_i"
      }
    },
    {
      "cell_type": "code",
      "execution_count": 1,
      "metadata": {
        "colab": {
          "base_uri": "https://localhost:8080/"
        },
        "id": "SN649ImR7NHv",
        "outputId": "86ec29cc-d9b7-4fb5-a024-469853873001"
      },
      "outputs": [
        {
          "output_type": "stream",
          "name": "stdout",
          "text": [
            "1 2 4 5 "
          ]
        }
      ],
      "source": [
        "class ListNode:\n",
        "    def __init__(self, val=0, next=None):\n",
        "        self.val = val\n",
        "        self.next = next\n",
        "\n",
        "def deleteMiddleNode(head):\n",
        "    if head is None or head.next is None:\n",
        "        return None\n",
        "\n",
        "    slow = head\n",
        "    fast = head\n",
        "    prev = None\n",
        "\n",
        "    while fast is not None and fast.next is not None:\n",
        "        fast = fast.next.next\n",
        "        prev = slow\n",
        "        slow = slow.next\n",
        "\n",
        "    prev.next = slow.next\n",
        "\n",
        "    return head\n",
        "\n",
        "\n",
        "head = ListNode(1)\n",
        "head.next = ListNode(2)\n",
        "head.next.next = ListNode(3)\n",
        "head.next.next.next = ListNode(4)\n",
        "head.next.next.next.next = ListNode(5)\n",
        "\n",
        "new_head = deleteMiddleNode(head)\n",
        "\n",
        "\n",
        "current = new_head\n",
        "while current is not None:\n",
        "    print(current.val, end=\" \")\n",
        "    current = current.next\n",
        "\n",
        "\n"
      ]
    },
    {
      "cell_type": "markdown",
      "source": [
        "<aside>\n",
        " **Question 2**\n",
        "\n",
        "Given a linked list of **N** nodes. The task is to check if the linked list has a loop. Linked list can contain self loop.\n",
        "\n",
        "</aside>"
      ],
      "metadata": {
        "id": "b-8T1Em_79gf"
      }
    },
    {
      "cell_type": "code",
      "source": [
        "class ListNode:\n",
        "    def __init__(self, val=0, next=None):\n",
        "        self.val = val\n",
        "        self.next = next\n",
        "\n",
        "def hasCycle(head):\n",
        "    if head is None:\n",
        "        return False\n",
        "\n",
        "    slow = head\n",
        "    fast = head\n",
        "\n",
        "    while fast is not None and fast.next is not None:\n",
        "        slow = slow.next\n",
        "        fast = fast.next.next\n",
        "\n",
        "        if slow == fast:\n",
        "            return True\n",
        "\n",
        "    return False\n",
        "\n",
        "\n",
        "head = ListNode(1)\n",
        "node2 = ListNode(3)\n",
        "node3 = ListNode(4)\n",
        "node4 = ListNode(3)\n",
        "head.next = node2\n",
        "node2.next = node3\n",
        "node3.next = node4\n",
        "node4.next = node2\n",
        "\n",
        "has_cycle = hasCycle(head)\n",
        "\n",
        "print(has_cycle)\n"
      ],
      "metadata": {
        "colab": {
          "base_uri": "https://localhost:8080/"
        },
        "id": "vFMz43bC7_lD",
        "outputId": "37790c18-57a7-4d14-a838-e9bd905bb615"
      },
      "execution_count": 2,
      "outputs": [
        {
          "output_type": "stream",
          "name": "stdout",
          "text": [
            "True\n"
          ]
        }
      ]
    },
    {
      "cell_type": "markdown",
      "source": [
        "<aside>\n",
        "**Question 3**\n",
        "\n",
        "Given a linked list consisting of **L** nodes and given a number **N**. The task is to find the **N**th node from the end of the linked list.\n",
        "\n",
        "</aside>"
      ],
      "metadata": {
        "id": "miboTHT78IPs"
      }
    },
    {
      "cell_type": "code",
      "source": [
        "class ListNode:\n",
        "    def __init__(self, val=0, next=None):\n",
        "        self.val = val\n",
        "        self.next = next\n",
        "\n",
        "def findNthFromEnd(head, N):\n",
        "    if head is None:\n",
        "        return None\n",
        "\n",
        "    first = head\n",
        "    second = head\n",
        "\n",
        "\n",
        "    for _ in range(N):\n",
        "        if first is None:\n",
        "            return None\n",
        "        first = first.next\n",
        "\n",
        "    while first is not None:\n",
        "        first = first.next\n",
        "        second = second.next\n",
        "\n",
        "    return second.val\n",
        "\n",
        "head = ListNode(1)\n",
        "head.next = ListNode(2)\n",
        "head.next.next = ListNode(3)\n",
        "head.next.next.next = ListNode(4)\n",
        "head.next.next.next.next = ListNode(5)\n",
        "head.next.next.next.next.next = ListNode(6)\n",
        "head.next.next.next.next.next.next = ListNode(7)\n",
        "head.next.next.next.next.next.next.next = ListNode(8)\n",
        "head.next.next.next.next.next.next.next.next = ListNode(9)\n",
        "\n",
        "N = 2\n",
        "result = findNthFromEnd(head, N)\n",
        "\n",
        "print(result)\n"
      ],
      "metadata": {
        "colab": {
          "base_uri": "https://localhost:8080/"
        },
        "id": "R3aCIJw18dEq",
        "outputId": "39c58cdc-3b39-483a-a837-349a9ff7567a"
      },
      "execution_count": 3,
      "outputs": [
        {
          "output_type": "stream",
          "name": "stdout",
          "text": [
            "8\n"
          ]
        }
      ]
    },
    {
      "cell_type": "markdown",
      "source": [
        "<aside>\n",
        " **Question 4**\n",
        "\n",
        "Given a singly linked list of characters, write a function that returns true if the given list is a palindrome, else false\n",
        "\n",
        "</aside>"
      ],
      "metadata": {
        "id": "wtyQ1yXk8dUB"
      }
    },
    {
      "cell_type": "code",
      "source": [
        "class ListNode:\n",
        "    def __init__(self, val=0, next=None):\n",
        "        self.val = val\n",
        "        self.next = next\n",
        "\n",
        "def isPalindrome(head):\n",
        "    if head is None or head.next is None:\n",
        "        return True\n",
        "\n",
        "    slow = head\n",
        "    fast = head\n",
        "\n",
        "    while fast is not None and fast.next is not None:\n",
        "        slow = slow.next\n",
        "        fast = fast.next.next\n",
        "\n",
        "    prev = None\n",
        "    current = slow\n",
        "    while current is not None:\n",
        "        next_node = current.next\n",
        "        current.next = prev\n",
        "        prev = current\n",
        "        current = next_node\n",
        "\n",
        "    left = head\n",
        "    right = prev\n",
        "    while right is not None:\n",
        "        if left.val != right.val:\n",
        "            return False\n",
        "        left = left.next\n",
        "        right = right.next\n",
        "\n",
        "    return True\n",
        "\n",
        "head1 = ListNode('R')\n",
        "head1.next = ListNode('A')\n",
        "head1.next.next = ListNode('D')\n",
        "head1.next.next.next = ListNode('A')\n",
        "head1.next.next.next.next = ListNode('R')\n",
        "\n",
        "\n",
        "\n",
        "print(isPalindrome(head1))\n",
        "\n"
      ],
      "metadata": {
        "colab": {
          "base_uri": "https://localhost:8080/"
        },
        "id": "TsFSytZ_8hV_",
        "outputId": "cdcc0972-a861-4a42-f758-558642c9b3be"
      },
      "execution_count": 5,
      "outputs": [
        {
          "output_type": "stream",
          "name": "stdout",
          "text": [
            "True\n"
          ]
        }
      ]
    },
    {
      "cell_type": "markdown",
      "source": [
        "<aside>\n",
        " **Question 5**\n",
        "\n",
        "Given a linked list of **N** nodes such that it may contain a loop.\n",
        "\n",
        "A loop here means that the last node of the link list is connected to the node at position X(1-based index). If the link list does not have any loop, X=0.\n",
        "\n",
        "Remove the loop from the linked list, if it is present, i.e. unlink the last node which is forming the loop.\n",
        "\n",
        "\n",
        "</aside>"
      ],
      "metadata": {
        "id": "Ymaot6659KZx"
      }
    },
    {
      "cell_type": "code",
      "source": [
        "class ListNode:\n",
        "    def __init__(self, val=0, next=None):\n",
        "        self.val = val\n",
        "        self.next = next\n",
        "\n",
        "def detectAndRemoveLoop(head):\n",
        "    if head is None or head.next is None:\n",
        "        return head\n",
        "\n",
        "    slow = head\n",
        "    fast = head\n",
        "\n",
        "    while fast is not None and fast.next is not None:\n",
        "        slow = slow.next\n",
        "        fast = fast.next.next\n",
        "\n",
        "        if slow == fast:\n",
        "            break\n",
        "\n",
        "    if slow != fast:\n",
        "        return head\n",
        "\n",
        "    slow = head\n",
        "\n",
        "    while slow.next != fast.next:\n",
        "        slow = slow.next\n",
        "        fast = fast.next\n",
        "\n",
        "    fast.next = None\n",
        "\n",
        "    return head\n",
        "\n",
        "head = ListNode(1)\n",
        "head.next = ListNode(3)\n",
        "head.next.next = ListNode(4)\n",
        "head.next.next.next = head.next\n",
        "\n",
        "new_head = detectAndRemoveLoop(head)\n",
        "\n",
        "current = new_head\n",
        "while current is not None:\n",
        "    print(current.val, end=\" \")\n",
        "    current = current.next\n",
        "\n",
        "\n"
      ],
      "metadata": {
        "colab": {
          "base_uri": "https://localhost:8080/"
        },
        "id": "lEfveZqB9VhS",
        "outputId": "4c126eee-c452-4452-c4ce-56ffb912a576"
      },
      "execution_count": 6,
      "outputs": [
        {
          "output_type": "stream",
          "name": "stdout",
          "text": [
            "1 3 4 "
          ]
        }
      ]
    },
    {
      "cell_type": "markdown",
      "source": [
        "<aside>\n",
        " **Question 6**\n",
        "\n",
        "Given a linked list and two integers M and N. Traverse the linked list such that you retain M nodes then delete next N nodes, continue the same till end of the linked list.\n",
        "\n",
        "</aside>"
      ],
      "metadata": {
        "id": "jIUM332v9WHw"
      }
    },
    {
      "cell_type": "code",
      "source": [
        "class ListNode:\n",
        "    def __init__(self, val=0, next=None):\n",
        "        self.val = val\n",
        "        self.next = next\n",
        "\n",
        "def deleteNodes(head, M, N):\n",
        "    if head is None:\n",
        "        return head\n",
        "\n",
        "    current = head\n",
        "\n",
        "    while current is not None:\n",
        "        # Retain M nodes\n",
        "        for _ in range(M - 1):\n",
        "            if current.next is None:\n",
        "                return head\n",
        "            current = current.next\n",
        "\n",
        "        previous = current\n",
        "        for _ in range(N):\n",
        "            if current.next is None:\n",
        "                break\n",
        "            current = current.next\n",
        "\n",
        "        previous.next = current.next\n",
        "\n",
        "    return head\n",
        "\n",
        "head = ListNode(1)\n",
        "head.next = ListNode(2)\n",
        "head.next.next = ListNode(3)\n",
        "head.next.next.next = ListNode(4)\n",
        "head.next.next.next.next = ListNode(5)\n",
        "head.next.next.next.next.next = ListNode(6)\n",
        "head.next.next.next.next.next.next = ListNode(7)\n",
        "head.next.next.next.next.next.next.next = ListNode(8)\n",
        "\n",
        "M = 2\n",
        "N = 2\n",
        "\n",
        "new_head = deleteNodes(head, M, N)\n",
        "\n",
        "current = new_head\n",
        "while current is not None:\n",
        "    print(current.val, end=\" \")\n",
        "    current = current.next\n",
        "\n"
      ],
      "metadata": {
        "colab": {
          "base_uri": "https://localhost:8080/"
        },
        "id": "VcBf3SIi9syX",
        "outputId": "470d4409-612b-4b6a-be3d-e9dc06bdf607"
      },
      "execution_count": 7,
      "outputs": [
        {
          "output_type": "stream",
          "name": "stdout",
          "text": [
            "1 2 5 8 "
          ]
        }
      ]
    },
    {
      "cell_type": "markdown",
      "source": [
        "<aside>\n",
        " **Question 7**\n",
        "\n",
        "Given two linked lists, insert nodes of second list into first list at alternate positions of first list.\n",
        "For example, if first list is 5->7->17->13->11 and second is 12->10->2->4->6, the first list should become 5->12->7->10->17->2->13->4->11->6 and second list should become empty. The nodes of second list should only be inserted when there are positions available. For example, if the first list is 1->2->3 and second list is 4->5->6->7->8, then first list should become 1->4->2->5->3->6 and second list to 7->8.\n",
        "\n",
        "Use of extra space is not allowed (Not allowed to create additional nodes), i.e., insertion must be done in-place. Expected time complexity is O(n) where n is number of nodes in first list.\n",
        "\n",
        "</aside>"
      ],
      "metadata": {
        "id": "Sj_tJ9df9sbW"
      }
    },
    {
      "cell_type": "code",
      "source": [
        "class ListNode:\n",
        "    def __init__(self, val=0, next=None):\n",
        "        self.val = val\n",
        "        self.next = next\n",
        "\n",
        "def mergeLists(first, second):\n",
        "    if first is None:\n",
        "        return second\n",
        "\n",
        "    if second is None:\n",
        "        return first\n",
        "\n",
        "    head = first\n",
        "\n",
        "    while first is not None and second is not None:\n",
        "        first_next = first.next\n",
        "        second_next = second.next\n",
        "\n",
        "        first.next = second\n",
        "        second.next = first_next\n",
        "\n",
        "        first = first_next\n",
        "        second = second_next\n",
        "\n",
        "    if second is not None:\n",
        "        first.next = second\n",
        "\n",
        "    second = None\n",
        "\n",
        "    return head\n",
        "\n",
        "\n",
        "first_head = ListNode(5)\n",
        "first_head.next = ListNode(7)\n",
        "first_head.next.next = ListNode(17)\n",
        "first_head.next.next.next = ListNode(13)\n",
        "first_head.next.next.next.next = ListNode(11)\n",
        "\n",
        "second_head = ListNode(12)\n",
        "second_head.next = ListNode(10)\n",
        "second_head.next.next = ListNode(2)\n",
        "second_head.next.next.next = ListNode(4)\n",
        "second_head.next.next.next.next = ListNode(6)\n",
        "\n",
        "new_head = mergeLists(first_head, second_head)\n",
        "\n",
        "current = new_head\n",
        "while current is not None:\n",
        "    print(current.val, end=\" \")\n",
        "    current = current.next\n",
        "\n",
        "\n",
        "current = second_head\n",
        "while current is not None:\n",
        "    print(current.val, end=\" \")\n",
        "    current = current.next\n",
        "\n"
      ],
      "metadata": {
        "colab": {
          "base_uri": "https://localhost:8080/"
        },
        "id": "OQ1EjvHY9vAs",
        "outputId": "c771551f-599a-4281-d0e0-9fb1c9c506bc"
      },
      "execution_count": 8,
      "outputs": [
        {
          "output_type": "stream",
          "name": "stdout",
          "text": [
            "5 12 7 10 17 2 13 4 11 6 12 7 10 17 2 13 4 11 6 "
          ]
        }
      ]
    },
    {
      "cell_type": "markdown",
      "source": [
        "<aside>\n",
        " **Question 8**\n",
        "\n",
        "Given a singly linked list, find if the linked list is [circular](https://www.geeksforgeeks.org/circular-linked-list/amp/) or not.\n",
        "\n",
        "> A linked list is called circular if it is not NULL-terminated and all nodes are connected in the form of a cycle. Below is an example of a circular linked list.\n",
        ">\n",
        "</aside>"
      ],
      "metadata": {
        "id": "MuXZ2ypJ9-03"
      }
    },
    {
      "cell_type": "code",
      "source": [
        "class ListNode:\n",
        "    def __init__(self, val=0, next=None):\n",
        "        self.val = val\n",
        "        self.next = next\n",
        "\n",
        "def isCircular(head):\n",
        "    if head is None:\n",
        "        return False\n",
        "\n",
        "    slow = head\n",
        "    fast = head\n",
        "\n",
        "    while fast is not None and fast.next is not None:\n",
        "        slow = slow.next\n",
        "        fast = fast.next.next\n",
        "\n",
        "        if slow == fast:\n",
        "            return True\n",
        "\n",
        "    return False\n",
        "\n",
        "\n",
        "head = ListNode(1)\n",
        "head.next = ListNode(2)\n",
        "head.next.next = ListNode(3)\n",
        "head.next.next.next = ListNode(4)\n",
        "head.next.next.next.next = ListNode(5)\n",
        "head.next.next.next.next.next = head.next\n",
        "\n",
        "is_circular = isCircular(head)\n",
        "\n",
        "print(is_circular)\n"
      ],
      "metadata": {
        "colab": {
          "base_uri": "https://localhost:8080/"
        },
        "id": "wzdLprG--BKg",
        "outputId": "f7f974db-82ea-418f-834c-8598cf913d1c"
      },
      "execution_count": 9,
      "outputs": [
        {
          "output_type": "stream",
          "name": "stdout",
          "text": [
            "True\n"
          ]
        }
      ]
    }
  ]
}