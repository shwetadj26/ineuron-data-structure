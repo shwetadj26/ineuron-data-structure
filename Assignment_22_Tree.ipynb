{
  "nbformat": 4,
  "nbformat_minor": 0,
  "metadata": {
    "colab": {
      "provenance": []
    },
    "kernelspec": {
      "name": "python3",
      "display_name": "Python 3"
    },
    "language_info": {
      "name": "python"
    }
  },
  "cells": [
    {
      "cell_type": "markdown",
      "source": [
        "<aside>\n",
        "💡 Question-1:\n",
        "\n",
        "Given a Binary Tree (Bt), convert it to a Doubly Linked List(DLL). The left and right pointers in nodes are to be used as previous and next pointers respectively in converted DLL. The order of nodes in DLL must be the same as in Inorder for the given Binary Tree. The first node of Inorder traversal (leftmost node in BT) must be the head node of the DLL.\n",
        "\n",
        "Example:\n",
        "\n",
        "</aside>"
      ],
      "metadata": {
        "id": "ZajBSnWYKRWw"
      }
    },
    {
      "cell_type": "code",
      "execution_count": 3,
      "metadata": {
        "colab": {
          "base_uri": "https://localhost:8080/"
        },
        "id": "SDELvhXCKQtu",
        "outputId": "29fb9d04-756a-4125-832a-b90c917e0c6f"
      },
      "outputs": [
        {
          "output_type": "stream",
          "name": "stdout",
          "text": [
            "1 2 3 4 5\n"
          ]
        }
      ],
      "source": [
        "class Node:\n",
        "    def __init__(self, data):\n",
        "        self.data = data\n",
        "        self.left = None\n",
        "        self.right = None\n",
        "\n",
        "def binary_tree_to_dll(root):\n",
        "    if root is None:\n",
        "        return None\n",
        "\n",
        "    if root.left:\n",
        "        left_dll = binary_tree_to_dll(root.left)\n",
        "\n",
        "        while left_dll.right:\n",
        "            left_dll = left_dll.right\n",
        "\n",
        "        left_dll.right = root\n",
        "        root.left = left_dll\n",
        "\n",
        "    if root.right:\n",
        "        right_dll = binary_tree_to_dll(root.right)\n",
        "\n",
        "        while right_dll.left:\n",
        "            right_dll = right_dll.left\n",
        "\n",
        "        right_dll.left = root\n",
        "        root.right = right_dll\n",
        "\n",
        "    return root\n",
        "\n",
        "def print_dll(head):\n",
        "    if head is None:\n",
        "        return\n",
        "\n",
        "    current = head\n",
        "\n",
        "    while current:\n",
        "        print(current.data, end=\" \")\n",
        "        current = current.right\n",
        "\n",
        "root = Node(4)\n",
        "root.left = Node(2)\n",
        "root.right = Node(5)\n",
        "root.left.left = Node(1)\n",
        "root.left.right = Node(3)\n",
        "\n",
        "head = binary_tree_to_dll(root)\n",
        "\n",
        "print_dll(head)"
      ]
    },
    {
      "cell_type": "markdown",
      "source": [
        "<aside>\n",
        "💡 Question-2\n",
        "\n",
        "A Given a binary tree, the task is to flip the binary tree towards the right direction that is clockwise. See the below examples to see the transformation.\n",
        "\n",
        "In the flip operation, the leftmost node becomes the root of the flipped tree and its parent becomes its right child and the right sibling becomes its left child and the same should be done for all left most nodes recursively.\n",
        "\n",
        "</aside>"
      ],
      "metadata": {
        "id": "dj9EPrxkK-8y"
      }
    },
    {
      "cell_type": "code",
      "source": [
        "class Node:\n",
        "    def __init__(self, data):\n",
        "        self.data = data\n",
        "        self.left = None\n",
        "        self.right = None\n",
        "\n",
        "def flip_binary_tree(root):\n",
        "    if root is None or (root.left is None and root.right is None):\n",
        "        return root\n",
        "\n",
        "    flipped_left = flip_binary_tree(root.left)\n",
        "    flipped_right = flip_binary_tree(root.right)\n",
        "\n",
        "    root.left = flipped_right\n",
        "    root.right = flipped_left\n",
        "\n",
        "    return root\n",
        "\n",
        "def inorder_traversal(root):\n",
        "    if root is None:\n",
        "        return\n",
        "\n",
        "    inorder_traversal(root.left)\n",
        "    print(root.data, end=\" \")\n",
        "    inorder_traversal(root.right)\n",
        "\n",
        "root = Node(1)\n",
        "root.left = Node(2)\n",
        "root.right = Node(3)\n",
        "root.left.left = Node(4)\n",
        "root.left.right = Node(5)\n",
        "\n",
        "flipped_root = flip_binary_tree(root)\n",
        "\n",
        "inorder_traversal(flipped_root)\n"
      ],
      "metadata": {
        "colab": {
          "base_uri": "https://localhost:8080/"
        },
        "id": "aGQFPsiHLFbX",
        "outputId": "158a2cdf-ed00-45d8-f401-839aea10a7e5"
      },
      "execution_count": 2,
      "outputs": [
        {
          "output_type": "stream",
          "name": "stdout",
          "text": [
            "3 1 5 2 4 "
          ]
        }
      ]
    },
    {
      "cell_type": "markdown",
      "source": [
        "<aside>\n",
        "💡 Question-3:\n",
        "\n",
        "Given a binary tree, print all its root-to-leaf paths without using recursion. For example, consider the following Binary Tree.\n",
        "\n",
        "Input:\n",
        "\n",
        "        6\n",
        "     /    \\\n",
        "    3      5\n",
        "  /   \\     \\\n",
        " 2     5     4\n",
        "     /   \\\n",
        "    7     4\n",
        "\n",
        "Output:\n",
        "\n",
        "There are 4 leaves, hence 4 root to leaf paths -\n",
        "  6->3->2\n",
        "  6->3->5->7\n",
        "  6->3->5->4\n",
        "  6->5>4\n",
        "\n",
        "</aside>"
      ],
      "metadata": {
        "id": "z5S5KFP6Leqw"
      }
    },
    {
      "cell_type": "code",
      "source": [
        "class Node:\n",
        "    def __init__(self, data):\n",
        "        self.data = data\n",
        "        self.left = None\n",
        "        self.right = None\n",
        "\n",
        "def print_root_to_leaf_paths(root):\n",
        "    if root is None:\n",
        "        return\n",
        "\n",
        "    stack = [(root, str(root.data))]\n",
        "\n",
        "    while stack:\n",
        "        node, path = stack.pop()\n",
        "\n",
        "        if node.left is None and node.right is None:\n",
        "            print(path)\n",
        "\n",
        "        if node.right is not None:\n",
        "            stack.append((node.right, path + \"->\" + str(node.right.data)))\n",
        "\n",
        "        if node.left is not None:\n",
        "            stack.append((node.left, path + \"->\" + str(node.left.data)))\n",
        "\n",
        "root = Node(6)\n",
        "root.left = Node(3)\n",
        "root.right = Node(5)\n",
        "root.left.left = Node(2)\n",
        "root.left.right = Node(5)\n",
        "root.right.right = Node(4)\n",
        "root.left.right.left = Node(7)\n",
        "root.left.right.right = Node(4)\n",
        "\n",
        "print_root_to_leaf_paths(root)\n"
      ],
      "metadata": {
        "colab": {
          "base_uri": "https://localhost:8080/"
        },
        "id": "I0bmIQL6LlPM",
        "outputId": "10286be6-7cdd-4a08-fedd-4f9d50af576c"
      },
      "execution_count": 4,
      "outputs": [
        {
          "output_type": "stream",
          "name": "stdout",
          "text": [
            "6->3->2\n",
            "6->3->5->7\n",
            "6->3->5->4\n",
            "6->5->4\n"
          ]
        }
      ]
    },
    {
      "cell_type": "markdown",
      "source": [
        "<aside>\n",
        "💡 Question-4:\n",
        "\n",
        "Given Preorder, Inorder and Postorder traversals of some tree. Write a program to check if they all are of the same tree.\n",
        "\n",
        "**Examples:**\n",
        "\n",
        "Input :\n",
        "\n",
        "        Inorder -> 4 2 5 1 3\n",
        "        Preorder -> 1 2 4 5 3\n",
        "        Postorder -> 4 5 2 3 1\n",
        "Output :\n",
        "\n",
        "Yes\n",
        "\n",
        "</aside>"
      ],
      "metadata": {
        "id": "7cJr8EeYLw5o"
      }
    },
    {
      "cell_type": "code",
      "source": [
        "def check_same_tree(preorder, inorder, postorder):\n",
        "    if not preorder or not inorder or not postorder:\n",
        "        return True\n",
        "\n",
        "    if preorder[0] != postorder[-1]:\n",
        "        return False\n",
        "\n",
        "    root_index = inorder.index(preorder[0])\n",
        "\n",
        "    left_same = check_same_tree(preorder[1:root_index+1], inorder[:root_index], postorder[:root_index])\n",
        "    right_same = check_same_tree(preorder[root_index+1:], inorder[root_index+1:], postorder[root_index:-1])\n",
        "\n",
        "    return left_same and right_same\n",
        "\n",
        "inorder = [4, 2, 5, 1, 3]\n",
        "preorder = [1, 2, 4, 5, 3]\n",
        "postorder = [4, 5, 2, 3, 1]\n",
        "\n",
        "if check_same_tree(preorder, inorder, postorder):\n",
        "    print(\"Yes\")\n",
        "else:\n",
        "    print(\"No\")\n"
      ],
      "metadata": {
        "colab": {
          "base_uri": "https://localhost:8080/"
        },
        "id": "7Qyo-aKkL4Qb",
        "outputId": "b25cdb8e-05f1-49ab-ddf1-203f47d82d3d"
      },
      "execution_count": 5,
      "outputs": [
        {
          "output_type": "stream",
          "name": "stdout",
          "text": [
            "Yes\n"
          ]
        }
      ]
    }
  ]
}