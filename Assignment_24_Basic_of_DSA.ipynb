{
  "nbformat": 4,
  "nbformat_minor": 0,
  "metadata": {
    "colab": {
      "provenance": []
    },
    "kernelspec": {
      "name": "python3",
      "display_name": "Python 3"
    },
    "language_info": {
      "name": "python"
    }
  },
  "cells": [
    {
      "cell_type": "markdown",
      "source": [
        "<aside>\n",
        "💡 1. **Roman to Integer**\n",
        "\n",
        "Roman numerals are represented by seven different symbols: `I`, `V`, `X`, `L`, `C`, `D` and `M`\n",
        "\n",
        "</aside>\n",
        "For example, `2` is written as `II` in Roman numeral, just two ones added together. `12` is written as `XII`, which is simply `X + II`. The number `27` is written as `XXVII`, which is `XX + V + II`.\n",
        "\n",
        "Roman numerals are usually written largest to smallest from left to right. However, the numeral for four is not `IIII`. Instead, the number four is written as `IV`. Because the one is before the five we subtract it making four. The same principle applies to the number nine, which is written as `IX`. There are six instances where subtraction is used:\n",
        "\n",
        "- `I` can be placed before `V` (5) and `X` (10) to make 4 and 9.\n",
        "- `X` can be placed before `L` (50) and `C` (100) to make 40 and 90.\n",
        "- `C` can be placed before `D` (500) and `M` (1000) to make 400 and 900.\n",
        "\n",
        "Given a roman numeral, convert it to an integer."
      ],
      "metadata": {
        "id": "-5r-kvwTOvfg"
      }
    },
    {
      "cell_type": "code",
      "execution_count": 1,
      "metadata": {
        "colab": {
          "base_uri": "https://localhost:8080/"
        },
        "id": "yaNPNIhlOrgX",
        "outputId": "bd8ec8e2-79c2-4b27-a96c-efe123381705"
      },
      "outputs": [
        {
          "output_type": "stream",
          "name": "stdout",
          "text": [
            "3\n"
          ]
        }
      ],
      "source": [
        "def romanToInt(s):\n",
        "    roman_values = {'I': 1, 'V': 5, 'X': 10, 'L': 50, 'C': 100, 'D': 500, 'M': 1000}\n",
        "\n",
        "    result = 0\n",
        "\n",
        "    for i in range(len(s)):\n",
        "        if i < len(s) - 1 and roman_values[s[i]] < roman_values[s[i+1]]:\n",
        "            result -= roman_values[s[i]]\n",
        "        else:\n",
        "            result += roman_values[s[i]]\n",
        "\n",
        "    return result\n",
        "\n",
        "s = \"III\"\n",
        "print(romanToInt(s))\n"
      ]
    },
    {
      "cell_type": "markdown",
      "source": [
        "<aside>\n",
        "💡 2. **Longest Substring Without Repeating Characters**\n",
        "\n",
        "Given a string `s`, find the length of the **longest substring** without repeating characters.\n",
        "\n",
        "</aside>"
      ],
      "metadata": {
        "id": "AeHjnGYOO8vS"
      }
    },
    {
      "cell_type": "code",
      "source": [
        "def lengthOfLongestSubstring(s):\n",
        "    start = 0\n",
        "    end = 0\n",
        "    max_length = 0\n",
        "    seen = set()\n",
        "\n",
        "    while end < len(s):\n",
        "        if s[end] in seen:\n",
        "            while s[start] != s[end]:\n",
        "                seen.remove(s[start])\n",
        "                start += 1\n",
        "            start += 1\n",
        "\n",
        "        seen.add(s[end])\n",
        "\n",
        "        max_length = max(max_length, end - start + 1)\n",
        "\n",
        "        end += 1\n",
        "\n",
        "    return max_length\n",
        "\n",
        "s = \"abcabcbb\"\n",
        "print(lengthOfLongestSubstring(s))\n"
      ],
      "metadata": {
        "colab": {
          "base_uri": "https://localhost:8080/"
        },
        "id": "bUj3Jm8YPTJA",
        "outputId": "cf1a76b4-c491-46c3-deba-be59e8cd0893"
      },
      "execution_count": 2,
      "outputs": [
        {
          "output_type": "stream",
          "name": "stdout",
          "text": [
            "3\n"
          ]
        }
      ]
    },
    {
      "cell_type": "markdown",
      "source": [
        "<aside>\n",
        "💡 3. **Majority Element**\n",
        "\n",
        "Given an array `nums` of size `n`, return *the majority element*.\n",
        "\n",
        "The majority element is the element that appears more than `⌊n / 2⌋` times. You may assume that the majority element always exists in the array.\n",
        "\n",
        "</aside>"
      ],
      "metadata": {
        "id": "T5tBRY5nPX5v"
      }
    },
    {
      "cell_type": "code",
      "source": [
        "def majorityElement(nums):\n",
        "    count = 0\n",
        "    candidate = None\n",
        "\n",
        "    for num in nums:\n",
        "        if count == 0:\n",
        "            candidate = num\n",
        "        if num == candidate:\n",
        "            count += 1\n",
        "        else:\n",
        "            count -= 1\n",
        "\n",
        "    return candidate\n",
        "\n",
        "nums = [3, 2, 3]\n",
        "print(majorityElement(nums))\n"
      ],
      "metadata": {
        "colab": {
          "base_uri": "https://localhost:8080/"
        },
        "id": "abWZYqNWPfNr",
        "outputId": "192fe2ec-eb6a-41c9-a744-d43a1d9e6d98"
      },
      "execution_count": 3,
      "outputs": [
        {
          "output_type": "stream",
          "name": "stdout",
          "text": [
            "3\n"
          ]
        }
      ]
    },
    {
      "cell_type": "markdown",
      "source": [
        "<aside>\n",
        "💡 4. **Group Anagram**\n",
        "\n",
        "Given an array of strings `strs`, group **the anagrams** together. You can return the answer in **any order**.\n",
        "\n",
        "An **Anagram** is a word or phrase formed by rearranging the letters of a different word or phrase, typically using all the original letters exactly once.\n",
        "\n",
        "</aside>"
      ],
      "metadata": {
        "id": "GbLoVRJNPf9o"
      }
    },
    {
      "cell_type": "code",
      "source": [
        "def groupAnagrams(strs):\n",
        "    anagram_groups = {}\n",
        "\n",
        "    for word in strs:\n",
        "        sorted_word = ''.join(sorted(word))\n",
        "\n",
        "        if sorted_word in anagram_groups:\n",
        "            anagram_groups[sorted_word].append(word)\n",
        "        else:\n",
        "            anagram_groups[sorted_word] = [word]\n",
        "\n",
        "    return list(anagram_groups.values())\n",
        "\n",
        "strs = [\"eat\", \"tea\", \"tan\", \"ate\", \"nat\", \"bat\"]\n",
        "print(groupAnagrams(strs))\n"
      ],
      "metadata": {
        "colab": {
          "base_uri": "https://localhost:8080/"
        },
        "id": "MDwJX0fNPhT4",
        "outputId": "d0cf1a12-d796-4d06-9936-bc519eae1b72"
      },
      "execution_count": 4,
      "outputs": [
        {
          "output_type": "stream",
          "name": "stdout",
          "text": [
            "[['eat', 'tea', 'ate'], ['tan', 'nat'], ['bat']]\n"
          ]
        }
      ]
    },
    {
      "cell_type": "markdown",
      "source": [
        "<aside>\n",
        "💡 5. **Ugly Numbers**\n",
        "\n",
        "An **ugly number** is a positive integer whose prime factors are limited to `2`, `3`, and `5`.\n",
        "\n",
        "Given an integer `n`, return *the* `nth` ***ugly number***.\n",
        "\n",
        "</aside>"
      ],
      "metadata": {
        "id": "k4lebUohPt9D"
      }
    },
    {
      "cell_type": "code",
      "source": [
        "def nthUglyNumber(n):\n",
        "    ugly_nums = [0] * n\n",
        "    ugly_nums[0] = 1\n",
        "    p2 = p3 = p5 = 0\n",
        "\n",
        "    for i in range(1, n):\n",
        "        next_ugly = min(ugly_nums[p2] * 2, ugly_nums[p3] * 3, ugly_nums[p5] * 5)\n",
        "        ugly_nums[i] = next_ugly\n",
        "\n",
        "        if next_ugly == ugly_nums[p2] * 2:\n",
        "            p2 += 1\n",
        "        if next_ugly == ugly_nums[p3] * 3:\n",
        "            p3 += 1\n",
        "        if next_ugly == ugly_nums[p5] * 5:\n",
        "            p5 += 1\n",
        "\n",
        "    return ugly_nums[n-1]\n",
        "\n",
        "n = 10\n",
        "print(nthUglyNumber(n))\n"
      ],
      "metadata": {
        "colab": {
          "base_uri": "https://localhost:8080/"
        },
        "id": "a-8uZYX_P6Rv",
        "outputId": "9baa1727-9636-4c1c-a306-87101a50e96d"
      },
      "execution_count": 5,
      "outputs": [
        {
          "output_type": "stream",
          "name": "stdout",
          "text": [
            "12\n"
          ]
        }
      ]
    },
    {
      "cell_type": "markdown",
      "source": [
        "<aside>\n",
        "💡 6. **Top K Frequent Words**\n",
        "\n",
        "Given an array of strings `words` and an integer `k`, return *the* `k` *most frequent strings*.\n",
        "\n",
        "Return the answer **sorted** by **the frequency** from highest to lowest. Sort the words with the same frequency by their **lexicographical order**.\n",
        "\n",
        "</aside>"
      ],
      "metadata": {
        "id": "eKsa-AzgQG3K"
      }
    },
    {
      "cell_type": "code",
      "source": [
        "def topKFrequent(words, k):\n",
        "    word_count = {}\n",
        "    for word in words:\n",
        "        word_count[word] = word_count.get(word, 0) + 1\n",
        "\n",
        "    def sorting_criteria(word):\n",
        "        return (-word_count[word], word)\n",
        "\n",
        "    sorted_words = sorted(word_count.keys(), key=sorting_criteria)\n",
        "    return sorted_words[:k]\n",
        "\n",
        "words = [\"i\", \"love\", \"leetcode\", \"i\", \"love\", \"coding\"]\n",
        "k = 2\n",
        "print(topKFrequent(words, k))\n"
      ],
      "metadata": {
        "colab": {
          "base_uri": "https://localhost:8080/"
        },
        "id": "gaUyN5fIQR0m",
        "outputId": "6e1d37ca-afbc-4d81-8739-353caca8dbe6"
      },
      "execution_count": 6,
      "outputs": [
        {
          "output_type": "stream",
          "name": "stdout",
          "text": [
            "['i', 'love']\n"
          ]
        }
      ]
    },
    {
      "cell_type": "markdown",
      "source": [
        "<aside>\n",
        "💡 7. **Sliding Window Maximum**\n",
        "\n",
        "You are given an array of integers `nums`, there is a sliding window of size `k` which is moving from the very left of the array to the very right. You can only see the `k` numbers in the window. Each time the sliding window moves right by one position.\n",
        "\n",
        "Return *the max sliding window*.\n",
        "\n",
        "</aside>"
      ],
      "metadata": {
        "id": "dvRa0x8tQSfh"
      }
    },
    {
      "cell_type": "code",
      "source": [
        "from collections import deque\n",
        "\n",
        "def maxSlidingWindow(nums, k):\n",
        "    window = deque()\n",
        "    result = []\n",
        "\n",
        "    for i in range(len(nums)):\n",
        "        if window and window[0] <= i - k:\n",
        "            window.popleft()\n",
        "\n",
        "        while window and nums[i] >= nums[window[-1]]:\n",
        "            window.pop()\n",
        "\n",
        "        window.append(i)\n",
        "\n",
        "        if i >= k - 1:\n",
        "            result.append(nums[window[0]])\n",
        "\n",
        "    return result\n",
        "\n",
        "nums = [1, 3, -1, -3, 5, 3, 6, 7]\n",
        "k = 3\n",
        "print(maxSlidingWindow(nums, k))\n"
      ],
      "metadata": {
        "colab": {
          "base_uri": "https://localhost:8080/"
        },
        "id": "GLZ7REVJQlVV",
        "outputId": "b628e00f-c71c-4aee-ddb4-092fc831bb73"
      },
      "execution_count": 7,
      "outputs": [
        {
          "output_type": "stream",
          "name": "stdout",
          "text": [
            "[3, 3, 5, 5, 6, 7]\n"
          ]
        }
      ]
    },
    {
      "cell_type": "markdown",
      "source": [
        "<aside>\n",
        "💡 8. **Find K Closest Elements**\n",
        "\n",
        "Given a **sorted** integer array `arr`, two integers `k` and `x`, return the `k` closest integers to `x` in the array. The result should also be sorted in ascending order.\n",
        "\n",
        "An integer `a` is closer to `x` than an integer `b` if:\n",
        "\n",
        "- `|a - x| < |b - x|`, or\n",
        "- `|a - x| == |b - x|` and `a < b`\n",
        "</aside>"
      ],
      "metadata": {
        "id": "Hha_bKhTQl2n"
      }
    },
    {
      "cell_type": "code",
      "source": [
        "def findClosestElements(arr, k, x):\n",
        "    left = 0\n",
        "    right = len(arr) - k\n",
        "\n",
        "    while left < right:\n",
        "        mid = (left + right) // 2\n",
        "        if x - arr[mid] > arr[mid+k] - x:\n",
        "            left = mid + 1\n",
        "        else:\n",
        "            right = mid\n",
        "\n",
        "    return arr[left:left+k]\n",
        "\n",
        "arr = [1, 2, 3, 4, 5]\n",
        "k = 4\n",
        "x = 3\n",
        "print(findClosestElements(arr, k, x))\n"
      ],
      "metadata": {
        "colab": {
          "base_uri": "https://localhost:8080/"
        },
        "id": "b-NCd0g0Q3G-",
        "outputId": "7ad66ba7-6311-48e8-c7f3-2b9b266374f5"
      },
      "execution_count": 8,
      "outputs": [
        {
          "output_type": "stream",
          "name": "stdout",
          "text": [
            "[1, 2, 3, 4]\n"
          ]
        }
      ]
    }
  ]
}