{
  "nbformat": 4,
  "nbformat_minor": 0,
  "metadata": {
    "colab": {
      "provenance": []
    },
    "kernelspec": {
      "name": "python3",
      "display_name": "Python 3"
    },
    "language_info": {
      "name": "python"
    }
  },
  "cells": [
    {
      "cell_type": "markdown",
      "source": [
        "<aside>\n",
        "💡 **Question 1**\n",
        "\n",
        "Given an array, for each element find the value of the nearest element to the right which is having a frequency greater than that of the current element. If there does not exist an answer for a position, then make the value ‘-1’.\n",
        "\n",
        "</aside>"
      ],
      "metadata": {
        "id": "L_p41s3eg3Z3"
      }
    },
    {
      "cell_type": "code",
      "execution_count": 1,
      "metadata": {
        "colab": {
          "base_uri": "https://localhost:8080/"
        },
        "id": "VabdSj90gzKd",
        "outputId": "7cffb336-8ca2-42a7-d3ae-3e6ad129f3e3"
      },
      "outputs": [
        {
          "output_type": "stream",
          "name": "stdout",
          "text": [
            "[-1, -1, 1, 2, 2, 1, -1]\n"
          ]
        }
      ],
      "source": [
        "def nearest_greater_frequency(array):\n",
        "    frequency = {}\n",
        "    stack = []\n",
        "    result = [-1] * len(array)\n",
        "\n",
        "    for element in array:\n",
        "        frequency[element] = frequency.get(element, 0) + 1\n",
        "\n",
        "    for i in range(len(array) - 1, -1, -1):\n",
        "        while stack and frequency[array[i]] >= frequency[array[stack[-1]]]:\n",
        "            stack.pop()\n",
        "\n",
        "        if stack:\n",
        "            result[i] = array[stack[-1]]\n",
        "\n",
        "        stack.append(i)\n",
        "\n",
        "    return result\n",
        "\n",
        "array = [1, 1, 2, 3, 4, 2, 1]\n",
        "output = nearest_greater_frequency(array)\n",
        "print(output)\n"
      ]
    },
    {
      "cell_type": "markdown",
      "source": [
        "<aside>\n",
        "💡 **Question 2**\n",
        "\n",
        "Given a stack of integers, sort it in ascending order using another temporary stack.\n",
        "\n",
        "</aside>"
      ],
      "metadata": {
        "id": "f3VaBr4thFoA"
      }
    },
    {
      "cell_type": "code",
      "source": [
        "def sort_stack(stack):\n",
        "    temp_stack = []\n",
        "    sorted_stack = []\n",
        "\n",
        "    while stack:\n",
        "        temp = stack.pop()\n",
        "\n",
        "        while temp_stack and temp_stack[-1] > temp:\n",
        "            stack.append(temp_stack.pop())\n",
        "\n",
        "        temp_stack.append(temp)\n",
        "\n",
        "    while temp_stack:\n",
        "        sorted_stack.append(temp_stack.pop())\n",
        "\n",
        "    return sorted_stack\n",
        "\n",
        "stack = [34, 3, 31, 98, 92, 23]\n",
        "output = sort_stack(stack)\n",
        "print(output)\n"
      ],
      "metadata": {
        "colab": {
          "base_uri": "https://localhost:8080/"
        },
        "id": "4hEDixXjhiJK",
        "outputId": "5be90afc-c3c9-4929-b3db-827078c6a0d3"
      },
      "execution_count": 2,
      "outputs": [
        {
          "output_type": "stream",
          "name": "stdout",
          "text": [
            "[98, 92, 34, 31, 23, 3]\n"
          ]
        }
      ]
    },
    {
      "cell_type": "markdown",
      "source": [
        "<aside>\n",
        "💡 **Question 3**\n",
        "\n",
        "Given a stack with **push()**, **pop()**, and **empty()** operations, The task is to delete the **middle** element ****of it without using any additional data structure.\n",
        "\n",
        "Input  : Stack[] = [1, 2, 3, 4, 5]\n",
        "\n",
        "Output : Stack[] = [1, 2, 4, 5]\n",
        "\n",
        "</aside>"
      ],
      "metadata": {
        "id": "Y7PMEWbLhii2"
      }
    },
    {
      "cell_type": "code",
      "source": [
        "def delete_middle(stack):\n",
        "    if len(stack) == 0:\n",
        "        return stack\n",
        "\n",
        "    mid = len(stack) // 2\n",
        "\n",
        "    def delete_middle_helper(stack, index):\n",
        "        if index == mid:\n",
        "            stack.pop()\n",
        "            return\n",
        "\n",
        "        temp = stack.pop()\n",
        "        delete_middle_helper(stack, index + 1)\n",
        "        stack.append(temp)\n",
        "\n",
        "    delete_middle_helper(stack, 0)\n",
        "    return stack\n",
        "\n",
        "stack = [1, 2, 3, 4, 5]\n",
        "output = delete_middle(stack)\n",
        "print(output)\n"
      ],
      "metadata": {
        "colab": {
          "base_uri": "https://localhost:8080/"
        },
        "id": "u5gZPXSphxju",
        "outputId": "f51b2057-24c8-4734-80f2-346e91f582dc"
      },
      "execution_count": 3,
      "outputs": [
        {
          "output_type": "stream",
          "name": "stdout",
          "text": [
            "[1, 2, 4, 5]\n"
          ]
        }
      ]
    },
    {
      "cell_type": "markdown",
      "source": [
        "<aside>\n",
        "💡 **Question 4**\n",
        "\n",
        "Given a Queue consisting of first **n** natural numbers (in random order). The task is to check whether the given Queue elements can be arranged in increasing order in another Queue using a stack. The operation allowed are:\n",
        "\n",
        "1. Push and pop elements from the stack\n",
        "2. Pop (Or Dequeue) from the given Queue.\n",
        "3. Push (Or Enqueue) in the another Queue.\n",
        "\n",
        "**Examples :**\n",
        "\n",
        "Input : Queue[] = { 5, 1, 2, 3, 4 }\n",
        "\n",
        "Output : Yes\n",
        "\n",
        "Pop the first element of the given Queue\n",
        "\n",
        "i.e 5. Push 5 into the stack.\n",
        "\n",
        "Now, pop all the elements of the given Queue and push them to second Queue.\n",
        "\n",
        "Now, pop element 5 in the stack and push it to the second Queue.\n",
        "\n",
        "Input : Queue[] = { 5, 1, 2, 6, 3, 4 }\n",
        "\n",
        "Output : No\n",
        "\n",
        "Push 5 to stack.\n",
        "\n",
        "Pop 1, 2 from given Queue and push it to another Queue.\n",
        "\n",
        "Pop 6 from given Queue and push to stack.\n",
        "\n",
        "Pop 3, 4 from given Queue and push to second Queue.\n",
        "\n",
        "Now, from using any of above operation, we cannot push 5 into the second Queue because it is below the 6 in the stack.\n",
        "\n",
        "</aside>"
      ],
      "metadata": {
        "id": "fqyWPQV5hyMc"
      }
    },
    {
      "cell_type": "code",
      "source": [
        "from queue import Queue\n",
        "\n",
        "def check_arrange_increasing(queue):\n",
        "    stack = []\n",
        "    second_queue = Queue()\n",
        "    expected = 1\n",
        "\n",
        "    while not queue.empty():\n",
        "        if queue.queue[0] == expected:\n",
        "            queue.get()\n",
        "            expected += 1\n",
        "        elif stack and stack[-1] == expected:\n",
        "            second_queue.put(stack.pop())\n",
        "            expected += 1\n",
        "        else:\n",
        "            stack.append(queue.get())\n",
        "\n",
        "    while stack and stack[-1] == expected:\n",
        "        second_queue.put(stack.pop())\n",
        "        expected += 1\n",
        "\n",
        "    if queue.empty() and not stack:\n",
        "        return \"Yes\"\n",
        "    else:\n",
        "        return \"No\"\n",
        "\n",
        "queue = Queue()\n",
        "queue.put(5)\n",
        "queue.put(1)\n",
        "queue.put(2)\n",
        "queue.put(3)\n",
        "queue.put(4)\n",
        "\n",
        "output = check_arrange_increasing(queue)\n",
        "print(output)\n"
      ],
      "metadata": {
        "colab": {
          "base_uri": "https://localhost:8080/"
        },
        "id": "0C4AdV02hzX3",
        "outputId": "9a67b441-cc0e-49eb-a16c-bcc799e010ee"
      },
      "execution_count": 4,
      "outputs": [
        {
          "output_type": "stream",
          "name": "stdout",
          "text": [
            "Yes\n"
          ]
        }
      ]
    },
    {
      "cell_type": "markdown",
      "source": [
        "<aside>\n",
        "💡 **Question 5**\n",
        "\n",
        "Given a number , write a program to reverse this number using stack.\n",
        "\n",
        "\n",
        "\n",
        "</aside>"
      ],
      "metadata": {
        "id": "WiOquAOpiCTQ"
      }
    },
    {
      "cell_type": "code",
      "source": [
        "def reverse_number(number):\n",
        "    number_str = str(number)\n",
        "    stack = []\n",
        "\n",
        "    for digit in number_str:\n",
        "        stack.append(digit)\n",
        "\n",
        "    reversed_number_str = \"\"\n",
        "\n",
        "    while stack:\n",
        "        reversed_number_str += stack.pop()\n",
        "\n",
        "    reversed_number = int(reversed_number_str)\n",
        "    return reversed_number\n",
        "\n",
        "number = 365\n",
        "output = reverse_number(number)\n",
        "print(output)\n"
      ],
      "metadata": {
        "colab": {
          "base_uri": "https://localhost:8080/"
        },
        "id": "DZAYIrzAiWH7",
        "outputId": "023f071d-0096-4e2b-b1ce-4b27a4181475"
      },
      "execution_count": 5,
      "outputs": [
        {
          "output_type": "stream",
          "name": "stdout",
          "text": [
            "563\n"
          ]
        }
      ]
    },
    {
      "cell_type": "markdown",
      "source": [
        "<aside>\n",
        "💡 **Question 6**\n",
        "\n",
        "Given an integer k and a **[queue](https://www.geeksforgeeks.org/queue-data-structure/)** of integers, The task is to reverse the order of the first **k** elements of the queue, leaving the other elements in the same relative order.\n",
        "\n",
        "Only following standard operations are allowed on queue.\n",
        "\n",
        "- **enqueue(x) :** Add an item x to rear of queue\n",
        "- **dequeue() :** Remove an item from front of queue\n",
        "- **size() :** Returns number of elements in queue.\n",
        "- **front() :** Finds front item.\n",
        "</aside>"
      ],
      "metadata": {
        "id": "LslMU-UBiWhL"
      }
    },
    {
      "cell_type": "code",
      "source": [
        "from queue import Queue\n",
        "\n",
        "def reverse_k_elements(queue, k):\n",
        "    stack = []\n",
        "\n",
        "    for _ in range(k):\n",
        "        stack.append(queue.get())\n",
        "\n",
        "    temp_queue = Queue()\n",
        "\n",
        "    while stack:\n",
        "        temp_queue.put(stack.pop())\n",
        "\n",
        "    while not queue.empty():\n",
        "        temp_queue.put(queue.get())\n",
        "\n",
        "    while not temp_queue.empty():\n",
        "        queue.put(temp_queue.get())\n",
        "\n",
        "    return queue\n",
        "\n",
        "queue = Queue()\n",
        "queue.put(1)\n",
        "queue.put(2)\n",
        "queue.put(3)\n",
        "queue.put(4)\n",
        "queue.put(5)\n",
        "\n",
        "k = 3\n",
        "\n",
        "output = reverse_k_elements(queue, k)\n",
        "\n",
        "while not output.empty():\n",
        "    print(output.get())\n"
      ],
      "metadata": {
        "colab": {
          "base_uri": "https://localhost:8080/"
        },
        "id": "vmcLWzVLiXzu",
        "outputId": "7df8b4b4-ca22-42cc-f301-7da009f545dd"
      },
      "execution_count": 6,
      "outputs": [
        {
          "output_type": "stream",
          "name": "stdout",
          "text": [
            "3\n",
            "2\n",
            "1\n",
            "4\n",
            "5\n"
          ]
        }
      ]
    },
    {
      "cell_type": "markdown",
      "source": [
        "<aside>\n",
        "💡 **Question 7**\n",
        "\n",
        "Given a sequence of n strings, the task is to check if any two similar words come together and then destroy each other then print the number of words left in the sequence after this pairwise destruction.\n",
        "\n",
        "**Examples:**\n",
        "\n",
        "Input : ab aa aa bcd ab\n",
        "\n",
        "Output : 3\n",
        "\n",
        "*As aa, aa destroys each other so,*\n",
        "\n",
        "*ab bcd ab is the new sequence.*\n",
        "\n",
        "</aside>"
      ],
      "metadata": {
        "id": "M4CLfQ24ilQN"
      }
    },
    {
      "cell_type": "code",
      "source": [
        "def count_words_after_destruction(sequence):\n",
        "    stack = []\n",
        "\n",
        "    for word in sequence:\n",
        "        if not stack or word != stack[-1]:\n",
        "            stack.append(word)\n",
        "        else:\n",
        "            stack.pop()\n",
        "\n",
        "    count = len(stack)\n",
        "    return count\n",
        "\n",
        "sequence = [\"ab\", \"aa\", \"aa\", \"bcd\", \"ab\"]\n",
        "\n",
        "output = count_words_after_destruction(sequence)\n",
        "print(output)\n"
      ],
      "metadata": {
        "colab": {
          "base_uri": "https://localhost:8080/"
        },
        "id": "X3APkBm8imgu",
        "outputId": "04dd655d-d0e9-49d8-d080-8219a3af27bc"
      },
      "execution_count": 7,
      "outputs": [
        {
          "output_type": "stream",
          "name": "stdout",
          "text": [
            "3\n"
          ]
        }
      ]
    },
    {
      "cell_type": "markdown",
      "source": [
        "<aside>\n",
        "💡 **Question 8**\n",
        "\n",
        "Given an array of integers, the task is to find the maximum absolute difference between the nearest left and the right smaller element of every element in the array.\n",
        "\n",
        "**Note:** If there is no smaller element on right side or left side of any element then we take zero as the smaller element. For example for the leftmost element, the nearest smaller element on the left side is considered as 0. Similarly, for rightmost elements, the smaller element on the right side is considered as 0.\n",
        "\n",
        "</aside>"
      ],
      "metadata": {
        "id": "M_mN69lnizNt"
      }
    },
    {
      "cell_type": "code",
      "source": [
        "def max_absolute_difference(arr):\n",
        "    max_diff = 0\n",
        "    stack = []\n",
        "    n = len(arr)\n",
        "\n",
        "    for i in range(n):\n",
        "        while stack and arr[i] < arr[stack[-1]]:\n",
        "            popped_index = stack.pop()\n",
        "            if stack:\n",
        "                max_diff = max(max_diff, abs(arr[i] - arr[stack[-1]]))\n",
        "            else:\n",
        "                max_diff = max(max_diff, abs(arr[i]))\n",
        "\n",
        "        stack.append(i)\n",
        "\n",
        "    stack.clear()\n",
        "\n",
        "    for i in range(n - 1, -1, -1):\n",
        "        while stack and arr[i] <= arr[stack[-1]]:\n",
        "            popped_index = stack.pop()\n",
        "            if stack:\n",
        "                max_diff = max(max_diff, abs(arr[i] - arr[stack[-1]]))\n",
        "            else:\n",
        "                max_diff = max(max_diff, abs(arr[i]))\n",
        "\n",
        "        stack.append(i)\n",
        "\n",
        "    return max_diff\n",
        "\n",
        "arr = [2, 1, 8]\n",
        "output = max_absolute_difference(arr)\n",
        "print(output)\n"
      ],
      "metadata": {
        "colab": {
          "base_uri": "https://localhost:8080/"
        },
        "id": "KPOIgZukjTcC",
        "outputId": "942a9685-0d84-49e2-ca83-5f8db8971c6d"
      },
      "execution_count": 8,
      "outputs": [
        {
          "output_type": "stream",
          "name": "stdout",
          "text": [
            "1\n"
          ]
        }
      ]
    }
  ]
}