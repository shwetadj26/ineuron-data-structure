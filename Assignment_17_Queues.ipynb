{
  "nbformat": 4,
  "nbformat_minor": 0,
  "metadata": {
    "colab": {
      "provenance": []
    },
    "kernelspec": {
      "name": "python3",
      "display_name": "Python 3"
    },
    "language_info": {
      "name": "python"
    }
  },
  "cells": [
    {
      "cell_type": "markdown",
      "source": [
        "<aside>\n",
        "💡 **Question 1**\n",
        "\n",
        "Given a string `s`, *find the first non-repeating character in it and return its index*. If it does not exist, return `-1`.\n",
        "\n",
        "</aside>"
      ],
      "metadata": {
        "id": "XqGcQZ7mj8Mw"
      }
    },
    {
      "cell_type": "code",
      "execution_count": 1,
      "metadata": {
        "colab": {
          "base_uri": "https://localhost:8080/"
        },
        "id": "3fyiO2g_j5d0",
        "outputId": "09c1cd5d-23e9-44d3-97fc-ca3651c2bfc6"
      },
      "outputs": [
        {
          "output_type": "stream",
          "name": "stdout",
          "text": [
            "0\n"
          ]
        }
      ],
      "source": [
        "def firstUniqChar(s):\n",
        "    char_freq = {}\n",
        "\n",
        "    for char in s:\n",
        "        if char in char_freq:\n",
        "            char_freq[char] += 1\n",
        "        else:\n",
        "            char_freq[char] = 1\n",
        "\n",
        "    for i, char in enumerate(s):\n",
        "        if char_freq[char] == 1:\n",
        "            return i\n",
        "\n",
        "    return -1\n",
        "\n",
        "s = \"leetcode\"\n",
        "result = firstUniqChar(s)\n",
        "print(result)\n"
      ]
    },
    {
      "cell_type": "markdown",
      "source": [
        "<aside>\n",
        "💡 **Question 2**\n",
        "\n",
        "Given a **circular integer array** `nums` of length `n`, return *the maximum possible sum of a non-empty **subarray** of* `nums`.\n",
        "\n",
        "A **circular array** means the end of the array connects to the beginning of the array. Formally, the next element of `nums[i]` is `nums[(i + 1) % n]` and the previous element of `nums[i]` is `nums[(i - 1 + n) % n]`.\n",
        "\n",
        "A **subarray** may only include each element of the fixed buffer `nums` at most once. Formally, for a subarray `nums[i], nums[i + 1], ..., nums[j]`, there does not exist `i <= k1`, `k2 <= j` with `k1 % n == k2 % n`.\n",
        "\n",
        "</aside>"
      ],
      "metadata": {
        "id": "inPFgOs6kExU"
      }
    },
    {
      "cell_type": "code",
      "source": [
        "def maxSubarraySumCircular(nums):\n",
        "    def kadane(arr):\n",
        "        max_sum = float('-inf')\n",
        "        current_sum = 0\n",
        "\n",
        "        for num in arr:\n",
        "            current_sum = max(num, current_sum + num)\n",
        "            max_sum = max(max_sum, current_sum)\n",
        "\n",
        "        return max_sum\n",
        "\n",
        "    total_sum = sum(nums)\n",
        "    max_sum_non_circular = kadane(nums)\n",
        "    negated_nums = [-num for num in nums]\n",
        "    max_sum_circular = total_sum + kadane(negated_nums)\n",
        "\n",
        "    if max_sum_circular == 0:\n",
        "        return max_sum_non_circular\n",
        "\n",
        "    return max(max_sum_non_circular, max_sum_circular)\n",
        "\n",
        "nums = [1, -2, 3, -2]\n",
        "result = maxSubarraySumCircular(nums)\n",
        "print(result)\n"
      ],
      "metadata": {
        "colab": {
          "base_uri": "https://localhost:8080/"
        },
        "id": "NfW5-SwUkGAs",
        "outputId": "cf9992f8-2357-4378-c461-1e5a27a38363"
      },
      "execution_count": 2,
      "outputs": [
        {
          "output_type": "stream",
          "name": "stdout",
          "text": [
            "3\n"
          ]
        }
      ]
    },
    {
      "cell_type": "markdown",
      "source": [
        "<aside>\n",
        "💡 **Question 3**\n",
        "\n",
        "The school cafeteria offers circular and square sandwiches at lunch break, referred to by numbers `0` and `1` respectively. All students stand in a queue. Each student either prefers square or circular sandwiches.\n",
        "\n",
        "The number of sandwiches in the cafeteria is equal to the number of students. The sandwiches are placed in a **stack**. At each step:\n",
        "\n",
        "- If the student at the front of the queue **prefers** the sandwich on the top of the stack, they will **take it** and leave the queue.\n",
        "- Otherwise, they will **leave it** and go to the queue's end.\n",
        "\n",
        "This continues until none of the queue students want to take the top sandwich and are thus unable to eat.\n",
        "\n",
        "You are given two integer arrays `students` and `sandwiches` where `sandwiches[i]` is the type of the `ith` sandwich in the stack (`i = 0` is the top of the stack) and `students[j]` is the preference of the `jth` student in the initial queue (`j = 0` is the front of the queue). Return *the number of students that are unable to eat.*\n",
        "\n",
        "</aside>"
      ],
      "metadata": {
        "id": "wNTgqDsakUFf"
      }
    },
    {
      "cell_type": "code",
      "source": [
        "def countStudents(students, sandwiches):\n",
        "    count = 0\n",
        "\n",
        "    while students:\n",
        "        if students[0] == sandwiches[0]:\n",
        "            students.pop(0)\n",
        "            sandwiches.pop(0)\n",
        "            count = 0\n",
        "        else:\n",
        "            students.append(students.pop(0))\n",
        "            count += 1\n",
        "\n",
        "        if count == len(students):\n",
        "            break\n",
        "\n",
        "    return count\n",
        "\n",
        "students = [1, 1, 0, 0]\n",
        "sandwiches = [0, 1, 0, 1]\n",
        "result = countStudents(students, sandwiches)\n",
        "print(result)\n"
      ],
      "metadata": {
        "colab": {
          "base_uri": "https://localhost:8080/"
        },
        "id": "zRU-NmZskjUH",
        "outputId": "7d71f403-9fc6-481e-a5c6-513c8a7848b5"
      },
      "execution_count": 3,
      "outputs": [
        {
          "output_type": "stream",
          "name": "stdout",
          "text": [
            "0\n"
          ]
        }
      ]
    },
    {
      "cell_type": "markdown",
      "source": [
        "<aside>\n",
        "💡 **Question 4**\n",
        "\n",
        "You have a `RecentCounter` class which counts the number of recent requests within a certain time frame.\n",
        "\n",
        "Implement the `RecentCounter` class:\n",
        "\n",
        "- `RecentCounter()` Initializes the counter with zero recent requests.\n",
        "- `int ping(int t)` Adds a new request at time `t`, where `t` represents some time in milliseconds, and returns the number of requests that has happened in the past `3000` milliseconds (including the new request). Specifically, return the number of requests that have happened in the inclusive range `[t - 3000, t]`.\n",
        "\n",
        "It is **guaranteed** that every call to `ping` uses a strictly larger value of `t` than the previous call.\n",
        "\n",
        "</aside>"
      ],
      "metadata": {
        "id": "V7KO7PIJkqOl"
      }
    },
    {
      "cell_type": "code",
      "source": [
        "from collections import deque\n",
        "\n",
        "class RecentCounter:\n",
        "    def __init__(self):\n",
        "        self.requests = deque()\n",
        "\n",
        "    def ping(self, t):\n",
        "        self.requests.append(t)\n",
        "\n",
        "        while self.requests[0] < t - 3000:\n",
        "            self.requests.popleft()\n",
        "\n",
        "        return len(self.requests)\n",
        "\n",
        "recentCounter = RecentCounter()\n",
        "result = []\n",
        "result.append(recentCounter.ping(1))\n",
        "result.append(recentCounter.ping(100))\n",
        "result.append(recentCounter.ping(3001))\n",
        "result.append(recentCounter.ping(3002))\n",
        "print(result)\n"
      ],
      "metadata": {
        "colab": {
          "base_uri": "https://localhost:8080/"
        },
        "id": "qYvCHiWckyHQ",
        "outputId": "8a37b4df-6296-4b89-8d0c-448982a8d851"
      },
      "execution_count": 4,
      "outputs": [
        {
          "output_type": "stream",
          "name": "stdout",
          "text": [
            "[1, 2, 3, 3]\n"
          ]
        }
      ]
    },
    {
      "cell_type": "markdown",
      "source": [
        "<aside>\n",
        "💡 **Question 5**\n",
        "\n",
        "There are `n` friends that are playing a game. The friends are sitting in a circle and are numbered from `1` to `n` in **clockwise order**. More formally, moving clockwise from the `ith` friend brings you to the `(i+1)th` friend for `1 <= i < n`, and moving clockwise from the `nth` friend brings you to the `1st` friend.\n",
        "\n",
        "The rules of the game are as follows:\n",
        "\n",
        "1. **Start** at the `1st` friend.\n",
        "2. Count the next `k` friends in the clockwise direction **including** the friend you started at. The counting wraps around the circle and may count some friends more than once.\n",
        "3. The last friend you counted leaves the circle and loses the game.\n",
        "4. If there is still more than one friend in the circle, go back to step `2` **starting** from the friend **immediately clockwise** of the friend who just lost and repeat.\n",
        "5. Else, the last friend in the circle wins the game.\n",
        "\n",
        "Given the number of friends, `n`, and an integer `k`, return *the winner of the game*.\n",
        "\n",
        "</aside>"
      ],
      "metadata": {
        "id": "nLKgPrlSkyqd"
      }
    },
    {
      "cell_type": "code",
      "source": [
        "from collections import deque\n",
        "\n",
        "def findTheWinner(n, k):\n",
        "    friends = deque(range(1, n + 1))\n",
        "\n",
        "    while len(friends) > 1:\n",
        "        friends.rotate(-k + 1)\n",
        "        friends.pop()\n",
        "\n",
        "    return friends[0]\n",
        "\n",
        "n = 5\n",
        "k = 2\n",
        "result = findTheWinner(n, k)\n",
        "print(result)\n"
      ],
      "metadata": {
        "colab": {
          "base_uri": "https://localhost:8080/"
        },
        "id": "_khWYl0Hk_Gl",
        "outputId": "6f93b2bf-b23e-4b01-9397-fe220fa27688"
      },
      "execution_count": 5,
      "outputs": [
        {
          "output_type": "stream",
          "name": "stdout",
          "text": [
            "5\n"
          ]
        }
      ]
    },
    {
      "cell_type": "markdown",
      "source": [
        "<aside>\n",
        "💡 **Question 6**\n",
        "\n",
        "You are given an integer array `deck`. There is a deck of cards where every card has a unique integer. The integer on the `ith` card is `deck[i]`.\n",
        "\n",
        "You can order the deck in any order you want. Initially, all the cards start face down (unrevealed) in one deck.\n",
        "\n",
        "You will do the following steps repeatedly until all cards are revealed:\n",
        "\n",
        "1. Take the top card of the deck, reveal it, and take it out of the deck.\n",
        "2. If there are still cards in the deck then put the next top card of the deck at the bottom of the deck.\n",
        "3. If there are still unrevealed cards, go back to step 1. Otherwise, stop.\n",
        "\n",
        "Return *an ordering of the deck that would reveal the cards in increasing order*.\n",
        "\n",
        "**Note** that the first entry in the answer is considered to be the top of the deck.\n",
        "\n",
        "</aside>"
      ],
      "metadata": {
        "id": "ujErFeZ0lE31"
      }
    },
    {
      "cell_type": "code",
      "source": [
        "\n",
        "def deckRevealedIncreasing(deck):\n",
        "    n = len(deck)\n",
        "    deck.sort(reverse=True)\n",
        "    result = []\n",
        "\n",
        "    while deck:\n",
        "        if result:\n",
        "            result.insert(0, result.pop())\n",
        "\n",
        "        result.insert(0, deck.pop())\n",
        "\n",
        "    return result\n",
        "\n",
        "deck = [17, 13, 11, 2, 3, 5, 7]\n",
        "result = deckRevealedIncreasing(deck)\n",
        "print(result)\n"
      ],
      "metadata": {
        "colab": {
          "base_uri": "https://localhost:8080/"
        },
        "id": "4-pXdCdSlOZK",
        "outputId": "be022e55-26ce-40f1-ddfa-74a67f4881bd"
      },
      "execution_count": 9,
      "outputs": [
        {
          "output_type": "stream",
          "name": "stdout",
          "text": [
            "[2, 13, 3, 11, 5, 17, 7]\n"
          ]
        }
      ]
    },
    {
      "cell_type": "markdown",
      "source": [
        "<aside>\n",
        "💡 **Question 7**\n",
        "\n",
        "Design a queue that supports `push` and `pop` operations in the front, middle, and back.\n",
        "\n",
        "Implement the `FrontMiddleBack` class:\n",
        "\n",
        "- `FrontMiddleBack()` Initializes the queue.\n",
        "- `void pushFront(int val)` Adds `val` to the **front** of the queue.\n",
        "- `void pushMiddle(int val)` Adds `val` to the **middle** of the queue.\n",
        "- `void pushBack(int val)` Adds `val` to the **back** of the queue.\n",
        "- `int popFront()` Removes the **front** element of the queue and returns it. If the queue is empty, return `1`.\n",
        "- `int popMiddle()` Removes the **middle** element of the queue and returns it. If the queue is empty, return `1`.\n",
        "- `int popBack()` Removes the **back** element of the queue and returns it. If the queue is empty, return `1`.\n",
        "\n",
        "**Notice** that when there are **two** middle position choices, the operation is performed on the **frontmost** middle position choice. For example:\n",
        "\n",
        "- Pushing `6` into the middle of `[1, 2, 3, 4, 5]` results in `[1, 2, 6, 3, 4, 5]`.\n",
        "- Popping the middle from `[1, 2, 3, 4, 5, 6]` returns `3` and results in `[1, 2, 4, 5, 6]`.\n",
        "</aside>"
      ],
      "metadata": {
        "id": "k5zZmbm-lO0O"
      }
    },
    {
      "cell_type": "code",
      "source": [
        "from collections import deque\n",
        "\n",
        "class FrontMiddleBackQueue:\n",
        "    def __init__(self):\n",
        "        self.front = deque()\n",
        "        self.back = deque()\n",
        "\n",
        "    def pushFront(self, val):\n",
        "        self.front.appendleft(val)\n",
        "        self.adjustSizes()\n",
        "\n",
        "    def pushMiddle(self, val):\n",
        "        if len(self.front) == len(self.back):\n",
        "            self.back.appendleft(self.front.pop())\n",
        "        self.front.append(val)\n",
        "        self.adjustSizes()\n",
        "\n",
        "    def pushBack(self, val):\n",
        "        self.back.append(val)\n",
        "        self.adjustSizes()\n",
        "\n",
        "    def popFront(self):\n",
        "        if self.front:\n",
        "            val = self.front.popleft()\n",
        "            self.adjustSizes()\n",
        "            return val\n",
        "        return -1\n",
        "\n",
        "    def popMiddle(self):\n",
        "        if len(self.front) == len(self.back):\n",
        "            val = self.front.pop()\n",
        "        else:\n",
        "            val = self.back.popleft()\n",
        "        self.adjustSizes()\n",
        "        return val\n",
        "\n",
        "    def popBack(self):\n",
        "        if self.back:\n",
        "            val = self.back.pop()\n",
        "            self.adjustSizes()\n",
        "            return val\n",
        "        return -1\n",
        "\n",
        "    def adjustSizes(self):\n",
        "        if len(self.front) > len(self.back) + 1:\n",
        "            self.back.appendleft(self.front.pop())\n",
        "        elif len(self.front) < len(self.back):\n",
        "            self.front.append(self.back.popleft())\n",
        "\n",
        "frontMiddleBackQueue = FrontMiddleBackQueue()\n",
        "result = []\n",
        "result.append(None)\n",
        "frontMiddleBackQueue.pushFront(1)\n",
        "result.append(None)\n",
        "frontMiddleBackQueue.pushBack(2)\n",
        "result.append(None)\n",
        "frontMiddleBackQueue.pushMiddle(3)\n",
        "result.append(None)\n",
        "frontMiddleBackQueue.pushMiddle(4)\n",
        "result.append(frontMiddleBackQueue.popFront())\n",
        "result.append(frontMiddleBackQueue.popMiddle())\n",
        "result.append(frontMiddleBackQueue.popMiddle())\n",
        "result.append(frontMiddleBackQueue.popBack())\n",
        "result.append(frontMiddleBackQueue.popFront())\n",
        "print(result)\n"
      ],
      "metadata": {
        "colab": {
          "base_uri": "https://localhost:8080/"
        },
        "id": "TivQtm_blggF",
        "outputId": "f72a09f4-2d5b-42da-efb1-9e35e4f3f5e7"
      },
      "execution_count": 7,
      "outputs": [
        {
          "output_type": "stream",
          "name": "stdout",
          "text": [
            "[None, None, None, None, 3, 2, 1, -1, 4]\n"
          ]
        }
      ]
    },
    {
      "cell_type": "markdown",
      "source": [
        "<aside>\n",
        "💡 **Question 8**\n",
        "\n",
        "For a stream of integers, implement a data structure that checks if the last `k` integers parsed in the stream are **equal** to `value`.\n",
        "\n",
        "Implement the **DataStream** class:\n",
        "\n",
        "- `DataStream(int value, int k)` Initializes the object with an empty integer stream and the two integers `value` and `k`.\n",
        "- `boolean consec(int num)` Adds `num` to the stream of integers. Returns `true` if the last `k` integers are equal to `value`, and `false` otherwise. If there are less than `k` integers, the condition does not hold true, so returns `false`.\n",
        "</aside>"
      ],
      "metadata": {
        "id": "hl6C6oYulg4u"
      }
    },
    {
      "cell_type": "code",
      "source": [
        "from collections import deque\n",
        "\n",
        "class DataStream:\n",
        "    def __init__(self, value, k):\n",
        "        self.stream = deque()\n",
        "        self.value = value\n",
        "        self.k = k\n",
        "\n",
        "    def consec(self, num):\n",
        "        self.stream.append(num)\n",
        "\n",
        "        if len(self.stream) < self.k:\n",
        "            return False\n",
        "\n",
        "        if len(self.stream) > self.k:\n",
        "            self.stream.popleft()\n",
        "\n",
        "        return all(x == self.value for x in self.stream)\n",
        "\n",
        "dataStream = DataStream(4, 3)\n",
        "result = []\n",
        "result.append(None)\n",
        "result.append(dataStream.consec(4))\n",
        "result.append(dataStream.consec(4))\n",
        "result.append(dataStream.consec(4))\n",
        "result.append(dataStream.consec(3))\n",
        "print(result)\n"
      ],
      "metadata": {
        "colab": {
          "base_uri": "https://localhost:8080/"
        },
        "id": "uWeHO1Fslsjd",
        "outputId": "3a030657-469f-495b-dd6d-78906241be82"
      },
      "execution_count": 8,
      "outputs": [
        {
          "output_type": "stream",
          "name": "stdout",
          "text": [
            "[None, False, False, True, False]\n"
          ]
        }
      ]
    }
  ]
}