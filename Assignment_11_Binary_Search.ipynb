{
  "nbformat": 4,
  "nbformat_minor": 0,
  "metadata": {
    "colab": {
      "provenance": []
    },
    "kernelspec": {
      "name": "python3",
      "display_name": "Python 3"
    },
    "language_info": {
      "name": "python"
    }
  },
  "cells": [
    {
      "cell_type": "markdown",
      "source": [
        "1.Given a non-negative integer `x`, return *the square root of* `x` *rounded down to the nearest integer*. The returned integer should be **non-negative** as well.\n",
        "\n",
        "You **must not use** any built-in exponent function or operator.\n",
        "\n",
        "- For example, do not use `pow(x, 0.5)` in c++ or `x ** 0.5` in python.\n",
        "\n"
      ],
      "metadata": {
        "id": "9-us2gwu3R8x"
      }
    },
    {
      "cell_type": "code",
      "execution_count": 1,
      "metadata": {
        "colab": {
          "base_uri": "https://localhost:8080/"
        },
        "id": "rrgI4TPk29Of",
        "outputId": "ecc0fb20-bec6-4e6a-810d-e6adf7db2faf"
      },
      "outputs": [
        {
          "output_type": "stream",
          "name": "stdout",
          "text": [
            "2\n"
          ]
        }
      ],
      "source": [
        "def mySqrt(x):\n",
        "    left = 0\n",
        "    right = x\n",
        "\n",
        "    while left <= right:\n",
        "        mid = (left + right) // 2\n",
        "        if mid * mid <= x:\n",
        "            left = mid + 1\n",
        "        else:\n",
        "            right = mid - 1\n",
        "\n",
        "    return left - 1\n",
        "print(mySqrt(8))\n"
      ]
    },
    {
      "cell_type": "markdown",
      "source": [
        "<aside>\n",
        " **Question 2**\n",
        "\n",
        "A peak element is an element that is strictly greater than its neighbors.\n",
        "\n",
        "Given a **0-indexed** integer array `nums`, find a peak element, and return its index. If the array contains multiple peaks, return the index to **any of the peaks**.\n",
        "\n",
        "You may imagine that `nums[-1] = nums[n] = -∞`. In other words, an element is always considered to be strictly greater than a neighbor that is outside the array.\n",
        "\n",
        "You must write an algorithm that runs in `O(log n)` time.\n",
        "\n",
        "</aside>"
      ],
      "metadata": {
        "id": "YbkJWWsh3r0E"
      }
    },
    {
      "cell_type": "code",
      "source": [
        "def findPeakElement(nums):\n",
        "    left = 0\n",
        "    right = len(nums) - 1\n",
        "\n",
        "    while left <= right:\n",
        "        mid = (left + right) // 2\n",
        "\n",
        "        if (mid == 0 or nums[mid] > nums[mid - 1]) and (mid == len(nums) - 1 or nums[mid] > nums[mid + 1]):\n",
        "            return mid\n",
        "        elif mid < len(nums) - 1 and nums[mid] < nums[mid + 1]:\n",
        "            left = mid + 1\n",
        "        else:\n",
        "            right = mid - 1\n",
        "\n",
        "    return left\n",
        "nums = [1, 2, 3, 1]\n",
        "print(findPeakElement(nums))\n"
      ],
      "metadata": {
        "colab": {
          "base_uri": "https://localhost:8080/"
        },
        "id": "_J9ha45x3wND",
        "outputId": "dd9df368-eb72-4183-991a-3cfe64157f4f"
      },
      "execution_count": 2,
      "outputs": [
        {
          "output_type": "stream",
          "name": "stdout",
          "text": [
            "2\n"
          ]
        }
      ]
    },
    {
      "cell_type": "markdown",
      "source": [
        "3.Given an array nums containing n distinct numbers in the range [0, n], return the only number in the range that is missing from the array."
      ],
      "metadata": {
        "id": "QzqyxQUQ3-al"
      }
    },
    {
      "cell_type": "code",
      "source": [
        "def missingNumber(nums):\n",
        "    n = len(nums)\n",
        "    missing = n\n",
        "\n",
        "    for i, num in enumerate(nums):\n",
        "        missing ^= i ^ num\n",
        "\n",
        "    return missing\n",
        "nums = [3, 0, 1]\n",
        "print(missingNumber(nums))\n"
      ],
      "metadata": {
        "colab": {
          "base_uri": "https://localhost:8080/"
        },
        "id": "Q-JpnBhx4Az3",
        "outputId": "139aa084-d0e0-49ba-9524-8acd3a5542c4"
      },
      "execution_count": 3,
      "outputs": [
        {
          "output_type": "stream",
          "name": "stdout",
          "text": [
            "2\n"
          ]
        }
      ]
    },
    {
      "cell_type": "markdown",
      "source": [
        "4.Given an array of integers `nums` containing `n + 1` integers where each integer is in the range `[1, n]` inclusive.\n",
        "\n",
        "There is only **one repeated number** in `nums`, return *this repeated number*.\n",
        "\n",
        "You must solve the problem **without** modifying the array `nums` and uses only constant extra space."
      ],
      "metadata": {
        "id": "n_Sxj_WT4H2j"
      }
    },
    {
      "cell_type": "code",
      "source": [
        "def findDuplicate(nums):\n",
        "    slow = nums[0]\n",
        "    fast = nums[0]\n",
        "\n",
        "    while True:\n",
        "        slow = nums[slow]\n",
        "        fast = nums[nums[fast]]\n",
        "        if slow == fast:\n",
        "            break\n",
        "\n",
        "    slow = nums[0]\n",
        "    while slow != fast:\n",
        "        slow = nums[slow]\n",
        "        fast = nums[fast]\n",
        "\n",
        "    return slow\n",
        "nums = [1, 3, 4, 2, 2]\n",
        "print(findDuplicate(nums))\n"
      ],
      "metadata": {
        "colab": {
          "base_uri": "https://localhost:8080/"
        },
        "id": "84Tb4c9a4eb_",
        "outputId": "3b05f86f-f692-41e6-f267-1d6c37ee9116"
      },
      "execution_count": 4,
      "outputs": [
        {
          "output_type": "stream",
          "name": "stdout",
          "text": [
            "2\n"
          ]
        }
      ]
    },
    {
      "cell_type": "markdown",
      "source": [
        "5.Given two integer arrays nums1 and nums2, return an array of their intersection. Each element in the result must be unique and you may return the result in any order."
      ],
      "metadata": {
        "id": "TsZu6D3O4nas"
      }
    },
    {
      "cell_type": "code",
      "source": [
        "def intersection(nums1, nums2):\n",
        "    nums1_set = set(nums1)\n",
        "    intersection = set()\n",
        "\n",
        "    for num in nums2:\n",
        "        if num in nums1_set:\n",
        "            intersection.add(num)\n",
        "\n",
        "    return list(intersection)\n",
        "nums1 = [4, 9, 5]\n",
        "nums2 = [9, 4, 9, 8, 4]\n",
        "print(intersection(nums1, nums2))  # Output: [9, 4]\n"
      ],
      "metadata": {
        "colab": {
          "base_uri": "https://localhost:8080/"
        },
        "id": "iU0s0Jg24nFO",
        "outputId": "87cc6aaf-da4e-430b-9737-0dec3429e7b3"
      },
      "execution_count": 5,
      "outputs": [
        {
          "output_type": "stream",
          "name": "stdout",
          "text": [
            "[9, 4]\n"
          ]
        }
      ]
    },
    {
      "cell_type": "markdown",
      "source": [
        "6.Suppose an array of length `n` sorted in ascending order is **rotated** between `1` and `n` times. For example, the array `nums = [0,1,2,4,5,6,7]` might become:\n",
        "\n",
        "- `[4,5,6,7,0,1,2]` if it was rotated `4` times.\n",
        "- `[0,1,2,4,5,6,7]` if it was rotated `7` times.\n",
        "\n",
        "Notice that **rotating** an array `[a[0], a[1], a[2], ..., a[n-1]]` 1 time results in the array `[a[n-1], a[0], a[1], a[2], ..., a[n-2]]`.\n",
        "\n",
        "Given the sorted rotated array `nums` of **unique** elements, return *the minimum element of this array*.\n",
        "\n",
        "You must write an algorithm that runs in `O(log n) time.`\n",
        "\n"
      ],
      "metadata": {
        "id": "VOvzgNE64-1s"
      }
    },
    {
      "cell_type": "code",
      "source": [
        "def findMin(nums):\n",
        "    left = 0\n",
        "    right = len(nums) - 1\n",
        "\n",
        "    while left < right:\n",
        "        mid = (left + right) // 2\n",
        "\n",
        "        if nums[mid] > nums[right]:\n",
        "            left = mid + 1\n",
        "        else:\n",
        "            right = mid\n",
        "\n",
        "    return nums[left]\n",
        "nums = [3, 4, 5, 1, 2]\n",
        "print(findMin(nums))  # Output: 1\n"
      ],
      "metadata": {
        "colab": {
          "base_uri": "https://localhost:8080/"
        },
        "id": "elJcXcEv5CyC",
        "outputId": "8f4d5b15-5455-49f5-bbe3-ab2e71fbdd43"
      },
      "execution_count": 6,
      "outputs": [
        {
          "output_type": "stream",
          "name": "stdout",
          "text": [
            "1\n"
          ]
        }
      ]
    },
    {
      "cell_type": "markdown",
      "source": [
        "7.Given an array of integers `nums` sorted in non-decreasing order, find the starting and ending position of a given `target` value.\n",
        "\n",
        "If `target` is not found in the array, return `[-1, -1]`.\n",
        "\n",
        "You must write an algorithm with `O(log n)` runtime complexity.\n",
        "\n"
      ],
      "metadata": {
        "id": "rwvPZRCy5X2Q"
      }
    },
    {
      "cell_type": "code",
      "source": [
        "def searchRange(nums, target):\n",
        "    start = -1\n",
        "    end = -1\n",
        "\n",
        "\n",
        "    left = 0\n",
        "    right = len(nums) - 1\n",
        "\n",
        "    while left <= right:\n",
        "        mid = (left + right) // 2\n",
        "\n",
        "        if nums[mid] == target:\n",
        "            start = mid\n",
        "            right = mid - 1\n",
        "        elif nums[mid] < target:\n",
        "            left = mid + 1\n",
        "        else:\n",
        "            right = mid - 1\n",
        "\n",
        "\n",
        "    left = 0\n",
        "    right = len(nums) - 1\n",
        "\n",
        "    while left <= right:\n",
        "        mid = (left + right) // 2\n",
        "\n",
        "        if nums[mid] == target:\n",
        "            end = mid\n",
        "            left = mid + 1\n",
        "        elif nums[mid] < target:\n",
        "            left = mid + 1\n",
        "        else:\n",
        "            right = mid - 1\n",
        "\n",
        "    return [start, end]\n",
        "nums = [5, 7, 7, 8, 8, 10]\n",
        "target = 8\n",
        "print(searchRange(nums, target))\n",
        "\n"
      ],
      "metadata": {
        "colab": {
          "base_uri": "https://localhost:8080/"
        },
        "id": "Gadt64tl5a_n",
        "outputId": "8581cf6e-b6f1-46cf-8cb3-18824debb514"
      },
      "execution_count": 7,
      "outputs": [
        {
          "output_type": "stream",
          "name": "stdout",
          "text": [
            "[3, 4]\n"
          ]
        }
      ]
    },
    {
      "cell_type": "markdown",
      "source": [
        "8.Given two integer arrays nums1 and nums2, return an array of their intersection. Each element in the result must appear as many times as it shows in both arrays and you may return the result in any order."
      ],
      "metadata": {
        "id": "3RwY-biO5gLU"
      }
    },
    {
      "cell_type": "code",
      "source": [
        "from collections import defaultdict\n",
        "\n",
        "def intersect(nums1, nums2):\n",
        "    freq_map = defaultdict(int)\n",
        "    intersection = []\n",
        "\n",
        "    for num in nums1:\n",
        "        freq_map[num] += 1\n",
        "\n",
        "    for num in nums2:\n",
        "        if freq_map[num] > 0:\n",
        "            intersection.append(num)\n",
        "            freq_map[num] -= 1\n",
        "\n",
        "    return intersection\n",
        "nums1 = [1, 2, 2, 1]\n",
        "nums2 = [2, 2]\n",
        "print(intersect(nums1, nums2))\n"
      ],
      "metadata": {
        "colab": {
          "base_uri": "https://localhost:8080/"
        },
        "id": "xYMz7YI05ijl",
        "outputId": "a2fbe6bd-2a56-4cf5-cd49-1441ab0ae5d2"
      },
      "execution_count": 8,
      "outputs": [
        {
          "output_type": "stream",
          "name": "stdout",
          "text": [
            "[2, 2]\n"
          ]
        }
      ]
    }
  ]
}