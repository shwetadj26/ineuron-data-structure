{
  "nbformat": 4,
  "nbformat_minor": 0,
  "metadata": {
    "colab": {
      "provenance": []
    },
    "kernelspec": {
      "name": "python3",
      "display_name": "Python 3"
    },
    "language_info": {
      "name": "python"
    }
  },
  "cells": [
    {
      "cell_type": "markdown",
      "source": [
        "<aside>\n",
        "💡 Question-1\n",
        "\n",
        "Given a binary tree, your task is to find subtree with maximum sum in tree.\n",
        "\n",
        "Examples:\n",
        "\n",
        "Input1 :\n",
        "\n",
        "       1\n",
        "\n",
        "     /   \\\n",
        "\n",
        "   2      3\n",
        "\n",
        "  / \\    / \\\n",
        "\n",
        "4   5  6   7\n",
        "\n",
        "Output1 : 28\n",
        "\n",
        "As all the tree elements are positive, the largest subtree sum is equal to sum of all tree elements.\n",
        "\n",
        "</aside>"
      ],
      "metadata": {
        "id": "2y4mOnfTGCLe"
      }
    },
    {
      "cell_type": "code",
      "execution_count": 2,
      "metadata": {
        "colab": {
          "base_uri": "https://localhost:8080/"
        },
        "id": "T4f_sgd4GBRd",
        "outputId": "5885a69d-4191-444c-dcae-a145976beedc"
      },
      "outputs": [
        {
          "output_type": "stream",
          "name": "stdout",
          "text": [
            "28\n"
          ]
        }
      ],
      "source": [
        "class TreeNode:\n",
        "    def __init__(self, value):\n",
        "        self.val = value\n",
        "        self.left = None\n",
        "        self.right = None\n",
        "\n",
        "def maxSubtreeSum(root):\n",
        "    if root is None:\n",
        "        return 0\n",
        "\n",
        "    leftSum = maxSubtreeSum(root.left)\n",
        "    rightSum = maxSubtreeSum(root.right)\n",
        "\n",
        "    subtreeSum = root.val + leftSum + rightSum\n",
        "\n",
        "    maxSum = max(subtreeSum, leftSum, rightSum, maxSum)\n",
        "\n",
        "    return subtreeSum\n",
        "\n",
        "root = TreeNode(1)\n",
        "root.left = TreeNode(2)\n",
        "root.right = TreeNode(3)\n",
        "root.left.left = TreeNode(4)\n",
        "root.left.right = TreeNode(5)\n",
        "root.right.left = TreeNode(6)\n",
        "root.right.right = TreeNode(7)\n",
        "\n",
        "maxSum = maxSubtreeSum(root)\n",
        "print(maxSum)  # Output: 28\n"
      ]
    },
    {
      "cell_type": "markdown",
      "source": [
        "<aside>\n",
        "💡 Question-2\n",
        "\n",
        "Construct the BST (Binary Search Tree) from its given level order traversal.\n",
        "\n",
        "Example:\n",
        "\n",
        "Input: arr[] = {7, 4, 12, 3, 6, 8, 1, 5, 10}\n",
        "\n",
        "Output: BST:\n",
        "\n",
        "            7\n",
        "\n",
        "         /    \\\n",
        "\n",
        "       4     12\n",
        "\n",
        "     /  \\     /\n",
        "\n",
        "    3   6  8\n",
        "\n",
        "   /    /     \\\n",
        "\n",
        " 1    5      10\n",
        "\n",
        "</aside>"
      ],
      "metadata": {
        "id": "VKt8dyiVGJAa"
      }
    },
    {
      "cell_type": "code",
      "source": [
        "\n",
        "\n",
        "class TreeNode:\n",
        "    def __init__(self, value):\n",
        "        self.val = value\n",
        "        self.left = None\n",
        "        self.right = None\n",
        "\n",
        "def constructBST(arr, size):\n",
        "    index = 0\n",
        "    return constructBSTUtil(arr, size, index)\n",
        "\n",
        "def constructBSTUtil(arr, size, index):\n",
        "    if index >= size:\n",
        "        return None\n",
        "\n",
        "    node = TreeNode(arr[index])\n",
        "    index += 1\n",
        "\n",
        "    node.left = constructBSTUtil(arr, size, index)\n",
        "    node.right = constructBSTUtil(arr, size, index)\n",
        "\n",
        "    return node\n",
        "\n",
        "def inorderTraversal(root):\n",
        "    if root is not None:\n",
        "        inorderTraversal(root.left)\n",
        "        print(root.val, end=\" \")\n",
        "        inorderTraversal(root.right)\n",
        "\n",
        "arr = [7, 4, 12, 3, 6, 8, 1, 5, 10]\n",
        "size = len(arr)\n",
        "\n",
        "root = constructBST(arr, size)\n",
        "\n",
        "inorderTraversal(root)\n"
      ],
      "metadata": {
        "colab": {
          "base_uri": "https://localhost:8080/"
        },
        "id": "zJgGtjCAGfVN",
        "outputId": "448eca46-7507-4716-ab71-e6b9a7cd5415"
      },
      "execution_count": 5,
      "outputs": [
        {
          "output_type": "stream",
          "name": "stdout",
          "text": [
            "1 3 4 5 6 7 8 10 12\n"
          ]
        }
      ]
    },
    {
      "cell_type": "markdown",
      "source": [
        "<aside>\n",
        "💡 Question-3\n",
        "\n",
        "Given an array of size n. The problem is to check whether the given array can represent the level order traversal of a Binary Search Tree or not.\n",
        "\n",
        "Examples:\n",
        "\n",
        "Input1 : arr[] = {7, 4, 12, 3, 6, 8, 1, 5, 10}\n",
        "\n",
        "Output1 : Yes\n",
        "\n",
        "For the given arr[], the Binary Search Tree is:\n",
        "\n",
        "            7\n",
        "\n",
        "         /    \\\n",
        "\n",
        "       4     12\n",
        "\n",
        "     /  \\     /\n",
        "\n",
        "    3   6  8\n",
        "\n",
        "   /    /     \\\n",
        "\n",
        " 1    5      10\n",
        "\n",
        "Input2 : arr[] = {11, 6, 13, 5, 12, 10}\n",
        "\n",
        "Output2 : No\n",
        "\n",
        "The given arr[] does not represent the level order traversal of a BST.\n",
        "\n",
        "</aside>"
      ],
      "metadata": {
        "id": "icrVR-bSGqu1"
      }
    },
    {
      "cell_type": "code",
      "source": [
        "def checkLevelOrder(arr):\n",
        "    if len(arr) == 0:\n",
        "        return True\n",
        "\n",
        "    n = len(arr)\n",
        "    index = 0\n",
        "\n",
        "    root = arr[index]\n",
        "    index += 1\n",
        "\n",
        "    left = []\n",
        "    right = []\n",
        "\n",
        "    while index < n:\n",
        "        current = arr[index]\n",
        "\n",
        "        if current < root:\n",
        "            left.append(current)\n",
        "        elif current > root:\n",
        "            break\n",
        "        else:\n",
        "            return False\n",
        "\n",
        "        index += 1\n",
        "\n",
        "    if index < n:\n",
        "        right = arr[index:]\n",
        "\n",
        "    return checkLevelOrder(left) and checkLevelOrder(right)\n",
        "\n",
        "arr = [7, 4, 12, 3, 6, 8, 1, 5, 10]\n",
        "result = checkLevelOrder(arr)\n",
        "print(result)  # Output: True\n"
      ],
      "metadata": {
        "colab": {
          "base_uri": "https://localhost:8080/"
        },
        "id": "RcqcshdAHGkk",
        "outputId": "fc1dfdc8-c11c-41d3-d487-6d2cebabc4b4"
      },
      "execution_count": 7,
      "outputs": [
        {
          "output_type": "stream",
          "name": "stdout",
          "text": [
            "True\n"
          ]
        }
      ]
    }
  ]
}