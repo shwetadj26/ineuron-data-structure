{
  "nbformat": 4,
  "nbformat_minor": 0,
  "metadata": {
    "colab": {
      "provenance": []
    },
    "kernelspec": {
      "name": "python3",
      "display_name": "Python 3"
    },
    "language_info": {
      "name": "python"
    }
  },
  "cells": [
    {
      "cell_type": "markdown",
      "source": [
        "<aside>\n",
        "💡 **Question 1**\n",
        "\n",
        "Given an array **arr[ ]** of size **N** having elements, the task is to find the next greater element for each element of the array in order of their appearance in the array.Next greater element of an element in the array is the nearest element on the right which is greater than the current element.If there does not exist next greater of current element, then next greater element for current element is -1. For example, next greater of the last element is always -1.\n",
        "\n",
        "</aside>"
      ],
      "metadata": {
        "id": "RMVbHYJddalh"
      }
    },
    {
      "cell_type": "code",
      "execution_count": 1,
      "metadata": {
        "colab": {
          "base_uri": "https://localhost:8080/"
        },
        "id": "NGEG-sBNcciF",
        "outputId": "e0850575-36a7-43d3-e769-055e21584f68"
      },
      "outputs": [
        {
          "output_type": "stream",
          "name": "stdout",
          "text": [
            "[3, 4, 4, -1]\n"
          ]
        }
      ],
      "source": [
        "def findNextGreaterElements(arr):\n",
        "    stack = []\n",
        "    result = []\n",
        "\n",
        "    for i in range(len(arr)-1, -1, -1):\n",
        "        while stack and stack[-1] <= arr[i]:\n",
        "            stack.pop()\n",
        "\n",
        "        if not stack:\n",
        "            result.append(-1)\n",
        "        else:\n",
        "            result.append(stack[-1])\n",
        "\n",
        "        stack.append(arr[i])\n",
        "\n",
        "    result.reverse()\n",
        "    return result\n",
        "\n",
        "arr = [1, 3, 2, 4]\n",
        "result = findNextGreaterElements(arr)\n",
        "print(result)\n"
      ]
    },
    {
      "cell_type": "markdown",
      "source": [
        "<aside>\n",
        "💡 **Question 2**\n",
        "\n",
        "Given an array **a** of integers of length **n**, find the nearest smaller number for every element such that the smaller element is on left side.If no small element present on the left print -1.\n",
        "\n",
        "</aside>"
      ],
      "metadata": {
        "id": "cm-Pbh4Fdk1E"
      }
    },
    {
      "cell_type": "code",
      "source": [
        "def findNearestSmallerElements(a):\n",
        "    stack = []\n",
        "    result = []\n",
        "\n",
        "    for i in range(len(a)):\n",
        "        while stack and stack[-1] >= a[i]:\n",
        "            stack.pop()\n",
        "\n",
        "        if not stack:\n",
        "            result.append(-1)\n",
        "        else:\n",
        "            result.append(stack[-1])\n",
        "\n",
        "        stack.append(a[i])\n",
        "\n",
        "    return result\n",
        "\n",
        "a = [1, 6, 2]\n",
        "result = findNearestSmallerElements(a)\n",
        "print(result)\n"
      ],
      "metadata": {
        "colab": {
          "base_uri": "https://localhost:8080/"
        },
        "id": "7e74e-EEdmF5",
        "outputId": "56c8064b-164b-4e4d-db2e-ab730d6e30d4"
      },
      "execution_count": 2,
      "outputs": [
        {
          "output_type": "stream",
          "name": "stdout",
          "text": [
            "[-1, 1, 1]\n"
          ]
        }
      ]
    },
    {
      "cell_type": "markdown",
      "source": [
        "<aside>\n",
        "💡 **Question 3**\n",
        "\n",
        "Implement a Stack using two queues **q1** and **q2**.\n",
        "\n",
        "</aside>"
      ],
      "metadata": {
        "id": "hYXkLwjRd3JY"
      }
    },
    {
      "cell_type": "code",
      "source": [
        "from queue import Queue\n",
        "\n",
        "class Stack:\n",
        "    def __init__(self):\n",
        "        self.q1 = Queue()\n",
        "        self.q2 = Queue()\n",
        "\n",
        "    def push(self, value):\n",
        "        self.q1.put(value)\n",
        "\n",
        "    def pop(self):\n",
        "        while self.q1.qsize() > 1:\n",
        "            self.q2.put(self.q1.get())\n",
        "\n",
        "        popped_element = self.q1.get()\n",
        "\n",
        "        self.q1, self.q2 = self.q2, self.q1\n",
        "\n",
        "        return popped_element\n",
        "\n",
        "stack = Stack()\n",
        "stack.push(2)\n",
        "stack.push(3)\n",
        "print(stack.pop())\n",
        "stack.push(4)\n",
        "print(stack.pop())\n"
      ],
      "metadata": {
        "colab": {
          "base_uri": "https://localhost:8080/"
        },
        "id": "H3XPri7cd2fZ",
        "outputId": "5cbb0037-d800-46e3-ed89-a97b76865ee7"
      },
      "execution_count": 3,
      "outputs": [
        {
          "output_type": "stream",
          "name": "stdout",
          "text": [
            "3\n",
            "4\n"
          ]
        }
      ]
    },
    {
      "cell_type": "markdown",
      "source": [
        "<aside>\n",
        "💡 **Question 4**\n",
        "\n",
        "You are given a stack **St**. You have to reverse the stack using recursion.\n",
        "\n",
        "</aside>"
      ],
      "metadata": {
        "id": "kiJfkttreMiq"
      }
    },
    {
      "cell_type": "code",
      "source": [
        "def reverseStack(stack):\n",
        "    if len(stack) <= 1:\n",
        "        return stack\n",
        "    else:\n",
        "        top = stack.pop()\n",
        "\n",
        "        reversed_stack = reverseStack(stack)\n",
        "\n",
        "        insertAtBottom(reversed_stack, top)\n",
        "\n",
        "        return reversed_stack\n",
        "\n",
        "def insertAtBottom(stack, item):\n",
        "    if len(stack) == 0:\n",
        "        stack.append(item)\n",
        "    else:\n",
        "        top = stack.pop()\n",
        "        insertAtBottom(stack, item)\n",
        "        stack.append(top)\n",
        "\n",
        "St = [3, 2, 1, 7, 6]\n",
        "reversed_stack = reverseStack(St)\n",
        "print(reversed_stack)\n"
      ],
      "metadata": {
        "colab": {
          "base_uri": "https://localhost:8080/"
        },
        "id": "T5YuCHd3eNuK",
        "outputId": "15873aba-3d42-416e-8c71-95d0a747911b"
      },
      "execution_count": 4,
      "outputs": [
        {
          "output_type": "stream",
          "name": "stdout",
          "text": [
            "[6, 7, 1, 2, 3]\n"
          ]
        }
      ]
    },
    {
      "cell_type": "markdown",
      "source": [
        "<aside>\n",
        "💡 **Question 5**\n",
        "\n",
        "You are given a string **S**, the task is to reverse the string using stack.\n",
        "\n",
        "</aside>"
      ],
      "metadata": {
        "id": "S0H3-JbceVqm"
      }
    },
    {
      "cell_type": "code",
      "source": [
        "def reverseString(S):\n",
        "    stack = []\n",
        "    reversed_string = \"\"\n",
        "\n",
        "    for char in S:\n",
        "        stack.append(char)\n",
        "\n",
        "    while stack:\n",
        "        reversed_string += stack.pop()\n",
        "\n",
        "    return reversed_string\n",
        "\n",
        "S = \"learn codeing\"\n",
        "reversed_str = reverseString(S)\n",
        "print(reversed_str)\n"
      ],
      "metadata": {
        "colab": {
          "base_uri": "https://localhost:8080/"
        },
        "id": "lsl0RALReW6H",
        "outputId": "3480f745-a1e9-4b8b-eaa5-d2f43b11b5c8"
      },
      "execution_count": 5,
      "outputs": [
        {
          "output_type": "stream",
          "name": "stdout",
          "text": [
            "gniedoc nrael\n"
          ]
        }
      ]
    },
    {
      "cell_type": "markdown",
      "source": [
        "<aside>\n",
        "💡 **Question 6**\n",
        "\n",
        "Given string **S** representing a postfix expression, the task is to evaluate the expression and find the final value. Operators will only include the basic arithmetic operators like ***, /, + and -**.\n",
        "\n",
        "</aside>"
      ],
      "metadata": {
        "id": "o4yk9W0yekla"
      }
    },
    {
      "cell_type": "code",
      "source": [
        "def evaluatePostfixExpression(S):\n",
        "    stack = []\n",
        "\n",
        "    for char in S:\n",
        "        if char.isdigit():\n",
        "            stack.append(int(char))\n",
        "        else:\n",
        "            operand2 = stack.pop()\n",
        "            operand1 = stack.pop()\n",
        "\n",
        "            result = performOperation(operand1, operand2, char)\n",
        "\n",
        "            stack.append(result)\n",
        "\n",
        "    return stack[0]\n",
        "\n",
        "def performOperation(operand1, operand2, operator):\n",
        "    if operator == '+':\n",
        "        return operand1 + operand2\n",
        "    elif operator == '-':\n",
        "        return operand1 - operand2\n",
        "    elif operator == '*':\n",
        "        return operand1 * operand2\n",
        "    elif operator == '/':\n",
        "        return operand1 / operand2\n",
        "\n",
        "S = \"231*+9-\"\n",
        "result = evaluatePostfixExpression(S)\n",
        "print(result)\n"
      ],
      "metadata": {
        "colab": {
          "base_uri": "https://localhost:8080/"
        },
        "id": "43LJ7ptJe0_U",
        "outputId": "1c2f14fe-f140-4935-89dd-ed4a63bdc993"
      },
      "execution_count": 6,
      "outputs": [
        {
          "output_type": "stream",
          "name": "stdout",
          "text": [
            "-4\n"
          ]
        }
      ]
    },
    {
      "cell_type": "markdown",
      "source": [
        "<aside>\n",
        "💡 **Question 7**\n",
        "\n",
        "Design a stack that supports push, pop, top, and retrieving the minimum element in constant time.\n",
        "\n",
        "Implement the `MinStack` class:\n",
        "\n",
        "- `MinStack()` initializes the stack object.\n",
        "- `void push(int val)` pushes the element `val` onto the stack.\n",
        "- `void pop()` removes the element on the top of the stack.\n",
        "- `int top()` gets the top element of the stack.\n",
        "- `int getMin()` retrieves the minimum element in the stack.\n",
        "\n",
        "You must implement a solution with `O(1)` time complexity for each function.\n",
        "\n",
        "</aside>"
      ],
      "metadata": {
        "id": "H0y2iXZ1e1cy"
      }
    },
    {
      "cell_type": "code",
      "source": [
        "class MinStack:\n",
        "    def __init__(self):\n",
        "        self.stack = []\n",
        "        self.min_stack = []\n",
        "\n",
        "    def push(self, val):\n",
        "        self.stack.append(val)\n",
        "\n",
        "        if not self.min_stack or val <= self.min_stack[-1]:\n",
        "            self.min_stack.append(val)\n",
        "\n",
        "    def pop(self):\n",
        "        popped_element = self.stack.pop()\n",
        "\n",
        "        if popped_element == self.min_stack[-1]:\n",
        "            self.min_stack.pop()\n",
        "\n",
        "    def top(self):\n",
        "        return self.stack[-1]\n",
        "\n",
        "    def getMin(self):\n",
        "        return self.min_stack[-1]\n",
        "\n",
        "minStack = MinStack()\n",
        "minStack.push(-2)\n",
        "minStack.push(0)\n",
        "minStack.push(-3)\n",
        "print(minStack.getMin())\n",
        "minStack.pop()\n",
        "print(minStack.top())\n",
        "print(minStack.getMin())\n"
      ],
      "metadata": {
        "colab": {
          "base_uri": "https://localhost:8080/"
        },
        "id": "bRyMeSR7e29y",
        "outputId": "cc6951e2-071d-4a5a-fe67-cf60b60be9bc"
      },
      "execution_count": 7,
      "outputs": [
        {
          "output_type": "stream",
          "name": "stdout",
          "text": [
            "-3\n",
            "0\n",
            "-2\n"
          ]
        }
      ]
    },
    {
      "cell_type": "markdown",
      "source": [
        "<aside>\n",
        "💡 **Question 8**\n",
        "\n",
        "Given `n` non-negative integers representing an elevation map where the width of each bar is `1`, compute how much water it can trap after raining.\n",
        "\n",
        "</aside>"
      ],
      "metadata": {
        "id": "tqxr-JBkfJqC"
      }
    },
    {
      "cell_type": "code",
      "source": [
        "def trapWater(height):\n",
        "    left = 0\n",
        "    right = len(height) - 1\n",
        "    left_max = 0\n",
        "    right_max = 0\n",
        "    water_trapped = 0\n",
        "\n",
        "    while left <= right:\n",
        "        if height[left] <= height[right]:\n",
        "            if height[left] > left_max:\n",
        "                left_max = height[left]\n",
        "            else:\n",
        "                water_trapped += left_max - height[left]\n",
        "            left += 1\n",
        "        else:\n",
        "            if height[right] > right_max:\n",
        "                right_max = height[right]\n",
        "            else:\n",
        "                water_trapped += right_max - height[right]\n",
        "            right -= 1\n",
        "\n",
        "    return water_trapped\n",
        "\n",
        "height = [0, 1, 0, 2, 1, 0, 1, 3, 2, 1, 2, 1]\n",
        "result = trapWater(height)\n",
        "print(result)\n"
      ],
      "metadata": {
        "colab": {
          "base_uri": "https://localhost:8080/"
        },
        "id": "CXW8PO4XgEXr",
        "outputId": "f71b31c2-3e8d-4cfe-ac4e-4d19e28de56a"
      },
      "execution_count": 8,
      "outputs": [
        {
          "output_type": "stream",
          "name": "stdout",
          "text": [
            "6\n"
          ]
        }
      ]
    }
  ]
}