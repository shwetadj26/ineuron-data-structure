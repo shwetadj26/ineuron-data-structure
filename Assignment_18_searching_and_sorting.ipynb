{
  "nbformat": 4,
  "nbformat_minor": 0,
  "metadata": {
    "colab": {
      "provenance": []
    },
    "kernelspec": {
      "name": "python3",
      "display_name": "Python 3"
    },
    "language_info": {
      "name": "python"
    }
  },
  "cells": [
    {
      "cell_type": "markdown",
      "source": [
        "<aside>\n",
        "💡 1. **Merge Intervals**\n",
        "\n",
        "Given an array of `intervals` where `intervals[i] = [starti, endi]`, merge all overlapping intervals, and return *an array of the non-overlapping intervals that cover all the intervals in the input*.\n",
        "\n",
        "</aside>"
      ],
      "metadata": {
        "id": "Yc8Fga0u_V5n"
      }
    },
    {
      "cell_type": "code",
      "execution_count": 1,
      "metadata": {
        "colab": {
          "base_uri": "https://localhost:8080/"
        },
        "id": "5TFuIvG7-tpx",
        "outputId": "6bb304a6-6d28-48d9-8ce1-3634df96f525"
      },
      "outputs": [
        {
          "output_type": "stream",
          "name": "stdout",
          "text": [
            "[[1, 6], [8, 10], [15, 18]]\n"
          ]
        }
      ],
      "source": [
        "def merge_intervals(intervals):\n",
        "    intervals.sort(key=lambda x: x[0])\n",
        "\n",
        "    result = []\n",
        "    current_interval = intervals[0]\n",
        "\n",
        "    for interval in intervals[1:]:\n",
        "        if interval[0] <= current_interval[1]:\n",
        "            current_interval[1] = max(current_interval[1], interval[1])\n",
        "        else:\n",
        "            result.append(current_interval)\n",
        "            current_interval = interval\n",
        "\n",
        "    result.append(current_interval)\n",
        "\n",
        "    return result\n",
        "\n",
        "intervals = [[1,3],[2,6],[8,10],[15,18]]\n",
        "merged_intervals = merge_intervals(intervals)\n",
        "print(merged_intervals)\n"
      ]
    },
    {
      "cell_type": "markdown",
      "source": [
        "<aside>\n",
        "💡 2. **Sort Colors**\n",
        "\n",
        "Given an array `nums` with `n` objects colored red, white, or blue, sort them **[in-place](https://en.wikipedia.org/wiki/In-place_algorithm)** so that objects of the same color are adjacent, with the colors in the order red, white, and blue.\n",
        "\n",
        "We will use the integers `0`, `1`, and `2` to represent the color red, white, and blue, respectively.\n",
        "\n",
        "You must solve this problem without using the library's sort function.\n",
        "\n",
        "</aside>"
      ],
      "metadata": {
        "id": "UVkIrC2X_gs6"
      }
    },
    {
      "cell_type": "code",
      "source": [
        "def sort_colors(nums):\n",
        "    low = 0\n",
        "    mid = 0\n",
        "    high = len(nums) - 1\n",
        "\n",
        "    while mid <= high:\n",
        "        if nums[mid] == 0:\n",
        "            nums[low], nums[mid] = nums[mid], nums[low]\n",
        "            low += 1\n",
        "            mid += 1\n",
        "        elif nums[mid] == 1:\n",
        "            mid += 1\n",
        "        else:\n",
        "            nums[mid], nums[high] = nums[high], nums[mid]\n",
        "            high -= 1\n",
        "\n",
        "    return nums\n",
        "\n",
        "nums = [2, 0, 2, 1, 1, 0]\n",
        "sorted_nums = sort_colors(nums)\n",
        "print(sorted_nums)\n"
      ],
      "metadata": {
        "colab": {
          "base_uri": "https://localhost:8080/"
        },
        "id": "opEHEbjJ_zYt",
        "outputId": "630461f5-004f-426c-f70b-1ab2db37d2dd"
      },
      "execution_count": 3,
      "outputs": [
        {
          "output_type": "stream",
          "name": "stdout",
          "text": [
            "[0, 0, 1, 1, 2, 2]\n"
          ]
        }
      ]
    },
    {
      "cell_type": "markdown",
      "source": [
        "<aside>\n",
        "💡 3. **First Bad Version Solution**\n",
        "\n",
        "You are a product manager and currently leading a team to develop a new product. Unfortunately, the latest version of your product fails the quality check. Since each version is developed based on the previous version, all the versions after a bad version are also bad.\n",
        "\n",
        "Suppose you have `n` versions `[1, 2, ..., n]` and you want to find out the first bad one, which causes all the following ones to be bad.\n",
        "\n",
        "You are given an API `bool isBadVersion(version)` which returns whether `version` is bad. Implement a function to find the first bad version. You should minimize the number of calls to the API.\n",
        "\n",
        "</aside>"
      ],
      "metadata": {
        "id": "YlOyHkcb_zz2"
      }
    },
    {
      "cell_type": "code",
      "source": [
        "def first_bad_version(n):\n",
        "    left = 1\n",
        "    right = n\n",
        "\n",
        "    while left < right:\n",
        "        mid = left + (right - left) // 2\n",
        "        if isBadVersion(mid):\n",
        "            right = mid\n",
        "        else:\n",
        "            left = mid + 1\n",
        "\n",
        "    return left\n",
        "\n",
        "first_bad = first_bad_version(5)\n",
        "print(first_bad)\n"
      ],
      "metadata": {
        "colab": {
          "base_uri": "https://localhost:8080/"
        },
        "id": "oT7w_EPJAMrB",
        "outputId": "c0c026eb-d6da-40d2-f290-ae3777b4bffe"
      },
      "execution_count": 5,
      "outputs": [
        {
          "output_type": "stream",
          "name": "stdout",
          "text": [
            "4\n"
          ]
        }
      ]
    },
    {
      "cell_type": "markdown",
      "source": [
        "<aside>\n",
        "💡 4. **Maximum Gap**\n",
        "\n",
        "Given an integer array `nums`, return *the maximum difference between two successive elements in its sorted form*. If the array contains less than two elements, return `0`.\n",
        "\n",
        "You must write an algorithm that runs in linear time and uses linear extra space.\n",
        "\n",
        "</aside>"
      ],
      "metadata": {
        "id": "-a1IGgUpANEB"
      }
    },
    {
      "cell_type": "code",
      "source": [
        "def maximum_gap(nums):\n",
        "    if len(nums) < 2:\n",
        "        return 0\n",
        "\n",
        "    max_num = max(nums)\n",
        "\n",
        "    exp = 1\n",
        "    n = len(nums)\n",
        "    aux = [0] * n\n",
        "\n",
        "    while max_num // exp > 0:\n",
        "        count = [0] * 10\n",
        "\n",
        "        for num in nums:\n",
        "            count[(num // exp) % 10] += 1\n",
        "\n",
        "        for i in range(1, 10):\n",
        "            count[i] += count[i - 1]\n",
        "\n",
        "        for i in range(n - 1, -1, -1):\n",
        "            digit = (nums[i] // exp) % 10\n",
        "            aux[count[digit] - 1] = nums[i]\n",
        "            count[digit] -= 1\n",
        "\n",
        "        for i in range(n):\n",
        "            nums[i] = aux[i]\n",
        "\n",
        "        exp *= 10\n",
        "\n",
        "    max_gap = 0\n",
        "    for i in range(1, n):\n",
        "        max_gap = max(max_gap, nums[i] - nums[i - 1])\n",
        "\n",
        "    return max_gap\n",
        "\n",
        "nums = [3, 6, 9, 1]\n",
        "max_gap = maximum_gap(nums)\n",
        "print(max_gap)\n"
      ],
      "metadata": {
        "colab": {
          "base_uri": "https://localhost:8080/"
        },
        "id": "lagZ-uGrAcnA",
        "outputId": "71b99e67-11bd-476d-ba04-92c67a8b0be6"
      },
      "execution_count": 6,
      "outputs": [
        {
          "output_type": "stream",
          "name": "stdout",
          "text": [
            "3\n"
          ]
        }
      ]
    },
    {
      "cell_type": "markdown",
      "source": [
        "<aside>\n",
        "💡 5. **Contains Duplicate**\n",
        "\n",
        "Given an integer array `nums`, return `true` if any value appears **at least twice** in the array, and return `false` if every element is distinct.\n",
        "\n",
        "</aside>"
      ],
      "metadata": {
        "id": "o-XtGqdZAqQo"
      }
    },
    {
      "cell_type": "code",
      "source": [
        "def contains_duplicate(nums):\n",
        "    num_set = set()\n",
        "\n",
        "    for num in nums:\n",
        "        if num in num_set:\n",
        "            return True\n",
        "        num_set.add(num)\n",
        "\n",
        "    return False\n",
        "\n",
        "has_duplicates = contains_duplicate(nums)\n",
        "print(has_duplicates)\n"
      ],
      "metadata": {
        "colab": {
          "base_uri": "https://localhost:8080/"
        },
        "id": "QyYwzfvrA2oO",
        "outputId": "bfa70984-7e30-4bde-ebff-eb9c335d4e85"
      },
      "execution_count": 7,
      "outputs": [
        {
          "output_type": "stream",
          "name": "stdout",
          "text": [
            "False\n"
          ]
        }
      ]
    },
    {
      "cell_type": "markdown",
      "source": [
        "<aside>\n",
        "💡 6. **Minimum Number of Arrows to Burst Balloons**\n",
        "\n",
        "There are some spherical balloons taped onto a flat wall that represents the XY-plane. The balloons are represented as a 2D integer array `points` where `points[i] = [xstart, xend]` denotes a balloon whose **horizontal diameter** stretches between `xstart` and `xend`. You do not know the exact y-coordinates of the balloons.\n",
        "\n",
        "Arrows can be shot up **directly vertically** (in the positive y-direction) from different points along the x-axis. A balloon with `xstart` and `xend` is **burst** by an arrow shot at `x` if `xstart <= x <= xend`. There is **no limit** to the number of arrows that can be shot. A shot arrow keeps traveling up infinitely, bursting any balloons in its path.\n",
        "\n",
        "Given the array `points`, return *the **minimum** number of arrows that must be shot to burst all balloons*.\n",
        "\n",
        "</aside>"
      ],
      "metadata": {
        "id": "-jSIe4p7A76E"
      }
    },
    {
      "cell_type": "code",
      "source": [
        "def find_min_arrows(points):\n",
        "    if not points:\n",
        "        return 0\n",
        "\n",
        "    points.sort(key=lambda x: x[1])\n",
        "\n",
        "    arrows = 1\n",
        "    end = points[0][1]\n",
        "\n",
        "    for i in range(1, len(points)):\n",
        "        if points[i][0] > end:\n",
        "            arrows += 1\n",
        "            end = points[i][1]\n",
        "\n",
        "    return arrows\n",
        "\n",
        "points = [[10, 16], [2, 8], [1, 6], [7, 12]]\n",
        "min_arrows = find_min_arrows(points)\n",
        "print(min_arrows)\n"
      ],
      "metadata": {
        "colab": {
          "base_uri": "https://localhost:8080/"
        },
        "id": "sISzSuNDBLr8",
        "outputId": "f44cd706-8d69-483f-e73f-da3278fa2049"
      },
      "execution_count": 8,
      "outputs": [
        {
          "output_type": "stream",
          "name": "stdout",
          "text": [
            "2\n"
          ]
        }
      ]
    },
    {
      "cell_type": "markdown",
      "source": [
        "<aside>\n",
        "💡 7. **Longest Increasing Subsequence**\n",
        "\n",
        "Given an integer array `nums`, return *the length of the longest **strictly increasing***\n",
        "\n",
        "***subsequence***\n",
        "\n",
        "</aside>"
      ],
      "metadata": {
        "id": "uGjFeYTdBQca"
      }
    },
    {
      "cell_type": "code",
      "source": [
        "def length_of_lis(nums):\n",
        "    if not nums:\n",
        "        return 0\n",
        "\n",
        "    n = len(nums)\n",
        "    dp = [1] * n\n",
        "\n",
        "    for i in range(1, n):\n",
        "        for j in range(i):\n",
        "            if nums[i] > nums[j]:\n",
        "                dp[i] = max(dp[i], dp[j] + 1)\n",
        "\n",
        "    return max(dp)\n",
        "\n",
        "nums = [10, 9, 2, 5, 3, 7, 101, 18]\n",
        "lis_length = length_of_lis(nums)\n",
        "print(lis_length)\n"
      ],
      "metadata": {
        "colab": {
          "base_uri": "https://localhost:8080/"
        },
        "id": "_THUIV-nBeEF",
        "outputId": "091c7f33-e5b0-4ab6-f1ec-43be3777022f"
      },
      "execution_count": 9,
      "outputs": [
        {
          "output_type": "stream",
          "name": "stdout",
          "text": [
            "4\n"
          ]
        }
      ]
    },
    {
      "cell_type": "markdown",
      "source": [
        "<aside>\n",
        "💡 8. **132 Pattern**\n",
        "\n",
        "Given an array of `n` integers `nums`, a **132 pattern** is a subsequence of three integers `nums[i]`, `nums[j]` and `nums[k]` such that `i < j < k` and `nums[i] < nums[k] < nums[j]`.\n",
        "\n",
        "Return `true` *if there is a **132 pattern** in* `nums`*, otherwise, return* `false`*.*\n",
        "\n",
        "</aside>"
      ],
      "metadata": {
        "id": "uBeR_DaMBi_S"
      }
    },
    {
      "cell_type": "code",
      "source": [
        "def find132pattern(nums):\n",
        "    stack = []\n",
        "    s3 = float('-inf')\n",
        "\n",
        "    for i in range(len(nums) - 1, -1, -1):\n",
        "        if nums[i] < s3:\n",
        "            return True\n",
        "        else:\n",
        "            while stack and nums[i] > stack[-1]:\n",
        "                s3 = stack.pop()\n",
        "            stack.append(nums[i])\n",
        "\n",
        "    return False\n",
        "\n",
        "has_132_pattern = find132pattern(nums)\n",
        "print(has_132_pattern)\n"
      ],
      "metadata": {
        "colab": {
          "base_uri": "https://localhost:8080/"
        },
        "id": "Q82Uxa3eBx3b",
        "outputId": "29a11982-c7a6-47d7-bb24-9965491e9c21"
      },
      "execution_count": 10,
      "outputs": [
        {
          "output_type": "stream",
          "name": "stdout",
          "text": [
            "True\n"
          ]
        }
      ]
    }
  ]
}