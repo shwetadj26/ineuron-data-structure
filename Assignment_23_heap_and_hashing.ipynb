{
  "nbformat": 4,
  "nbformat_minor": 0,
  "metadata": {
    "colab": {
      "provenance": []
    },
    "kernelspec": {
      "name": "python3",
      "display_name": "Python 3"
    },
    "language_info": {
      "name": "python"
    }
  },
  "cells": [
    {
      "cell_type": "markdown",
      "source": [
        "<aside>\n",
        "💡 Question-1:\n",
        "\n",
        "Given preorder of a binary tree, calculate its **[depth(or height)](https://www.geeksforgeeks.org/write-a-c-program-to-find-the-maximum-depth-or-height-of-a-tree/)** [starting from depth 0]. The preorder is given as a string with two possible characters.\n",
        "\n",
        "1. ‘l’ denotes the leaf\n",
        "2. ‘n’ denotes internal node\n",
        "\n",
        "The given tree can be seen as a full binary tree where every node has 0 or two children. The two children of a node can ‘n’ or ‘l’ or mix of both.\n",
        "\n",
        "**Examples :**\n",
        "\n",
        "Input  : nlnll\n",
        "Output : 2\n",
        "\n",
        "</aside>"
      ],
      "metadata": {
        "id": "bUiWtp5WM7ed"
      }
    },
    {
      "cell_type": "code",
      "execution_count": 1,
      "metadata": {
        "colab": {
          "base_uri": "https://localhost:8080/"
        },
        "id": "7hH4RgfwM5Xk",
        "outputId": "71ee6d33-432e-44a6-826b-532f01b7cf8e"
      },
      "outputs": [
        {
          "output_type": "stream",
          "name": "stdout",
          "text": [
            "2\n"
          ]
        }
      ],
      "source": [
        "def calculate_tree_depth(preorder):\n",
        "    depth = 0\n",
        "    for char in preorder:\n",
        "        if char == 'n':\n",
        "            depth += 1\n",
        "    return depth\n",
        "\n",
        "preorder = 'nlnll'\n",
        "tree_depth = calculate_tree_depth(preorder)\n",
        "print(tree_depth)\n"
      ]
    },
    {
      "cell_type": "markdown",
      "source": [
        "<aside>\n",
        "💡 Question-2:\n",
        "\n",
        "Given a Binary tree, the task is to print the **left view** of the Binary Tree. The left view of a Binary Tree is a set of leftmost nodes for every level.\n",
        "\n",
        "**Examples:**\n",
        "\n",
        "***Input:***\n",
        "\n",
        "            4\n",
        "\n",
        "          /   \\\n",
        "\n",
        "        5     2\n",
        "\n",
        "             /   \\\n",
        "\n",
        "            3     1\n",
        "\n",
        "           /  \\\n",
        "\n",
        "          6    7\n",
        "\n",
        "***Output:** 4 5 3 6*\n",
        "\n",
        "</aside>"
      ],
      "metadata": {
        "id": "6Aeal3wfNCue"
      }
    },
    {
      "cell_type": "code",
      "source": [
        "class Node:\n",
        "    def __init__(self, value):\n",
        "        self.value = value\n",
        "        self.left = None\n",
        "        self.right = None\n",
        "\n",
        "def print_left_view(root):\n",
        "    if root is None:\n",
        "        return\n",
        "\n",
        "    max_level = 0\n",
        "\n",
        "    def print_left_view_helper(node, level):\n",
        "        nonlocal max_level\n",
        "\n",
        "        if node is None:\n",
        "            return\n",
        "\n",
        "        if level > max_level:\n",
        "            print(node.value, end=' ')\n",
        "            max_level = level\n",
        "\n",
        "        print_left_view_helper(node.left, level + 1)\n",
        "        print_left_view_helper(node.right, level + 1)\n",
        "\n",
        "    print_left_view_helper(root, 1)\n",
        "\n",
        "root = Node(4)\n",
        "root.left = Node(5)\n",
        "root.right = Node(2)\n",
        "root.right.left = Node(3)\n",
        "root.right.right = Node(1)\n",
        "root.right.left.left = Node(6)\n",
        "root.right.left.right = Node(7)\n",
        "\n",
        "print_left_view(root)\n"
      ],
      "metadata": {
        "colab": {
          "base_uri": "https://localhost:8080/"
        },
        "id": "JN9rCZEkNZnB",
        "outputId": "7fb3b555-8d7f-43bc-802e-58cd742e45e2"
      },
      "execution_count": 2,
      "outputs": [
        {
          "output_type": "stream",
          "name": "stdout",
          "text": [
            "4 5 3 6 "
          ]
        }
      ]
    },
    {
      "cell_type": "markdown",
      "source": [
        "<aside>\n",
        "💡 Question-3:\n",
        "\n",
        "Given a Binary Tree, print the Right view of it.\n",
        "\n",
        "The right view of a Binary Tree is a set of nodes visible when the tree is visited from the Right side.\n",
        "\n",
        "**Examples:**\n",
        "\n",
        "**Input:**\n",
        "\n",
        "         1\n",
        "\n",
        "      /     \\\n",
        "\n",
        "   2         3\n",
        "\n",
        "/   \\       /  \\\n",
        "\n",
        "4     5   6    7\n",
        "\n",
        "             \\\n",
        "\n",
        "               8\n",
        "\n",
        "**Output**:\n",
        "\n",
        "Right view of the tree is 1 3 7 8\n",
        "\n",
        "</aside>"
      ],
      "metadata": {
        "id": "-K511mynNfhw"
      }
    },
    {
      "cell_type": "code",
      "source": [
        "class Node:\n",
        "    def __init__(self, value):\n",
        "        self.value = value\n",
        "        self.left = None\n",
        "        self.right = None\n",
        "\n",
        "def print_right_view(root):\n",
        "    if root is None:\n",
        "        return\n",
        "\n",
        "    max_level = 0\n",
        "\n",
        "    def print_right_view_helper(node, level):\n",
        "        nonlocal max_level\n",
        "\n",
        "        if node is None:\n",
        "            return\n",
        "\n",
        "        if level > max_level:\n",
        "            print(node.value, end=' ')\n",
        "            max_level = level\n",
        "\n",
        "        print_right_view_helper(node.right, level + 1)\n",
        "        print_right_view_helper(node.left, level + 1)\n",
        "\n",
        "    print_right_view_helper(root, 1)\n",
        "\n",
        "root = Node(1)\n",
        "root.left = Node(2)\n",
        "root.right = Node(3)\n",
        "root.left.left = Node(4)\n",
        "root.left.right = Node(5)\n",
        "root.right.left = Node(6)\n",
        "root.right.right = Node(7)\n",
        "root.right.right.right = Node(8)\n",
        "\n",
        "print_right_view(root)\n"
      ],
      "metadata": {
        "colab": {
          "base_uri": "https://localhost:8080/"
        },
        "id": "MEvsua2SNmd5",
        "outputId": "86dd8a3e-aca4-4bdb-8051-440b19edb6d8"
      },
      "execution_count": 3,
      "outputs": [
        {
          "output_type": "stream",
          "name": "stdout",
          "text": [
            "1 3 7 8 "
          ]
        }
      ]
    },
    {
      "cell_type": "markdown",
      "source": [
        "<aside>\n",
        "💡 Question-4:\n",
        "\n",
        "Given a Binary Tree, The task is to print the **bottom view** from left to right. A node **x** is there in output if x is the bottommost node at its horizontal distance. The horizontal distance of the left child of a node x is equal to a horizontal distance of x minus 1, and that of a right child is the horizontal distance of x plus 1.\n",
        "\n",
        "**Examples:**\n",
        "\n",
        "**Input:**\n",
        "\n",
        "             20\n",
        "\n",
        "           /     \\\n",
        "\n",
        "        8         22\n",
        "\n",
        "    /      \\         \\\n",
        "\n",
        "5         3        25\n",
        "\n",
        "        /    \\\n",
        "\n",
        "   10       14\n",
        "\n",
        "**Output:** 5, 10, 3, 14, 25.\n",
        "\n",
        "</aside>"
      ],
      "metadata": {
        "id": "hlLOzV3INn0p"
      }
    },
    {
      "cell_type": "code",
      "source": [
        "from collections import deque\n",
        "\n",
        "class Node:\n",
        "    def __init__(self, value):\n",
        "        self.value = value\n",
        "        self.left = None\n",
        "        self.right = None\n",
        "\n",
        "def print_bottom_view(root):\n",
        "    if root is None:\n",
        "        return\n",
        "\n",
        "    node_map = {}\n",
        "    queue = deque()\n",
        "    queue.append((root, 0))\n",
        "\n",
        "    while queue:\n",
        "        node, horizontal_distance = queue.popleft()\n",
        "        node_map[horizontal_distance] = node.value\n",
        "\n",
        "        if node.left:\n",
        "            queue.append((node.left, horizontal_distance - 1))\n",
        "\n",
        "        if node.right:\n",
        "            queue.append((node.right, horizontal_distance + 1))\n",
        "\n",
        "    sorted_keys = sorted(node_map.keys())\n",
        "\n",
        "    for key in sorted_keys:\n",
        "        print(node_map[key], end=' ')\n",
        "\n",
        "root = Node(20)\n",
        "root.left = Node(8)\n",
        "root.right = Node(22)\n",
        "root.left.left = Node(5)\n",
        "root.left.right = Node(3)\n",
        "root.right.right = Node(25)\n",
        "root.left.right.left = Node(10)\n",
        "root.left.right.right = Node(14)\n",
        "\n",
        "print_bottom_view(root)\n"
      ],
      "metadata": {
        "colab": {
          "base_uri": "https://localhost:8080/"
        },
        "id": "nI7zwohhN2N8",
        "outputId": "c0bb16c8-226b-4db4-cde9-e8e7e64353fc"
      },
      "execution_count": 4,
      "outputs": [
        {
          "output_type": "stream",
          "name": "stdout",
          "text": [
            "5 10 3 14 25 "
          ]
        }
      ]
    }
  ]
}