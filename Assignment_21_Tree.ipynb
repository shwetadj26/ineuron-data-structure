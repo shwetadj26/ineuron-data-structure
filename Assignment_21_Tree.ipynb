{
  "nbformat": 4,
  "nbformat_minor": 0,
  "metadata": {
    "colab": {
      "provenance": []
    },
    "kernelspec": {
      "name": "python3",
      "display_name": "Python 3"
    },
    "language_info": {
      "name": "python"
    }
  },
  "cells": [
    {
      "cell_type": "markdown",
      "source": [
        "<aside>\n",
        "💡 Question-1\n",
        "\n",
        "You are given a binary tree. The binary tree is represented using the TreeNode class. Each TreeNode has an integer value and left and right children, represented using the TreeNode class itself. Convert this binary tree into a binary search tree.\n",
        "\n",
        "Input:\n",
        "\n",
        "        10\n",
        "\n",
        "       /   \\\n",
        "\n",
        "     2      7\n",
        "\n",
        "   /   \\\n",
        "\n",
        " 8      4\n",
        "\n",
        "Output:\n",
        "\n",
        "        8\n",
        "\n",
        "      /   \\\n",
        "\n",
        "    4     10\n",
        "\n",
        "  /   \\\n",
        "\n",
        "2      7\n",
        "\n",
        "</aside>"
      ],
      "metadata": {
        "id": "ySwXiC5JIGh7"
      }
    },
    {
      "cell_type": "code",
      "execution_count": 1,
      "metadata": {
        "colab": {
          "base_uri": "https://localhost:8080/"
        },
        "id": "r8JJ7bTDIECY",
        "outputId": "b97179b6-ec70-4ea9-f40b-e9c495d79f64"
      },
      "outputs": [
        {
          "output_type": "stream",
          "name": "stdout",
          "text": [
            "2 4 7 8 10 "
          ]
        }
      ],
      "source": [
        "class TreeNode:\n",
        "    def __init__(self, value):\n",
        "        self.value = value\n",
        "        self.left = None\n",
        "        self.right = None\n",
        "\n",
        "def binary_tree_to_bst(root):\n",
        "    def traverse(node):\n",
        "        if node is None:\n",
        "            return []\n",
        "        return traverse(node.left) + [node.value] + traverse(node.right)\n",
        "\n",
        "    values = traverse(root)\n",
        "\n",
        "    values.sort()\n",
        "\n",
        "    def assign_values(node, values):\n",
        "        if node is None:\n",
        "            return None\n",
        "\n",
        "        assign_values(node.left, values)\n",
        "        node.value = values.pop(0)\n",
        "        assign_values(node.right, values)\n",
        "\n",
        "    assign_values(root, values)\n",
        "\n",
        "    return root\n",
        "\n",
        "root = TreeNode(10)\n",
        "root.left = TreeNode(2)\n",
        "root.right = TreeNode(7)\n",
        "root.left.left = TreeNode(8)\n",
        "root.left.right = TreeNode(4)\n",
        "\n",
        "bst_root = binary_tree_to_bst(root)\n",
        "\n",
        "def inorder_traversal(node):\n",
        "    if node is not None:\n",
        "        inorder_traversal(node.left)\n",
        "        print(node.value, end=\" \")\n",
        "        inorder_traversal(node.right)\n",
        "\n",
        "inorder_traversal(bst_root)\n"
      ]
    },
    {
      "cell_type": "markdown",
      "source": [
        "<aside>\n",
        "💡 Question-2:\n",
        "\n",
        "Given a Binary Search Tree with all unique values and two keys. Find the distance between two nodes in BST. The given keys always exist in BST.\n",
        "\n",
        "</aside>"
      ],
      "metadata": {
        "id": "-CzSK4AwIQVj"
      }
    },
    {
      "cell_type": "code",
      "source": [
        "class TreeNode:\n",
        "    def __init__(self, value):\n",
        "        self.value = value\n",
        "        self.left = None\n",
        "        self.right = None\n",
        "\n",
        "def find_distance(root, node1, node2):\n",
        "    def find_lca(node, val1, val2):\n",
        "        if node is None:\n",
        "            return None\n",
        "\n",
        "        if val1 < node.value and val2 < node.value:\n",
        "            return find_lca(node.left, val1, val2)\n",
        "        elif val1 > node.value and val2 > node.value:\n",
        "            return find_lca(node.right, val1, val2)\n",
        "        else:\n",
        "            return node\n",
        "\n",
        "    def find_distance_from_node(node, target):\n",
        "        if node is None:\n",
        "            return 0\n",
        "\n",
        "        if node.value == target:\n",
        "            return 0\n",
        "        elif target < node.value:\n",
        "            return 1 + find_distance_from_node(node.left, target)\n",
        "        else:\n",
        "            return 1 + find_distance_from_node(node.right, target)\n",
        "\n",
        "    lca = find_lca(root, node1, node2)\n",
        "    distance1 = find_distance_from_node(lca, node1)\n",
        "    distance2 = find_distance_from_node(lca, node2)\n",
        "\n",
        "    return distance1 + distance2\n",
        "\n",
        "root = TreeNode(8)\n",
        "root.left = TreeNode(3)\n",
        "root.right = TreeNode(10)\n",
        "root.left.left = TreeNode(1)\n",
        "root.left.right = TreeNode(6)\n",
        "root.left.right.left = TreeNode(4)\n",
        "root.left.right.right = TreeNode(7)\n",
        "root.right.right = TreeNode(14)\n",
        "root.right.right.left = TreeNode(13)\n",
        "\n",
        "node1 = 6\n",
        "node2 = 14\n",
        "\n",
        "distance = find_distance(root, node1, node2)\n",
        "\n",
        "print(\"The distance between the two keys =\", distance)\n"
      ],
      "metadata": {
        "colab": {
          "base_uri": "https://localhost:8080/"
        },
        "id": "H6wii6BEIjV5",
        "outputId": "28796262-d03b-4eb1-cd1f-8c10aae2ab44"
      },
      "execution_count": 2,
      "outputs": [
        {
          "output_type": "stream",
          "name": "stdout",
          "text": [
            "The distance between the two keys = 4\n"
          ]
        }
      ]
    },
    {
      "cell_type": "markdown",
      "source": [
        "<aside>\n",
        "💡 Question-3:\n",
        "\n",
        "Write a program to convert a binary tree to a doubly linked list.\n",
        "\n",
        "Input:\n",
        "\n",
        "        10\n",
        "\n",
        "       /   \\\n",
        "\n",
        "     5     20\n",
        "\n",
        "           /   \\\n",
        "\n",
        "        30     35\n",
        "\n",
        "Output:\n",
        "\n",
        "5 10 30 20 35\n",
        "\n",
        "</aside>"
      ],
      "metadata": {
        "id": "ULJx9WhKIjsc"
      }
    },
    {
      "cell_type": "code",
      "source": [
        "class TreeNode:\n",
        "    def __init__(self, value):\n",
        "        self.value = value\n",
        "        self.left = None\n",
        "        self.right = None\n",
        "\n",
        "def convert_to_doubly_linked_list(root):\n",
        "    def inorder_traversal(node):\n",
        "        nonlocal prev, head\n",
        "\n",
        "        if node is None:\n",
        "            return\n",
        "\n",
        "        inorder_traversal(node.left)\n",
        "\n",
        "        if prev is None:\n",
        "            head = node\n",
        "        else:\n",
        "            prev.right = node\n",
        "            node.left = prev\n",
        "\n",
        "        prev = node\n",
        "\n",
        "        inorder_traversal(node.right)\n",
        "\n",
        "    prev = None\n",
        "    head = None\n",
        "\n",
        "    inorder_traversal(root)\n",
        "\n",
        "    return head\n",
        "\n",
        "root = TreeNode(10)\n",
        "root.left = TreeNode(5)\n",
        "root.right = TreeNode(20)\n",
        "root.right.left = TreeNode(30)\n",
        "root.right.right = TreeNode(35)\n",
        "\n",
        "head = convert_to_doubly_linked_list(root)\n",
        "\n",
        "def print_doubly_linked_list(head):\n",
        "    while head:\n",
        "        print(head.value, end=\" \")\n",
        "        head = head.right\n",
        "\n",
        "print_doubly_linked_list(head)\n"
      ],
      "metadata": {
        "colab": {
          "base_uri": "https://localhost:8080/"
        },
        "id": "Ahkm3zxpIlLH",
        "outputId": "13eccb91-06e1-4037-8206-6dcdb221f286"
      },
      "execution_count": 3,
      "outputs": [
        {
          "output_type": "stream",
          "name": "stdout",
          "text": [
            "5 10 30 20 35 "
          ]
        }
      ]
    },
    {
      "cell_type": "markdown",
      "source": [
        "<aside>\n",
        "💡 Question-4:\n",
        "\n",
        "Write a program to connect nodes at the same level.\n",
        "\n",
        "Input:\n",
        "\n",
        "        1\n",
        "\n",
        "      /   \\\n",
        "\n",
        "    2      3\n",
        "\n",
        "  /   \\   /   \\\n",
        "\n",
        "4     5 6    7\n",
        "\n",
        "\n",
        "\n",
        "</aside>"
      ],
      "metadata": {
        "id": "8OZO1e2iIvEf"
      }
    },
    {
      "cell_type": "code",
      "source": [
        "class TreeNode:\n",
        "    def __init__(self, value):\n",
        "        self.value = value\n",
        "        self.left = None\n",
        "        self.right = None\n",
        "        self.next = None\n",
        "\n",
        "def connect_nodes_at_same_level(root):\n",
        "    if root is None:\n",
        "        return root\n",
        "\n",
        "    queue = [root]\n",
        "\n",
        "    while queue:\n",
        "        level_size = len(queue)\n",
        "\n",
        "        for i in range(level_size):\n",
        "            node = queue.pop(0)\n",
        "\n",
        "            if i < level_size - 1:\n",
        "                node.next = queue[0]\n",
        "            else:\n",
        "                node.next = None\n",
        "\n",
        "            if node.left:\n",
        "                queue.append(node.left)\n",
        "            if node.right:\n",
        "                queue.append(node.right)\n",
        "\n",
        "    return root\n",
        "\n",
        "root = TreeNode(1)\n",
        "root.left = TreeNode(2)\n",
        "root.right = TreeNode(3)\n",
        "root.left.left = TreeNode(4)\n",
        "root.left.right = TreeNode(5)\n",
        "root.right.left = TreeNode(6)\n",
        "root.right.right = TreeNode(7)\n",
        "\n",
        "connected_root = connect_nodes_at_same_level(root)\n",
        "\n",
        "def print_connected_nodes(root):\n",
        "    while root:\n",
        "        current = root\n",
        "        while current:\n",
        "            if current.next:\n",
        "                print(current.value, end=\" → \")\n",
        "            else:\n",
        "                print(current.value, end=\" → -1 \")\n",
        "            current = current.next\n",
        "        print()\n",
        "        root = root.left\n",
        "\n",
        "print_connected_nodes(connected_root)\n"
      ],
      "metadata": {
        "colab": {
          "base_uri": "https://localhost:8080/"
        },
        "id": "zy8q0ngCI_UW",
        "outputId": "d3d7c488-9a15-4a73-be5f-6232a35ecf94"
      },
      "execution_count": 4,
      "outputs": [
        {
          "output_type": "stream",
          "name": "stdout",
          "text": [
            "1 → -1 \n",
            "2 → 3 → -1 \n",
            "4 → 5 → 6 → 7 → -1 \n"
          ]
        }
      ]
    }
  ]
}