{
  "nbformat": 4,
  "nbformat_minor": 0,
  "metadata": {
    "colab": {
      "provenance": []
    },
    "kernelspec": {
      "name": "python3",
      "display_name": "Python 3"
    },
    "language_info": {
      "name": "python"
    }
  },
  "cells": [
    {
      "cell_type": "markdown",
      "source": [
        "<aside>\n",
        "1\n",
        "\n",
        "Given a linked list of **N** nodes such that it may contain a loop.\n",
        "\n",
        "A loop here means that the last node of the link list is connected to the node at position X(1-based index). If the link list does not have any loop, X=0.\n",
        "\n",
        "Remove the loop from the linked list, if it is present, i.e. unlink the last node which is forming the loop.\n",
        "\n",
        "</aside>"
      ],
      "metadata": {
        "id": "NgkNR3zhEOls"
      }
    },
    {
      "cell_type": "code",
      "execution_count": 8,
      "metadata": {
        "colab": {
          "base_uri": "https://localhost:8080/"
        },
        "id": "qEhjOiy4ECge",
        "outputId": "1f7a3bcb-8de1-476a-97e3-cc410d513da0"
      },
      "outputs": [
        {
          "output_type": "stream",
          "name": "stdout",
          "text": [
            "1\n"
          ]
        }
      ],
      "source": [
        "class ListNode:\n",
        "    def __init__(self, val=0, next=None):\n",
        "        self.val = val\n",
        "        self.next = next\n",
        "\n",
        "def detectAndRemoveLoop(head):\n",
        "    if head is None:\n",
        "        return None\n",
        "\n",
        "    slow = head\n",
        "    fast = head\n",
        "\n",
        "    while fast is not None and fast.next is not None:\n",
        "        slow = slow.next\n",
        "        fast = fast.next.next\n",
        "\n",
        "        if slow == fast:\n",
        "            break\n",
        "\n",
        "    if fast is None or fast.next is None:\n",
        "        return head\n",
        "\n",
        "    slow = head\n",
        "\n",
        "    while slow.next != fast.next:\n",
        "        slow = slow.next\n",
        "        fast = fast.next\n",
        "\n",
        "    fast.next = None\n",
        "\n",
        "    return head\n",
        "\n",
        "head = ListNode(1)\n",
        "head.next = ListNode(3)\n",
        "head.next.next = ListNode(4)\n",
        "head.next.next.next = ListNode(3)\n",
        "head.next.next.next.next = head.next\n",
        "\n",
        "new_head = detectAndRemoveLoop(head)\n",
        "\n",
        "current = new_head\n",
        "while current is not None:\n",
        "    print(current.val, end=\" \")\n",
        "    current = current.next\n",
        "\n"
      ]
    },
    {
      "cell_type": "markdown",
      "source": [
        "<aside>\n",
        "💡 **Question 2**\n",
        "\n",
        "A number **N** is represented in Linked List such that each digit corresponds to a node in linked list. You need to add 1 to it.\n",
        "\n",
        "</aside>"
      ],
      "metadata": {
        "id": "v6AUiLVAEbV2"
      }
    },
    {
      "cell_type": "code",
      "source": [
        "class ListNode:\n",
        "    def __init__(self, val=0, next=None):\n",
        "        self.val = val\n",
        "        self.next = next\n",
        "\n",
        "def addOne(head):\n",
        "    # Reverse the linked list\n",
        "    prev = None\n",
        "    current = head\n",
        "\n",
        "    while current is not None:\n",
        "        next_node = current.next\n",
        "        current.next = prev\n",
        "        prev = current\n",
        "        current = next_node\n",
        "\n",
        "    head = prev\n",
        "\n",
        "    # Add 1 to the number\n",
        "    carry = 1\n",
        "    current = head\n",
        "\n",
        "    while current is not None:\n",
        "        sum_val = current.val + carry\n",
        "        current.val = sum_val % 10\n",
        "        carry = sum_val // 10\n",
        "        current = current.next\n",
        "\n",
        "    if carry == 1:\n",
        "        new_node = ListNode(1)\n",
        "        current = head\n",
        "\n",
        "        while current.next is not None:\n",
        "            current = current.next\n",
        "\n",
        "        current.next = new_node\n",
        "\n",
        "    prev = None\n",
        "    current = head\n",
        "\n",
        "    while current is not None:\n",
        "        next_node = current.next\n",
        "        current.next = prev\n",
        "        prev = current\n",
        "        current = next_node\n",
        "\n",
        "    head = prev\n",
        "\n",
        "    return head\n",
        "\n",
        "\n",
        "head = ListNode(4)\n",
        "head.next = ListNode(5)\n",
        "head.next.next = ListNode(6)\n",
        "\n",
        "new_head = addOne(head)\n",
        "\n",
        "current = new_head\n",
        "while current is not None:\n",
        "    print(current.val, end=\"\")\n",
        "    current = current.next\n",
        "\n"
      ],
      "metadata": {
        "colab": {
          "base_uri": "https://localhost:8080/"
        },
        "id": "yC-bbYhSEc1G",
        "outputId": "0ad04ea4-1060-440f-9e10-54dd3c28ce6c"
      },
      "execution_count": 2,
      "outputs": [
        {
          "output_type": "stream",
          "name": "stdout",
          "text": [
            "457"
          ]
        }
      ]
    },
    {
      "cell_type": "markdown",
      "source": [
        "<aside>\n",
        "💡 **Question 3**\n",
        "\n",
        "Given a Linked List of size N, where every node represents a sub-linked-list and contains two pointers:(i) a **next** pointer to the next node,(ii) a **bottom** pointer to a linked list where this node is head.Each of the sub-linked-list is in sorted order.Flatten the Link List such that all the nodes appear in a single level while maintaining the sorted order. **Note:** The flattened list will be printed using the bottom pointer instead of next pointer.\n",
        "\n",
        "</aside>"
      ],
      "metadata": {
        "id": "j_WPR6QREw6D"
      }
    },
    {
      "cell_type": "code",
      "source": [
        "class ListNode:\n",
        "    def __init__(self, val=0, next=None, bottom=None):\n",
        "        self.val = val\n",
        "        self.next = next\n",
        "        self.bottom = bottom\n",
        "\n",
        "def mergeSortedLists(a, b):\n",
        "    dummy = ListNode()\n",
        "    current = dummy\n",
        "\n",
        "    while a is not None and b is not None:\n",
        "        if a.val <= b.val:\n",
        "            current.bottom = a\n",
        "            a = a.bottom\n",
        "        else:\n",
        "            current.bottom = b\n",
        "            b = b.bottom\n",
        "        current = current.bottom\n",
        "\n",
        "    if a is not None:\n",
        "        current.bottom = a\n",
        "\n",
        "    if b is not None:\n",
        "        current.bottom = b\n",
        "\n",
        "    return dummy.bottom\n",
        "\n",
        "def flattenLinkedList(head):\n",
        "    if head is None or head.next is None:\n",
        "        return head\n",
        "\n",
        "    head.next = flattenLinkedList(head.next)\n",
        "    head = mergeSortedLists(head, head.next)\n",
        "\n",
        "    return head\n",
        "\n",
        "\n",
        "head = ListNode(5)\n",
        "head.next = ListNode(10)\n",
        "head.next.next = ListNode(19)\n",
        "head.next.next.next = ListNode(28)\n",
        "\n",
        "head.bottom = ListNode(7)\n",
        "head.bottom.next = ListNode(20)\n",
        "\n",
        "head.next.bottom = ListNode(22)\n",
        "head.next.bottom.next = ListNode(35)\n",
        "\n",
        "head.next.next.bottom = ListNode(50)\n",
        "\n",
        "head.next.next.next.bottom = ListNode(8)\n",
        "head.next.next.next.bottom.next = ListNode(30)\n",
        "\n",
        "head.next.next.next.next = ListNode(40)\n",
        "head.next.next.next.next.bottom = ListNode(45)\n",
        "\n",
        "flattened_list = flattenLinkedList(head)\n",
        "\n",
        "current = flattened_list\n",
        "while current is not None:\n",
        "    print(current.val, end=\"-> \")\n",
        "    current = current.bottom\n",
        "\n"
      ],
      "metadata": {
        "colab": {
          "base_uri": "https://localhost:8080/"
        },
        "id": "QJDgjnogEy9B",
        "outputId": "2ebd1074-7b7e-4d30-c9d6-83418d4d1b3a"
      },
      "execution_count": 3,
      "outputs": [
        {
          "output_type": "stream",
          "name": "stdout",
          "text": [
            "5-> 7-> 10-> 19-> 22-> 28-> 8-> 40-> 45-> 50-> "
          ]
        }
      ]
    },
    {
      "cell_type": "markdown",
      "source": [
        "<aside>\n",
        "💡 **Question 4**\n",
        "\n",
        "You are given a special linked list with **N** nodes where each node has a next pointer pointing to its next node. You are also given **M** random pointers, where you will be given **M** number of pairs denoting two nodes **a** and **b**  **i.e. a->arb = b** (arb is pointer to random node)**.**\n",
        "\n",
        "Construct a copy of the given list. The copy should consist of exactly **N** new nodes, where each new node has its value set to the value of its corresponding original node. Both the next and random pointer of the new nodes should point to new nodes in the copied list such that the pointers in the original list and copied list represent the same list state. None of the pointers in the new list should point to nodes in the original list.\n",
        "\n",
        "For example, if there are two nodes **X** and **Y** in the original list, where **X.arb** **-->** **Y**, then for the corresponding two nodes **x** and **y** in the copied list, **x.arb --> y.**\n",
        "\n",
        "Return the head of the copied linked list.\n",
        "\n",
        "</aside>"
      ],
      "metadata": {
        "id": "RL9ffn02FGC9"
      }
    },
    {
      "cell_type": "code",
      "source": [
        "class ListNode:\n",
        "    def __init__(self, val=0, next=None, random=None):\n",
        "        self.val = val\n",
        "        self.next = next\n",
        "        self.random = random\n",
        "\n",
        "def copyRandomList(head):\n",
        "    if head is None:\n",
        "        return None\n",
        "\n",
        "    current = head\n",
        "\n",
        "    while current is not None:\n",
        "        new_node = ListNode(current.val)\n",
        "        new_node.next = current.next\n",
        "        current.next = new_node\n",
        "        current = new_node.next\n",
        "\n",
        "    current = head\n",
        "\n",
        "    while current is not None:\n",
        "        if current.random is not None:\n",
        "            current.next.random = current.random.next\n",
        "        current = current.next.next\n",
        "\n",
        "    current = head\n",
        "    copied_head = head.next\n",
        "    copied_current = copied_head\n",
        "\n",
        "    while current is not None:\n",
        "        current.next = current.next.next\n",
        "        if copied_current.next is not None:\n",
        "            copied_current.next = copied_current.next.next\n",
        "        current = current.next\n",
        "        copied_current = copied_current.next\n",
        "\n",
        "    return copied_head\n",
        "\n",
        "\n",
        "head = ListNode(1)\n",
        "head.next = ListNode(2)\n",
        "head.next.next = ListNode(3)\n",
        "head.next.next.next = ListNode(4)\n",
        "\n",
        "head.random = head.next\n",
        "head.next.random = head.next.next.next\n",
        "\n",
        "copied_head = copyRandomList(head)\n",
        "\n",
        "current = copied_head\n",
        "\n",
        "while current is not None:\n",
        "    print(\"Node:\", current.val)\n",
        "    if current.random is not None:\n",
        "        print(\"Random Pointer:\", current.random.val)\n",
        "    else:\n",
        "        print(\"Random Pointer: None\")\n",
        "    print()\n",
        "    current = current.next\n",
        "\n"
      ],
      "metadata": {
        "colab": {
          "base_uri": "https://localhost:8080/"
        },
        "id": "f4oSEdPqFbF7",
        "outputId": "2f52bec9-f8df-4d1e-ea28-0e784993dfdd"
      },
      "execution_count": 9,
      "outputs": [
        {
          "output_type": "stream",
          "name": "stdout",
          "text": [
            "1\n"
          ]
        }
      ]
    },
    {
      "cell_type": "markdown",
      "source": [
        "<aside>\n",
        "💡 **Question 5**\n",
        "\n",
        "Given the `head` of a singly linked list, group all the nodes with odd indices together followed by the nodes with even indices, and return *the reordered list*.\n",
        "\n",
        "The **first** node is considered **odd**, and the **second** node is **even**, and so on.\n",
        "\n",
        "Note that the relative order inside both the even and odd groups should remain as it was in the input.\n",
        "\n",
        "You must solve the problem in `O(1)` extra space complexity and `O(n)` time complexity.\n",
        "\n",
        "</aside>"
      ],
      "metadata": {
        "id": "Z3noyiVEFbi3"
      }
    },
    {
      "cell_type": "code",
      "source": [
        "class ListNode:\n",
        "    def __init__(self, val=0, next=None):\n",
        "        self.val = val\n",
        "        self.next = next\n",
        "\n",
        "def oddEvenList(head):\n",
        "    if head is None or head.next is None:\n",
        "        return head\n",
        "\n",
        "    odd_head = head\n",
        "    even_head = head.next\n",
        "    odd = odd_head\n",
        "    even = even_head\n",
        "\n",
        "    while even is not None and even.next is not None:\n",
        "        odd.next = even.next\n",
        "        odd = odd.next\n",
        "        even.next = odd.next\n",
        "        even = even.next\n",
        "\n",
        "    odd.next = even_head\n",
        "\n",
        "    return odd_head\n",
        "\n",
        "head = ListNode(1)\n",
        "head.next = ListNode(2)\n",
        "head.next.next = ListNode(3)\n",
        "head.next.next.next = ListNode(4)\n",
        "head.next.next.next.next = ListNode(5)\n",
        "\n",
        "reordered_list = oddEvenList(head)\n",
        "\n",
        "current = reordered_list\n",
        "while current is not None:\n",
        "    print(current.val, end=\" -> \")\n",
        "    current = current.next\n",
        "\n"
      ],
      "metadata": {
        "colab": {
          "base_uri": "https://localhost:8080/"
        },
        "id": "gnOWdxgGFwa1",
        "outputId": "916b5074-82cd-4de8-d752-86fabdde7686"
      },
      "execution_count": 5,
      "outputs": [
        {
          "output_type": "stream",
          "name": "stdout",
          "text": [
            "1 -> 3 -> 5 -> 2 -> 4 -> "
          ]
        }
      ]
    },
    {
      "cell_type": "markdown",
      "source": [
        "<aside>\n",
        "💡 **Question 6**\n",
        "\n",
        "Given a singly linked list of size **N**. The task is to **left-shift** the linked list by **k** nodes, where **k** is a given positive integer smaller than or equal to length of the linked list.\n",
        "\n",
        "</aside>"
      ],
      "metadata": {
        "id": "bCSjNQlSFw0S"
      }
    },
    {
      "cell_type": "code",
      "source": [
        "class ListNode:\n",
        "    def __init__(self, val=0, next=None):\n",
        "        self.val = val\n",
        "        self.next = next\n",
        "\n",
        "def leftShiftLinkedList(head, k):\n",
        "    if head is None or head.next is None:\n",
        "        return head\n",
        "\n",
        "    current = head\n",
        "    for _ in range(k - 1):\n",
        "        current = current.next\n",
        "        if current is None:\n",
        "            return head\n",
        "\n",
        "    new_head = current.next\n",
        "\n",
        "    current.next = None\n",
        "\n",
        "    current = new_head\n",
        "    while current.next is not None:\n",
        "        current = current.next\n",
        "\n",
        "    current.next = head\n",
        "\n",
        "    return new_head\n",
        "\n",
        "head = ListNode(2)\n",
        "head.next = ListNode(4)\n",
        "head.next.next = ListNode(7)\n",
        "head.next.next.next = ListNode(8)\n",
        "head.next.next.next.next = ListNode(9)\n",
        "\n",
        "k = 3\n",
        "\n",
        "shifted_list = leftShiftLinkedList(head, k)\n",
        "\n",
        "current = shifted_list\n",
        "while current is not None:\n",
        "    print(current.val, end=\" \")\n",
        "    current = current.next\n",
        "\n"
      ],
      "metadata": {
        "colab": {
          "base_uri": "https://localhost:8080/"
        },
        "id": "kcI8TFcrGA4S",
        "outputId": "069c546b-c2a5-4d37-b60e-7c389e6e2f85"
      },
      "execution_count": 6,
      "outputs": [
        {
          "output_type": "stream",
          "name": "stdout",
          "text": [
            "8 9 2 4 7 "
          ]
        }
      ]
    },
    {
      "cell_type": "markdown",
      "source": [
        "<aside>\n",
        "💡 **Question 7**\n",
        "\n",
        "You are given the `head` of a linked list with `n` nodes.\n",
        "\n",
        "For each node in the list, find the value of the **next greater node**. That is, for each node, find the value of the first node that is next to it and has a **strictly larger** value than it.\n",
        "\n",
        "Return an integer array `answer` where `answer[i]` is the value of the next greater node of the `ith` node (**1-indexed**). If the `ith` node does not have a next greater node, set `answer[i] = 0`.\n",
        "\n",
        "</aside>"
      ],
      "metadata": {
        "id": "BU5vDB_EGBYr"
      }
    },
    {
      "cell_type": "code",
      "source": [
        "class ListNode:\n",
        "    def __init__(self, val=0, next=None):\n",
        "        self.val = val\n",
        "        self.next = next\n",
        "\n",
        "def nextLargerNodes(head):\n",
        "    node_values = []\n",
        "    current = head\n",
        "    while current is not None:\n",
        "        node_values.append(current.val)\n",
        "        current = current.next\n",
        "\n",
        "    stack = []\n",
        "    result = []\n",
        "\n",
        "    for i in range(len(node_values) - 1, -1, -1):\n",
        "        while stack and node_values[stack[-1]] <= node_values[i]:\n",
        "            stack.pop()\n",
        "        result.append(node_values[stack[-1]] if stack else 0)\n",
        "        stack.append(i)\n",
        "\n",
        "    result.reverse()\n",
        "\n",
        "    return result\n",
        "\n",
        "head = ListNode(2)\n",
        "head.next = ListNode(1)\n",
        "head.next.next = ListNode(5)\n",
        "\n",
        "next_greater_nodes = nextLargerNodes(head)\n",
        "\n",
        "print(next_greater_nodes)\n"
      ],
      "metadata": {
        "colab": {
          "base_uri": "https://localhost:8080/"
        },
        "id": "ckidQmzqGRx3",
        "outputId": "45b63e03-7af5-4e5a-b7b5-c30d04dd5ce7"
      },
      "execution_count": 7,
      "outputs": [
        {
          "output_type": "stream",
          "name": "stdout",
          "text": [
            "[5, 5, 0]\n"
          ]
        }
      ]
    },
    {
      "cell_type": "markdown",
      "source": [
        "<aside>\n",
        "💡 **Question 8**\n",
        "\n",
        "Given the `head` of a linked list, we repeatedly delete consecutive sequences of nodes that sum to `0` until there are no such sequences.\n",
        "\n",
        "After doing so, return the head of the final linked list.  You may return any such answer.\n",
        "\n",
        "(Note that in the examples below, all sequences are serializations of `ListNode` objects.)\n",
        "\n",
        "</aside>"
      ],
      "metadata": {
        "id": "wZBl8HL7GSKu"
      }
    },
    {
      "cell_type": "code",
      "source": [
        "class ListNode:\n",
        "    def __init__(self, val=0, next=None):\n",
        "        self.val = val\n",
        "        self.next = next\n",
        "\n",
        "def removeZeroSumSublists(head):\n",
        "    dummy = ListNode(0)\n",
        "    dummy.next = head\n",
        "    stack = []\n",
        "    cumulative_sum = 0\n",
        "    current = dummy\n",
        "\n",
        "    while current is not None:\n",
        "        cumulative_sum += current.val\n",
        "\n",
        "        if cumulative_sum == 0:\n",
        "            while stack:\n",
        "                stack.pop()\n",
        "            dummy.next = current.next\n",
        "        else:\n",
        "            found = False\n",
        "            for node in stack:\n",
        "                if node.cumulative_sum == cumulative_sum:\n",
        "                    node.next = current.next\n",
        "                    found = True\n",
        "                    break\n",
        "\n",
        "            if not found:\n",
        "                stack.append(current)\n",
        "\n",
        "        current = current.next\n",
        "\n",
        "    return dummy.next\n",
        "\n",
        "head = ListNode(1)\n",
        "head.next = ListNode(2)\n",
        "head.next.next = ListNode(-3)\n",
        "head.next.next.next = ListNode(3)\n",
        "head.next.next.next.next = ListNode(1)\n",
        "\n",
        "result = removeZeroSumSublists(head)\n",
        "\n",
        "current = result\n",
        "while current is not None:\n",
        "    print(current.val, end=\" -> \")\n",
        "    current = current.next\n",
        "\n"
      ],
      "metadata": {
        "colab": {
          "base_uri": "https://localhost:8080/"
        },
        "id": "cvSgZXcPHvhA",
        "outputId": "18e6f0aa-b3fd-440e-ccc1-fd8a99ca9459"
      },
      "execution_count": 11,
      "outputs": [
        {
          "output_type": "stream",
          "name": "stdout",
          "text": [
            "3 1\n"
          ]
        }
      ]
    }
  ]
}