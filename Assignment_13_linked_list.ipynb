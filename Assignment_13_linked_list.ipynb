{
  "nbformat": 4,
  "nbformat_minor": 0,
  "metadata": {
    "colab": {
      "provenance": []
    },
    "kernelspec": {
      "name": "python3",
      "display_name": "Python 3"
    },
    "language_info": {
      "name": "python"
    }
  },
  "cells": [
    {
      "cell_type": "markdown",
      "source": [
        "<aside>\n",
        " **Question 1**\n",
        "\n",
        "Given two linked list of the same size, the task is to create a new linked list using those linked lists. The condition is that the greater node among both linked list will be added to the new linked list.\n",
        "\n",
        "</aside>"
      ],
      "metadata": {
        "id": "YD6SL3OE_0pI"
      }
    },
    {
      "cell_type": "code",
      "execution_count": 6,
      "metadata": {
        "colab": {
          "base_uri": "https://localhost:8080/"
        },
        "id": "EfWz-yEO_xp6",
        "outputId": "f788415c-c8f8-4d4d-fa5c-6092c3de6f65"
      },
      "outputs": [
        {
          "output_type": "stream",
          "name": "stdout",
          "text": [
            "5 7 4 8\n"
          ]
        }
      ],
      "source": [
        "class ListNode:\n",
        "    def __init__(self, val=0, next=None):\n",
        "        self.val = val\n",
        "        self.next = next\n",
        "\n",
        "def createNewLinkedList(list1, list2):\n",
        "    if list1 is None or list2 is None:\n",
        "        return None\n",
        "\n",
        "    head = None\n",
        "    current = None\n",
        "    current1 = list1\n",
        "    current2 = list2\n",
        "\n",
        "    while current1 is not None and current2 is not None:\n",
        "        if current1.val >= current2.val:\n",
        "            new_node = ListNode(current1.val)\n",
        "            current1 = current1.next\n",
        "        else:\n",
        "            new_node = ListNode(current2.val)\n",
        "            current2 = current2.next\n",
        "\n",
        "        if head is None:\n",
        "            head = new_node\n",
        "            current = new_node\n",
        "        else:\n",
        "            current.next = new_node\n",
        "            current = current.next\n",
        "\n",
        "    if current1 is not None:\n",
        "        current.next = current1\n",
        "\n",
        "    if current2 is not None:\n",
        "        current.next = current2\n",
        "\n",
        "    return head\n",
        "\n",
        "list1 = ListNode(5)\n",
        "list1.next = ListNode(2)\n",
        "list1.next.next = ListNode(3)\n",
        "list1.next.next.next = ListNode(8)\n",
        "\n",
        "list2 = ListNode(1)\n",
        "list2.next = ListNode(7)\n",
        "list2.next.next = ListNode(4)\n",
        "list2.next.next.next = ListNode(5)\n",
        "\n",
        "new_list = createNewLinkedList(list1, list2)\n",
        "\n",
        "current = new_list\n",
        "while current is not None:\n",
        "    print(current.val, end=\" \")\n",
        "    current = current.next\n"
      ]
    },
    {
      "cell_type": "markdown",
      "source": [
        "<aside>\n",
        " **Question 2**\n",
        "\n",
        "Write a function that takes a list sorted in non-decreasing order and deletes any duplicate nodes from the list. The list should only be traversed once.\n",
        "\n",
        "For example if the linked list is 11->11->11->21->43->43->60 then removeDuplicates() should convert the list to 11->21->43->60.\n",
        "\n",
        "</aside>"
      ],
      "metadata": {
        "id": "BkDDPtj1ACqB"
      }
    },
    {
      "cell_type": "code",
      "source": [
        "class ListNode:\n",
        "    def __init__(self, val=0, next=None):\n",
        "        self.val = val\n",
        "        self.next = next\n",
        "\n",
        "def removeDuplicates(head):\n",
        "    if head is None:\n",
        "        return None\n",
        "\n",
        "    current = head\n",
        "\n",
        "    while current is not None and current.next is not None:\n",
        "        if current.val == current.next.val:\n",
        "            current.next = current.next.next\n",
        "        else:\n",
        "            current = current.next\n",
        "\n",
        "    return head\n",
        "\n",
        "head = ListNode(11)\n",
        "head.next = ListNode(11)\n",
        "head.next.next = ListNode(11)\n",
        "head.next.next.next = ListNode(21)\n",
        "head.next.next.next.next = ListNode(43)\n",
        "head.next.next.next.next.next = ListNode(43)\n",
        "head.next.next.next.next.next.next = ListNode(60)\n",
        "\n",
        "new_head = removeDuplicates(head)\n",
        "\n",
        "current = new_head\n",
        "while current is not None:\n",
        "    print(current.val, end=\" \")\n",
        "    current = current.next\n",
        "\n"
      ],
      "metadata": {
        "colab": {
          "base_uri": "https://localhost:8080/"
        },
        "id": "WuVRNQpXAEky",
        "outputId": "5fa86aab-755e-48a4-8824-4c435b5488ad"
      },
      "execution_count": 7,
      "outputs": [
        {
          "output_type": "stream",
          "name": "stdout",
          "text": [
            "11 21 43 60 "
          ]
        }
      ]
    },
    {
      "cell_type": "markdown",
      "source": [
        "<aside>\n",
        " **Question 3**\n",
        "\n",
        "Given a linked list of size **N**. The task is to reverse every **k** nodes (where k is an input to the function) in the linked list. If the number of nodes is not a multiple of *k* then left-out nodes, in the end, should be considered as a group and must be reversed (See Example 2 for clarification).\n",
        "\n",
        "</aside>"
      ],
      "metadata": {
        "id": "6zFQkSCNBEAb"
      }
    },
    {
      "cell_type": "code",
      "source": [
        "class ListNode:\n",
        "    def __init__(self, val=0, next=None):\n",
        "        self.val = val\n",
        "        self.next = next\n",
        "\n",
        "def reverseKGroup(head, k):\n",
        "    if head is None or k == 1:\n",
        "        return head\n",
        "\n",
        "    count = 0\n",
        "    current = head\n",
        "    while current is not None and count < k:\n",
        "        current = current.next\n",
        "        count += 1\n",
        "\n",
        "    if count < k:\n",
        "        return head\n",
        "\n",
        "    prev = None\n",
        "    current = head\n",
        "    next = None\n",
        "    count = 0\n",
        "\n",
        "    while current is not None and count < k:\n",
        "        next = current.next\n",
        "        current.next = prev\n",
        "        prev = current\n",
        "        current = next\n",
        "        count += 1\n",
        "\n",
        "    if next is not None:\n",
        "        head.next = reverseKGroup(next, k)\n",
        "\n",
        "    return prev\n",
        "\n",
        "head = ListNode(1)\n",
        "head.next = ListNode(2)\n",
        "head.next.next = ListNode(2)\n",
        "head.next.next.next = ListNode(4)\n",
        "head.next.next.next.next = ListNode(5)\n",
        "head.next.next.next.next.next = ListNode(6)\n",
        "head.next.next.next.next.next.next = ListNode(7)\n",
        "head.next.next.next.next.next.next.next = ListNode(8)\n",
        "\n",
        "k = 4\n",
        "\n",
        "new_head = reverseKGroup(head, k)\n",
        "\n",
        "current = new_head\n",
        "while current is not None:\n",
        "    print(current.val, end=\" \")\n",
        "    current = current.next\n",
        "\n"
      ],
      "metadata": {
        "colab": {
          "base_uri": "https://localhost:8080/"
        },
        "id": "FD6BWQKlBNMS",
        "outputId": "60355bfb-9cbd-4a05-d054-e2a9c9147e65"
      },
      "execution_count": 8,
      "outputs": [
        {
          "output_type": "stream",
          "name": "stdout",
          "text": [
            "4 2 2 1 8 7 6 5 "
          ]
        }
      ]
    },
    {
      "cell_type": "markdown",
      "source": [
        "<aside>\n",
        " **Question 4**\n",
        "\n",
        "Given a linked list, write a function to reverse every alternate k nodes (where k is an input to the function) in an efficient way. Give the complexity of your algorithm.\n",
        "\n",
        "\n",
        "\n",
        "</aside>"
      ],
      "metadata": {
        "id": "Rh3tdyfeBNby"
      }
    },
    {
      "cell_type": "code",
      "source": [
        "class ListNode:\n",
        "    def __init__(self, val=0, next=None):\n",
        "        self.val = val\n",
        "        self.next = next\n",
        "\n",
        "def reverseAlternateKGroup(head, k):\n",
        "    if head is None or k == 1:\n",
        "        return head\n",
        "\n",
        "    count = 0\n",
        "    current = head\n",
        "    while current is not None and count < k:\n",
        "        current = current.next\n",
        "        count += 1\n",
        "\n",
        "    if count < k:\n",
        "        return head\n",
        "\n",
        "    prev = None\n",
        "    current = head\n",
        "    next = None\n",
        "    count = 0\n",
        "\n",
        "    while current is not None and count < k:\n",
        "        next = current.next\n",
        "        current.next = prev\n",
        "        prev = current\n",
        "        current = next\n",
        "        count += 1\n",
        "\n",
        "    if next is not None:\n",
        "        head.next = next\n",
        "\n",
        "    count = 0\n",
        "    while current is not None and count < k - 1:\n",
        "        current = current.next\n",
        "        count += 1\n",
        "\n",
        "    if current is not None:\n",
        "        current.next = reverseAlternateKGroup(current.next, k)\n",
        "\n",
        "    return prev\n",
        "\n",
        "head = ListNode(1)\n",
        "head.next = ListNode(2)\n",
        "head.next.next = ListNode(3)\n",
        "head.next.next.next = ListNode(4)\n",
        "head.next.next.next.next = ListNode(5)\n",
        "head.next.next.next.next.next = ListNode(6)\n",
        "head.next.next.next.next.next.next = ListNode(7)\n",
        "head.next.next.next.next.next.next.next = ListNode(8)\n",
        "head.next.next.next.next.next.next.next.next = ListNode(9)\n",
        "\n",
        "k = 3\n",
        "\n",
        "new_head = reverseAlternateKGroup(head, k)\n",
        "\n",
        "current = new_head\n",
        "while current is not None:\n",
        "    print(current.val, end=\" \")\n",
        "    current = current.next\n",
        "\n"
      ],
      "metadata": {
        "colab": {
          "base_uri": "https://localhost:8080/"
        },
        "id": "s4lImjsdBST9",
        "outputId": "a346ad56-aae8-48e0-efd9-cd318d441253"
      },
      "execution_count": 9,
      "outputs": [
        {
          "output_type": "stream",
          "name": "stdout",
          "text": [
            "3 2 1 4 5 6 9 8 7 "
          ]
        }
      ]
    },
    {
      "cell_type": "markdown",
      "source": [
        "<aside>\n",
        "💡 **Question 5**\n",
        "\n",
        "Given a linked list and a key to be deleted. Delete last occurrence of key from linked. The list may have duplicates.\n",
        "\n",
        "**Examples**:\n",
        "Input:   1->2->3->5->2->10, key = 2\n",
        "Output:  1->2->3->5->10\n",
        "\n",
        "</aside>"
      ],
      "metadata": {
        "id": "p9X0aDqhB1a2"
      }
    },
    {
      "cell_type": "code",
      "source": [
        "class ListNode:\n",
        "    def __init__(self, val=0, next=None):\n",
        "        self.val = val\n",
        "        self.next = next\n",
        "\n",
        "def deleteLastOccurrence(head, key):\n",
        "    if head is None:\n",
        "        return None\n",
        "\n",
        "    last_occurrence = None\n",
        "    prev_last_occurrence = None\n",
        "    current = head\n",
        "    prev = None\n",
        "\n",
        "    while current is not None:\n",
        "        if current.val == key:\n",
        "            last_occurrence = current\n",
        "            prev_last_occurrence = prev\n",
        "\n",
        "        prev = current\n",
        "        current = current.next\n",
        "\n",
        "    if last_occurrence is None:\n",
        "        return head\n",
        "\n",
        "    if prev_last_occurrence is None:\n",
        "        head = head.next\n",
        "    else:\n",
        "        prev_last_occurrence.next = last_occurrence.next\n",
        "\n",
        "    return head\n",
        "\n",
        "head = ListNode(1)\n",
        "head.next = ListNode(2)\n",
        "head.next.next = ListNode(3)\n",
        "head.next.next.next = ListNode(5)\n",
        "head.next.next.next.next = ListNode(2)\n",
        "head.next.next.next.next.next = ListNode(10)\n",
        "\n",
        "key = 2\n",
        "\n",
        "new_head = deleteLastOccurrence(head, key)\n",
        "\n",
        "current = new_head\n",
        "while current is not None:\n",
        "    print(current.val, end=\" \")\n",
        "    current = current.next\n",
        "\n"
      ],
      "metadata": {
        "colab": {
          "base_uri": "https://localhost:8080/"
        },
        "id": "bltlMqemB9aG",
        "outputId": "a6772b35-ca1f-4a9f-9478-047a3075a768"
      },
      "execution_count": 10,
      "outputs": [
        {
          "output_type": "stream",
          "name": "stdout",
          "text": [
            "1 2 3 5 10 "
          ]
        }
      ]
    },
    {
      "cell_type": "markdown",
      "source": [
        "<aside>\n",
        " **Question 6**\n",
        "\n",
        "Given two sorted linked lists consisting of **N** and **M** nodes respectively. The task is to merge both of the lists (in place) and return the head of the merged list.\n",
        "\n",
        "**Examples:**\n",
        "\n",
        "Input: a: 5->10->15, b: 2->3->20\n",
        "\n",
        "Output: 2->3->5->10->15->20\n",
        "\n",
        "</aside>"
      ],
      "metadata": {
        "id": "gJ5T83t6CCHs"
      }
    },
    {
      "cell_type": "code",
      "source": [
        "class ListNode:\n",
        "    def __init__(self, val=0, next=None):\n",
        "        self.val = val\n",
        "        self.next = next\n",
        "\n",
        "def mergeSortedLists(a, b):\n",
        "    dummy = ListNode()\n",
        "    current = dummy\n",
        "\n",
        "    while a is not None and b is not None:\n",
        "        if a.val <= b.val:\n",
        "            current.next = a\n",
        "            a = a.next\n",
        "        else:\n",
        "            current.next = b\n",
        "            b = b.next\n",
        "        current = current.next\n",
        "\n",
        "    if a is not None:\n",
        "        current.next = a\n",
        "\n",
        "    if b is not None:\n",
        "        current.next = b\n",
        "\n",
        "    return dummy.next\n",
        "\n",
        "a = ListNode(5)\n",
        "a.next = ListNode(10)\n",
        "a.next.next = ListNode(15)\n",
        "\n",
        "b = ListNode(2)\n",
        "b.next = ListNode(3)\n",
        "b.next.next = ListNode(20)\n",
        "\n",
        "merged_list = mergeSortedLists(a, b)\n",
        "\n",
        "current = merged_list\n",
        "while current is not None:\n",
        "    print(current.val, end=\" \")\n",
        "    current = current.next\n",
        "\n"
      ],
      "metadata": {
        "colab": {
          "base_uri": "https://localhost:8080/"
        },
        "id": "8HREuZU7CQiF",
        "outputId": "0cc28a2f-87cc-4034-b093-e697f7a51c4f"
      },
      "execution_count": 11,
      "outputs": [
        {
          "output_type": "stream",
          "name": "stdout",
          "text": [
            "2 3 5 10 15 20 "
          ]
        }
      ]
    },
    {
      "cell_type": "markdown",
      "source": [
        "<aside>\n",
        "💡 **Question 7**\n",
        "\n",
        "Given a **Doubly Linked List**, the task is to reverse the given Doubly Linked List.\n",
        "\n",
        "**Example:**\n",
        "Original Linked list 10 8 4 2\n",
        "Reversed Linked list 2 4 8 10\n",
        "\n",
        "</aside>"
      ],
      "metadata": {
        "id": "_tHTK7p0CRIo"
      }
    },
    {
      "cell_type": "code",
      "source": [
        "class ListNode:\n",
        "    def __init__(self, val=0, prev=None, next=None):\n",
        "        self.val = val\n",
        "        self.prev = prev\n",
        "        self.next = next\n",
        "\n",
        "def reverseDoublyLinkedList(head):\n",
        "    if head is None:\n",
        "        return None\n",
        "\n",
        "    current = head\n",
        "    temp = None\n",
        "\n",
        "    while current is not None:\n",
        "        temp = current.next\n",
        "        current.next = current.prev\n",
        "        current.prev = temp\n",
        "        head = current\n",
        "        current = temp\n",
        "\n",
        "    return head\n",
        "\n",
        "head = ListNode(10)\n",
        "head.next = ListNode(8)\n",
        "head.next.prev = head\n",
        "head.next.next = ListNode(4)\n",
        "head.next.next.prev = head.next\n",
        "head.next.next.next = ListNode(2)\n",
        "head.next.next.next.prev = head.next.next\n",
        "\n",
        "reversed_head = reverseDoublyLinkedList(head)\n",
        "\n",
        "current = reversed_head\n",
        "while current is not None:\n",
        "    print(current.val, end=\" \")\n",
        "    current = current.next\n",
        "\n"
      ],
      "metadata": {
        "colab": {
          "base_uri": "https://localhost:8080/"
        },
        "id": "DIjFR6B6CoDb",
        "outputId": "c3da89c1-7a24-48c2-a07a-4c37bfbf6628"
      },
      "execution_count": 12,
      "outputs": [
        {
          "output_type": "stream",
          "name": "stdout",
          "text": [
            "2 4 8 10 "
          ]
        }
      ]
    },
    {
      "cell_type": "markdown",
      "source": [
        "<aside>\n",
        "💡 **Question 8**\n",
        "\n",
        "Given a doubly linked list and a position. The task is to delete a node from given position in a doubly linked list.\n",
        "\n",
        "\n",
        "\n",
        "</aside>"
      ],
      "metadata": {
        "id": "kaMyP4ouCoek"
      }
    },
    {
      "cell_type": "code",
      "source": [
        "class ListNode:\n",
        "    def __init__(self, val=0, prev=None, next=None):\n",
        "        self.val = val\n",
        "        self.prev = prev\n",
        "        self.next = next\n",
        "\n",
        "def deleteNodeFromPosition(head, position):\n",
        "    if head is None:\n",
        "        return None\n",
        "\n",
        "    if position == 1:\n",
        "        new_head = head.next\n",
        "        if new_head is not None:\n",
        "            new_head.prev = None\n",
        "        return new_head\n",
        "\n",
        "    current = head\n",
        "    count = 1\n",
        "\n",
        "    while current is not None and count < position:\n",
        "        current = current.next\n",
        "        count += 1\n",
        "\n",
        "    if current is None:\n",
        "        return head\n",
        "\n",
        "    current.prev.next = current.next\n",
        "\n",
        "    if current.next is not None:\n",
        "        current.next.prev = current.prev\n",
        "\n",
        "    return head\n",
        "\n",
        "head = ListNode(1)\n",
        "head.next = ListNode(3)\n",
        "head.next.prev = head\n",
        "head.next.next = ListNode(4)\n",
        "head.next.next.prev = head.next\n",
        "\n",
        "position = 3\n",
        "\n",
        "new_head = deleteNodeFromPosition(head, position)\n",
        "\n",
        "current = new_head\n",
        "while current is not None:\n",
        "    print(current.val, end=\" \")\n",
        "    current = current.next\n",
        "\n"
      ],
      "metadata": {
        "colab": {
          "base_uri": "https://localhost:8080/"
        },
        "id": "8xyiaPmfC4rN",
        "outputId": "f3b6203b-970c-4815-a9db-0b9e3ca724c3"
      },
      "execution_count": 13,
      "outputs": [
        {
          "output_type": "stream",
          "name": "stdout",
          "text": [
            "1 3 "
          ]
        }
      ]
    }
  ]
}