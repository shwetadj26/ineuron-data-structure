{
  "nbformat": 4,
  "nbformat_minor": 0,
  "metadata": {
    "colab": {
      "provenance": []
    },
    "kernelspec": {
      "name": "python3",
      "display_name": "Python 3"
    },
    "language_info": {
      "name": "python"
    }
  },
  "cells": [
    {
      "cell_type": "markdown",
      "source": [
        "<aside>\n",
        "💡 1. **Merge k Sorted Lists**\n",
        "\n",
        "You are given an array of `k` linked-lists `lists`, each linked-list is sorted in ascending order.\n",
        "\n",
        "*Merge all the linked-lists into one sorted linked-list and return it.*\n",
        "\n",
        "</aside>"
      ],
      "metadata": {
        "id": "7o8sEHX6DB7B"
      }
    },
    {
      "cell_type": "code",
      "execution_count": 2,
      "metadata": {
        "colab": {
          "base_uri": "https://localhost:8080/"
        },
        "id": "Yp_BpVjUC_GP",
        "outputId": "84385e53-4be9-4810-8c81-9871b438d3cc"
      },
      "outputs": [
        {
          "output_type": "stream",
          "name": "stdout",
          "text": [
            "[1, 1, 2, 3, 4, 4, 5, 6]\n"
          ]
        }
      ],
      "source": [
        "import heapq\n",
        "\n",
        "class ListNode:\n",
        "    def __init__(self, val=0, next=None):\n",
        "        self.val = val\n",
        "        self.next = next\n",
        "\n",
        "def mergeKLists(lists):\n",
        "    heap = []\n",
        "\n",
        "    for node in lists:\n",
        "        if node:\n",
        "            heapq.heappush(heap, (node.val, node))\n",
        "\n",
        "    dummy = ListNode(0)\n",
        "    current = dummy\n",
        "\n",
        "    while heap:\n",
        "        val, node = heapq.heappop(heap)\n",
        "\n",
        "        current.next = node\n",
        "        current = current.next\n",
        "\n",
        "        if node.next:\n",
        "            heapq.heappush(heap, (node.next.val, node.next))\n",
        "\n",
        "    return dummy.next\n",
        "\n",
        "list1 = ListNode(1)\n",
        "list1.next = ListNode(4)\n",
        "list1.next.next = ListNode(5)\n",
        "\n",
        "list2 = ListNode(1)\n",
        "list2.next = ListNode(3)\n",
        "list2.next.next = ListNode(4)\n",
        "\n",
        "list3 = ListNode(2)\n",
        "list3.next = ListNode(6)\n",
        "\n",
        "lists = [list1, list2, list3]\n",
        "merged_list = mergeKLists(lists)\n",
        "\n",
        "while merged_list:\n",
        "    print(merged_list.val, end=\" \")\n",
        "    merged_list = merged_list.next\n"
      ]
    },
    {
      "cell_type": "markdown",
      "source": [
        "<aside>\n",
        "💡 2. **Count of Smaller Numbers After Self**\n",
        "\n",
        "Given an integer array `nums`, return *an integer array* `counts` *where* `counts[i]` *is the number of smaller elements to the right of* `nums[i]`.\n",
        "\n",
        "</aside>"
      ],
      "metadata": {
        "id": "4Dg4vQ4mDDLu"
      }
    },
    {
      "cell_type": "code",
      "source": [
        "def countSmaller(nums):\n",
        "    def mergeSort(nums, indices):\n",
        "        if len(indices) <= 1:\n",
        "            return indices\n",
        "\n",
        "        mid = len(indices) // 2\n",
        "        left = mergeSort(nums, indices[:mid])\n",
        "        right = mergeSort(nums, indices[mid:])\n",
        "\n",
        "        merged = []\n",
        "        count = 0\n",
        "        i, j = 0, 0\n",
        "\n",
        "        while i < len(left) and j < len(right):\n",
        "            if nums[left[i]] > nums[right[j]]:\n",
        "                count += len(left) - i\n",
        "                merged.append(right[j])\n",
        "                j += 1\n",
        "            else:\n",
        "                merged.append(left[i])\n",
        "                i += 1\n",
        "\n",
        "        merged.extend(left[i:])\n",
        "        merged.extend(right[j:])\n",
        "\n",
        "        return merged\n",
        "\n",
        "    indices = list(range(len(nums)))\n",
        "    mergeSort(nums, indices)\n",
        "\n",
        "    return indices\n",
        "\n",
        "nums = [5, 2, 6, 1]\n",
        "result = countSmaller(nums)\n",
        "print(result)\n"
      ],
      "metadata": {
        "colab": {
          "base_uri": "https://localhost:8080/"
        },
        "id": "Mnh2CfAPDK-n",
        "outputId": "a69693de-9cae-488a-f03d-c2f25b812f3e"
      },
      "execution_count": 3,
      "outputs": [
        {
          "output_type": "stream",
          "name": "stdout",
          "text": [
            "[0, 1, 2, 3]\n"
          ]
        }
      ]
    },
    {
      "cell_type": "markdown",
      "source": [
        "<aside>\n",
        "💡 3. **Sort an Array**\n",
        "\n",
        "Given an array of integers `nums`, sort the array in ascending order and return it.\n",
        "\n",
        "You must solve the problem **without using any built-in** functions in `O(nlog(n))` time complexity and with the smallest space complexity possible.\n",
        "\n",
        "</aside>"
      ],
      "metadata": {
        "id": "RzGQV1MBDajY"
      }
    },
    {
      "cell_type": "code",
      "source": [
        "def sortArray(nums):\n",
        "    def mergeSort(nums, indices):\n",
        "        if len(indices) <= 1:\n",
        "            return indices\n",
        "\n",
        "        mid = len(indices) // 2\n",
        "        left = mergeSort(nums, indices[:mid])\n",
        "        right = mergeSort(nums, indices[mid:])\n",
        "\n",
        "        merged = []\n",
        "        i, j = 0, 0\n",
        "\n",
        "        while i < len(left) and j < len(right):\n",
        "            if nums[left[i]] <= nums[right[j]]:\n",
        "                merged.append(left[i])\n",
        "                i += 1\n",
        "            else:\n",
        "                merged.append(right[j])\n",
        "                j += 1\n",
        "\n",
        "        merged.extend(left[i:])\n",
        "        merged.extend(right[j:])\n",
        "\n",
        "        return merged\n",
        "\n",
        "    indices = list(range(len(nums)))\n",
        "    sorted_indices = mergeSort(nums, indices)\n",
        "\n",
        "    sortedNums = [nums[i] for i in sorted_indices]\n",
        "\n",
        "    return sortedNums\n",
        "\n",
        "nums = [5, 2, 3, 1]\n",
        "result = sortArray(nums)\n",
        "print(result)\n"
      ],
      "metadata": {
        "colab": {
          "base_uri": "https://localhost:8080/"
        },
        "id": "3WPDuH5GD4GJ",
        "outputId": "3367d4ff-f933-4acf-ff2c-13f55eebb90a"
      },
      "execution_count": 4,
      "outputs": [
        {
          "output_type": "stream",
          "name": "stdout",
          "text": [
            "[1, 2, 3, 5]\n"
          ]
        }
      ]
    },
    {
      "cell_type": "markdown",
      "source": [
        "<aside>\n",
        "💡 4. **Move all zeroes to end of array**\n",
        "\n",
        "Given an array of random numbers, Push all the zero’s of a given array to the end of the array. For example, if the given arrays is {1, 9, 8, 4, 0, 0, 2, 7, 0, 6, 0}, it should be changed to {1, 9, 8, 4, 2, 7, 6, 0, 0, 0, 0}. The order of all other elements should be same. Expected time complexity is O(n) and extra space is O(1).\n",
        "\n",
        "</aside>"
      ],
      "metadata": {
        "id": "9-bbxbkvEA9I"
      }
    },
    {
      "cell_type": "code",
      "source": [
        "def moveZeroes(nums):\n",
        "    left = 0\n",
        "    right = len(nums) - 1\n",
        "\n",
        "    while left < right:\n",
        "        if nums[left] == 0 and nums[right] != 0:\n",
        "            nums[left], nums[right] = nums[right], nums[left]\n",
        "\n",
        "        if nums[left] != 0:\n",
        "            left += 1\n",
        "\n",
        "        if nums[right] == 0:\n",
        "            right -= 1\n",
        "\n",
        "    return nums\n",
        "\n",
        "arr = [1, 2, 0, 4, 3, 0, 5, 0]\n",
        "result = moveZeroes(arr)\n",
        "print(result)\n"
      ],
      "metadata": {
        "colab": {
          "base_uri": "https://localhost:8080/"
        },
        "id": "ZkJJddxrEK-G",
        "outputId": "819aecf8-d962-443d-d94b-1d77f0a703b0"
      },
      "execution_count": 5,
      "outputs": [
        {
          "output_type": "stream",
          "name": "stdout",
          "text": [
            "[1, 2, 5, 4, 3, 0, 0, 0]\n"
          ]
        }
      ]
    },
    {
      "cell_type": "markdown",
      "source": [
        "<aside>\n",
        "💡 5. **Rearrange array in alternating positive & negative items with O(1) extra space**\n",
        "\n",
        "Given an **array of positive** and **negative numbers**, arrange them in an **alternate** fashion such that every positive number is followed by a negative and vice-versa maintaining the **order of appearance**. The number of positive and negative numbers need not be equal. If there are more positive numbers they appear at the end of the array. If there are more negative numbers, they too appear at the end of the array.\n",
        "\n",
        "</aside>"
      ],
      "metadata": {
        "id": "JezK3BHTEPtJ"
      }
    },
    {
      "cell_type": "code",
      "source": [
        "def rearrangeArray(arr):\n",
        "    left = 0\n",
        "    right = len(arr) - 1\n",
        "\n",
        "    while left < right:\n",
        "        while left < right and arr[left] > 0:\n",
        "            left += 1\n",
        "\n",
        "        while left < right and arr[right] < 0:\n",
        "            right -= 1\n",
        "\n",
        "        if left < right:\n",
        "            arr[left], arr[right] = arr[right], arr[left]\n",
        "\n",
        "    return arr\n",
        "\n",
        "arr = [1, 2, 3, -4, -1, 4]\n",
        "result = rearrangeArray(arr)\n",
        "print(result)\n"
      ],
      "metadata": {
        "colab": {
          "base_uri": "https://localhost:8080/"
        },
        "id": "iwaMYdm3EZ8-",
        "outputId": "fc2496f6-6c9a-48b0-8912-10497537fbdd"
      },
      "execution_count": 6,
      "outputs": [
        {
          "output_type": "stream",
          "name": "stdout",
          "text": [
            "[1, 2, 3, 4, -1, -4]\n"
          ]
        }
      ]
    },
    {
      "cell_type": "markdown",
      "source": [
        "<aside>\n",
        "💡 **6. Merge two sorted arrays**\n",
        "\n",
        "Given two sorted arrays, the task is to merge them in a sorted manner.\n",
        "\n",
        "</aside>"
      ],
      "metadata": {
        "id": "aNxtRH0GEanw"
      }
    },
    {
      "cell_type": "code",
      "source": [
        "def mergeArrays(arr1, arr2):\n",
        "    n1 = len(arr1)\n",
        "    n2 = len(arr2)\n",
        "    arr3 = []\n",
        "    i = j = k = 0\n",
        "\n",
        "    while i < n1 and j < n2:\n",
        "        if arr1[i] <= arr2[j]:\n",
        "            arr3.append(arr1[i])\n",
        "            i += 1\n",
        "        else:\n",
        "            arr3.append(arr2[j])\n",
        "            j += 1\n",
        "        k += 1\n",
        "\n",
        "    while i < n1:\n",
        "        arr3.append(arr1[i])\n",
        "        i += 1\n",
        "        k += 1\n",
        "\n",
        "    while j < n2:\n",
        "        arr3.append(arr2[j])\n",
        "        j += 1\n",
        "        k += 1\n",
        "\n",
        "    return arr3\n",
        "\n",
        "arr1 = [1, 3, 4, 5]\n",
        "arr2 = [2, 4, 6, 8]\n",
        "result = mergeArrays(arr1, arr2)\n",
        "print(result)\n"
      ],
      "metadata": {
        "colab": {
          "base_uri": "https://localhost:8080/"
        },
        "id": "fwb-PEnREcZ8",
        "outputId": "0b560374-a0a7-4b30-b0aa-8e8018a4224b"
      },
      "execution_count": 7,
      "outputs": [
        {
          "output_type": "stream",
          "name": "stdout",
          "text": [
            "[1, 2, 3, 4, 4, 5, 6, 8]\n"
          ]
        }
      ]
    },
    {
      "cell_type": "markdown",
      "source": [
        "<aside>\n",
        "💡 7. **Intersection of Two Arrays**\n",
        "\n",
        "Given two integer arrays `nums1` and `nums2`, return *an array of their intersection*. Each element in the result must be **unique** and you may return the result in **any order**.\n",
        "\n",
        "</aside>"
      ],
      "metadata": {
        "id": "Au2PGAhVEm82"
      }
    },
    {
      "cell_type": "code",
      "source": [
        "def intersection(nums1, nums2):\n",
        "    set1 = set(nums1)\n",
        "    set2 = set(nums2)\n",
        "    intersection_set = set1.intersection(set2)\n",
        "    intersection_list = list(intersection_set)\n",
        "    return intersection_list\n",
        "\n",
        "nums1 = [1, 2, 2, 1]\n",
        "nums2 = [2, 2]\n",
        "result = intersection(nums1, nums2)\n",
        "print(result)\n"
      ],
      "metadata": {
        "colab": {
          "base_uri": "https://localhost:8080/"
        },
        "id": "ikj1XDdwEoLi",
        "outputId": "dd03e5a5-6d9a-48df-8ad4-a5fa1b9996e2"
      },
      "execution_count": 8,
      "outputs": [
        {
          "output_type": "stream",
          "name": "stdout",
          "text": [
            "[2]\n"
          ]
        }
      ]
    },
    {
      "cell_type": "markdown",
      "source": [
        "<aside>\n",
        "💡 8. **Intersection of Two Arrays II**\n",
        "\n",
        "Given two integer arrays `nums1` and `nums2`, return *an array of their intersection*. Each element in the result must appear as many times as it shows in both arrays and you may return the result in **any order**\n",
        "\n",
        "</aside>"
      ],
      "metadata": {
        "id": "Fi9y9iCkEzLG"
      }
    },
    {
      "cell_type": "code",
      "source": [
        "from collections import Counter\n",
        "\n",
        "def intersect(nums1, nums2):\n",
        "    dict1 = Counter(nums1)\n",
        "    dict2 = Counter(nums2)\n",
        "    intersection = []\n",
        "\n",
        "    for num in dict1:\n",
        "        if num in dict2:\n",
        "            count = min(dict1[num], dict2[num])\n",
        "            intersection.extend([num] * count)\n",
        "\n",
        "    return intersection\n",
        "\n",
        "nums1 = [1, 2, 2, 1]\n",
        "nums2 = [2, 2]\n",
        "result = intersect(nums1, nums2)\n",
        "print(result)\n"
      ],
      "metadata": {
        "colab": {
          "base_uri": "https://localhost:8080/"
        },
        "id": "H4FHbSlAE0ZJ",
        "outputId": "4f0a4edf-70e2-497d-809e-3d18653dedb9"
      },
      "execution_count": 9,
      "outputs": [
        {
          "output_type": "stream",
          "name": "stdout",
          "text": [
            "[2, 2]\n"
          ]
        }
      ]
    }
  ]
}