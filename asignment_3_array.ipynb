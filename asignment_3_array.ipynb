{
  "nbformat": 4,
  "nbformat_minor": 0,
  "metadata": {
    "colab": {
      "provenance": []
    },
    "kernelspec": {
      "name": "python3",
      "display_name": "Python 3"
    },
    "language_info": {
      "name": "python"
    }
  },
  "cells": [
    {
      "cell_type": "markdown",
      "source": [
        "Question 1\n",
        "Given an integer array nums of length n and an integer target, find three integers\n",
        "in nums such that the sum is closest to the target.\n",
        "Return the sum of the three integers.\n",
        "\n",
        "You may assume that each input would have exactly one solution.\n",
        "\n",
        "Example 1:\n",
        "Input: nums = [-1,2,1,-4], target = 1\n",
        "Output: 2\n",
        "\n",
        "Explanation: The sum that is closest to the target is 2. (-1 + 2 + 1 = 2)."
      ],
      "metadata": {
        "id": "o5_6pfvtFYBc"
      }
    },
    {
      "cell_type": "code",
      "execution_count": null,
      "metadata": {
        "colab": {
          "base_uri": "https://localhost:8080/"
        },
        "id": "8DWneIGPFSbB",
        "outputId": "395d6865-5528-4c78-e4f0-2c565df69d3f"
      },
      "outputs": [
        {
          "output_type": "stream",
          "name": "stdout",
          "text": [
            "2\n"
          ]
        }
      ],
      "source": [
        "def Sum(nums, target):\n",
        "    nums.sort()\n",
        "    n = len(nums)\n",
        "    closest_sum = float('inf')\n",
        "\n",
        "    for i in range(n - 2):\n",
        "        left = i + 1\n",
        "        right = n - 1\n",
        "\n",
        "        while left < right:\n",
        "            current_sum = nums[i] + nums[left] + nums[right]\n",
        "\n",
        "            if abs(current_sum - target) < abs(closest_sum - target):\n",
        "                closest_sum = current_sum\n",
        "\n",
        "            if current_sum < target:\n",
        "                left += 1\n",
        "            elif current_sum > target:\n",
        "                right -= 1\n",
        "            else:\n",
        "                return target\n",
        "\n",
        "    return closest_sum\n",
        "\n",
        "\n",
        "nums = [-1, 2, 1, -4]\n",
        "target = 1\n",
        "result = Sum(nums, target)\n",
        "print(result)\n"
      ]
    },
    {
      "cell_type": "markdown",
      "source": [
        "Question 2\n",
        "Given an array nums of n integers, return an array of all the unique quadruplets\n",
        "[nums[a], nums[b], nums[c], nums[d]] such that:\n",
        "           ● 0 <= a, b, c, d < n\n",
        "           ● a, b, c, and d are distinct.\n",
        "           ● nums[a] + nums[b] + nums[c] + nums[d] == target\n",
        "\n",
        "You may return the answer in any order.\n",
        "\n",
        "Example 1:\n",
        "Input: nums = [1,0,-1,0,-2,2], target = 0\n",
        "Output: [[-2,-1,1,2],[-2,0,0,2],[-1,0,0,1]]"
      ],
      "metadata": {
        "id": "Td2YuWWiFlJc"
      }
    },
    {
      "cell_type": "code",
      "source": [
        "def Summation(nums, target):\n",
        "    nums.sort()\n",
        "    n = len(nums)\n",
        "    result = []\n",
        "\n",
        "    for i in range(n - 3):\n",
        "        if i > 0 and nums[i] == nums[i - 1]:\n",
        "            continue\n",
        "\n",
        "        for j in range(i + 1, n - 2):\n",
        "            if j > i + 1 and nums[j] == nums[j - 1]:\n",
        "                continue\n",
        "\n",
        "            left = j + 1\n",
        "            right = n - 1\n",
        "\n",
        "            while left < right:\n",
        "                current_sum = nums[i] + nums[j] + nums[left] + nums[right]\n",
        "\n",
        "                if current_sum == target:\n",
        "                    result.append([nums[i], nums[j], nums[left], nums[right]])\n",
        "\n",
        "                    while left < right and nums[left] == nums[left + 1]:\n",
        "                        left += 1\n",
        "                    while left < right and nums[right] == nums[right - 1]:\n",
        "                        right -= 1\n",
        "\n",
        "                    left += 1\n",
        "                    right -= 1\n",
        "                elif current_sum < target:\n",
        "                    left += 1\n",
        "                else:\n",
        "                    right -= 1\n",
        "\n",
        "    return result\n",
        "\n",
        "\n",
        "nums = [1, 0, -1, 0, -2, 2]\n",
        "target = 0\n",
        "result = Summation(nums, target)\n",
        "print(result)\n"
      ],
      "metadata": {
        "colab": {
          "base_uri": "https://localhost:8080/"
        },
        "id": "GaZ8yfCZFnIg",
        "outputId": "640dee19-da57-4a3a-f905-d23553a428b3"
      },
      "execution_count": null,
      "outputs": [
        {
          "output_type": "stream",
          "name": "stdout",
          "text": [
            "[[-2, -1, 1, 2], [-2, 0, 0, 2], [-1, 0, 0, 1]]\n"
          ]
        }
      ]
    },
    {
      "cell_type": "markdown",
      "source": [
        "<aside>\n",
        "💡 **Question 3**\n",
        "A permutation of an array of integers is an arrangement of its members into a\n",
        "sequence or linear order.\n",
        "\n",
        "For example, for arr = [1,2,3], the following are all the permutations of arr:\n",
        "[1,2,3], [1,3,2], [2, 1, 3], [2, 3, 1], [3,1,2], [3,2,1].\n",
        "\n",
        "The next permutation of an array of integers is the next lexicographically greater\n",
        "permutation of its integer. More formally, if all the permutations of the array are\n",
        "sorted in one container according to their lexicographical order, then the next\n",
        "permutation of that array is the permutation that follows it in the sorted container.\n",
        "\n",
        "If such an arrangement is not possible, the array must be rearranged as the\n",
        "lowest possible order (i.e., sorted in ascending order).\n",
        "\n",
        "● For example, the next permutation of arr = [1,2,3] is [1,3,2].\n",
        "● Similarly, the next permutation of arr = [2,3,1] is [3,1,2].\n",
        "● While the next permutation of arr = [3,2,1] is [1,2,3] because [3,2,1] does not\n",
        "have a lexicographical larger rearrangement.\n",
        "\n",
        "Given an array of integers nums, find the next permutation of nums.\n",
        "The replacement must be in place and use only constant extra memory.\n",
        "\n",
        "**Example 1:**\n",
        "Input: nums = [1,2,3]\n",
        "Output: [1,3,2]\n",
        "\n",
        "</aside>"
      ],
      "metadata": {
        "id": "JJp-vcjUF6J7"
      }
    },
    {
      "cell_type": "code",
      "source": [
        "def Permutation(nums):\n",
        "    n = len(nums)\n",
        "    i = n - 2\n",
        "\n",
        "\n",
        "    while i >= 0 and nums[i] >= nums[i + 1]:\n",
        "        i -= 1\n",
        "\n",
        "    if i >= 0:\n",
        "        \n",
        "        j = n - 1\n",
        "        while j > i and nums[j] <= nums[i]:\n",
        "            j -= 1\n",
        "\n",
        "       \n",
        "        nums[i], nums[j] = nums[j], nums[i]\n",
        "\n",
        "\n",
        "    left = i + 1\n",
        "    right = n - 1\n",
        "    while left < right:\n",
        "        nums[left], nums[right] = nums[right], nums[left]\n",
        "        left += 1\n",
        "        right -= 1\n",
        "\n",
        "\n",
        "nums = [1, 2, 3]\n",
        "tPermutation(nums)\n",
        "print(nums)\n"
      ],
      "metadata": {
        "colab": {
          "base_uri": "https://localhost:8080/"
        },
        "id": "koRwsjo5F7ha",
        "outputId": "e73b59ab-e6c7-4b4c-b418-537bed0d10a1"
      },
      "execution_count": null,
      "outputs": [
        {
          "output_type": "stream",
          "name": "stdout",
          "text": [
            "[1, 3, 2]\n"
          ]
        }
      ]
    },
    {
      "cell_type": "markdown",
      "source": [
        "Question 4\n",
        "Given a sorted array of distinct integers and a target value, return the index if the\n",
        "target is found. If not, return the index where it would be if it were inserted in\n",
        "order.\n",
        "\n",
        "You must write an algorithm with O(log n) runtime complexity.\n",
        "\n",
        "Example 1:\n",
        "Input: nums = [1,3,5,6], target = 5\n",
        "Output: 2"
      ],
      "metadata": {
        "id": "_J_V-Oo0GAc_"
      }
    },
    {
      "cell_type": "code",
      "source": [
        "def Insert(nums, target):\n",
        "    left = 0\n",
        "    right = len(nums) - 1\n",
        "\n",
        "    while left <= right:\n",
        "        mid = (left + right) // 2\n",
        "        if nums[mid] == target:\n",
        "            return mid\n",
        "        elif nums[mid] < target:\n",
        "            left = mid + 1\n",
        "        else:\n",
        "            right = mid - 1\n",
        "\n",
        "    return left\n",
        "\n",
        "\n",
        "nums = [1, 3, 5, 6]\n",
        "target = 5\n",
        "result= Insert(nums, target)\n",
        "print(result)\n"
      ],
      "metadata": {
        "colab": {
          "base_uri": "https://localhost:8080/"
        },
        "id": "317gtOySGewM",
        "outputId": "5d79b497-dcd0-4138-b826-626387970bcf"
      },
      "execution_count": null,
      "outputs": [
        {
          "output_type": "stream",
          "name": "stdout",
          "text": [
            "2\n"
          ]
        }
      ]
    },
    {
      "cell_type": "markdown",
      "source": [
        "<aside>\n",
        "💡 **Question 5**\n",
        "You are given a large integer represented as an integer array digits, where each\n",
        "digits[i] is the ith digit of the integer. The digits are ordered from most significant\n",
        "to least significant in left-to-right order. The large integer does not contain any\n",
        "leading 0's.\n",
        "\n",
        "Increment the large integer by one and return the resulting array of digits.\n",
        "\n",
        "**Example 1:**\n",
        "Input: digits = [1,2,3]\n",
        "Output: [1,2,4]\n",
        "\n",
        "**Explanation:** The array represents the integer 123.\n",
        "Incrementing by one gives 123 + 1 = 124.\n",
        "Thus, the result should be [1,2,4].\n",
        "\n",
        "</aside>"
      ],
      "metadata": {
        "id": "iMYnPb05GqGT"
      }
    },
    {
      "cell_type": "code",
      "source": [
        "def addition(num):\n",
        "    carry = 1\n",
        "    for i in range(len(num) - 1, -1, -1):\n",
        "        num[i] += carry\n",
        "        if num[i] < 10:\n",
        "            carry = 0\n",
        "            break\n",
        "        num[i] = 0\n",
        "    if carry == 1:\n",
        "        num.insert(0, 1)\n",
        "    return num\n",
        "\n",
        "\n",
        "num = [1, 2, 3]\n",
        "result = addition(num)\n",
        "print(result)\n"
      ],
      "metadata": {
        "colab": {
          "base_uri": "https://localhost:8080/"
        },
        "id": "ktSdgHPwGsgw",
        "outputId": "69010bcc-7974-44b7-f0af-30738b6b3cfd"
      },
      "execution_count": null,
      "outputs": [
        {
          "output_type": "stream",
          "name": "stdout",
          "text": [
            "[1, 2, 4]\n"
          ]
        }
      ]
    },
    {
      "cell_type": "markdown",
      "source": [
        "Question 6\n",
        "Given a non-empty array of integers nums, every element appears twice except\n",
        "for one. Find that single one.\n",
        "\n",
        "You must implement a solution with a linear runtime complexity and use only\n",
        "constant extra space.\n",
        "\n",
        "Example 1:\n",
        "Input: nums = [2,2,1]\n",
        "Output: 1"
      ],
      "metadata": {
        "id": "6305lHL_GxJt"
      }
    },
    {
      "cell_type": "code",
      "source": [
        "def Number(nums):\n",
        "    result = 0\n",
        "    for num in nums:\n",
        "        result ^= num\n",
        "    return result\n",
        "\n",
        "\n",
        "nums = [2, 2, 1]\n",
        "result = Number(nums)\n",
        "print(result)\n"
      ],
      "metadata": {
        "id": "LrQQefWuIL9c"
      },
      "execution_count": null,
      "outputs": []
    },
    {
      "cell_type": "markdown",
      "source": [
        "Question 7\n",
        "You are given an inclusive range [lower, upper] and a sorted unique integer array\n",
        "nums, where all elements are within the inclusive range.\n",
        "\n",
        "A number x is considered missing if x is in the range [lower, upper] and x is not in\n",
        "nums.\n",
        "\n",
        "Return the shortest sorted list of ranges that exactly covers all the missing\n",
        "numbers. That is, no element of nums is included in any of the ranges, and each\n",
        "missing number is covered by one of the ranges.\n",
        "\n",
        "Example 1:\n",
        "Input: nums = [0,1,3,50,75], lower = 0, upper = 99\n",
        "Output: [[2,2],[4,49],[51,74],[76,99]]\n",
        "\n",
        "Explanation: The ranges are:\n",
        "[2,2]\n",
        "[4,49]\n",
        "[51,74]\n",
        "[76,99]"
      ],
      "metadata": {
        "id": "7DsBQyoRIM-v"
      }
    },
    {
      "cell_type": "code",
      "source": [
        "def value(nums, lower, upper):\n",
        "    result = []\n",
        "    prev = lower - 1\n",
        "\n",
        "    for i in nums + [upper + 1]:\n",
        "        if i > prev + 1:\n",
        "            if prev + 1 == i - 1:\n",
        "                result.append(str(prev + 1))\n",
        "            else:\n",
        "                result.append(str(prev + 1) + \"->\" + str(i - 1))\n",
        "        prev = i\n",
        "\n",
        "    return result\n",
        "\n",
        "\n",
        "nums = [0, 1, 3, 50, 75]\n",
        "lower = 0\n",
        "upper = 99\n",
        "result = value(nums, lower, upper)\n",
        "print(result)\n"
      ],
      "metadata": {
        "colab": {
          "base_uri": "https://localhost:8080/"
        },
        "id": "9-qIfWQ1IRhR",
        "outputId": "7e3ce657-2dc1-4c25-c538-0ebec5e70ea9"
      },
      "execution_count": null,
      "outputs": [
        {
          "output_type": "stream",
          "name": "stdout",
          "text": [
            "['2', '4->49', '51->74', '76->99']\n"
          ]
        }
      ]
    },
    {
      "cell_type": "markdown",
      "source": [
        "Question 8\n",
        "Given an array of meeting time intervals where intervals[i] = [starti, endi],\n",
        "determine if a person could attend all meetings.\n",
        "\n",
        "Example 1:\n",
        "Input: intervals = [[0,30],[5,10],[15,20]]\n",
        "Output: false"
      ],
      "metadata": {
        "id": "5a23FIKnIfoK"
      }
    },
    {
      "cell_type": "code",
      "source": [
        "def met(intervals):\n",
        "    intervals.sort(key=lambda x: x[0])  \n",
        "\n",
        "    for i in range(1, len(intervals)):\n",
        "        if intervals[i][0] < intervals[i-1][1]:\n",
        "            return False\n",
        "\n",
        "    return True\n",
        "\n",
        "\n",
        "intervals = [[0, 30], [5, 10], [15, 20]]\n",
        "result = met(intervals)\n",
        "print(result)\n"
      ],
      "metadata": {
        "colab": {
          "base_uri": "https://localhost:8080/"
        },
        "id": "aw2NBsVQIg5x",
        "outputId": "86b3724b-51e1-4400-cdb7-f1bb8a1ffe41"
      },
      "execution_count": null,
      "outputs": [
        {
          "output_type": "stream",
          "name": "stdout",
          "text": [
            "False\n"
          ]
        }
      ]
    }
  ]
}